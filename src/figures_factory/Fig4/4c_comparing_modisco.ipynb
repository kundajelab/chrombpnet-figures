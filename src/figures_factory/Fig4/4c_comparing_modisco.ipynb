{
 "cells": [
  {
   "cell_type": "code",
   "execution_count": 1,
   "metadata": {},
   "outputs": [],
   "source": [
    "import pandas as pd\n",
    "\n",
    "main_dir=\"/mnt/lab_data3/anusri/chrombpnet/results/chrombpnet/ATAC_PE/\"\n",
    "\n",
    "data_500M =  main_dir+\"GM12878/GM12878_03.01.2022_bias_128_4_1234_0.4_fold_0/09_06_2022_motif_scanning/\"\n",
    "data_250M =  main_dir+\"GM12878_250M/GM12878_250M_07.19.2022_bias_transfer_1234_fold_0_data_type_ATAC_PE/09_06_2022_motif_scanning/\"\n",
    "data_100M =  main_dir+\"GM12878_100M/GM12878_100M_07.19.2022_bias_transfer_1234_fold_0_data_type_ATAC_PE/09_06_2022_motif_scanning/\"\n",
    "data_50M =  main_dir+\"GM12878_50M/GM12878_50M_07.18.2022_bias_transfer_1234_fold_0_data_type_ATAC_PE/09_06_2022_motif_scanning/\"\n",
    "data_25M =  main_dir+\"GM12878_25M/GM12878_25M_07.18.2022_bias_transfer_1234_fold_0_data_type_ATAC_PE/09_06_2022_motif_scanning/\"\n",
    "data_5M =  main_dir+\"GM12878_5M/GM12878_5M_07.18.2022_bias_transfer_1234_fold_0_data_type_ATAC_PE/09_06_2022_motif_scanning/\"\n",
    "\n"
   ]
  },
  {
   "cell_type": "code",
   "execution_count": 9,
   "metadata": {},
   "outputs": [],
   "source": [
    "def read_data(tomtom_path_atac,annotations_path,model_name):\n",
    "    atac_data = pd.read_csv(tomtom_path_atac,sep=\",\",names=[\"Pattern\",\"Num_Seqlets\"])\n",
    "    atac_data[\"Num_Seqlets\"] = atac_data[\"Num_Seqlets\"]/sum(atac_data[\"Num_Seqlets\"])\n",
    "    annotations = pd.read_csv(annotations_path,sep=\",\", names=[\"Pattern\", \"Label\"])\n",
    "    merged = pd.merge(annotations,atac_data,on=\"Pattern\",how=\"inner\")\n",
    "    merged = merged[merged[\"Num_Seqlets\"]>0.01]\n",
    "    merged[\"model\"] = model_name\n",
    "    return merged\n"
   ]
  },
  {
   "cell_type": "code",
   "execution_count": 10,
   "metadata": {},
   "outputs": [],
   "source": [
    "df1 = read_data(data_500M+\"counts_counts.csv\",data_500M+\"counts_annotations.csv\", \"572M\")\n",
    "df2 = read_data(data_250M+\"counts_counts.csv\",data_250M+\"counts_annotations.csv\", \"250M\")\n",
    "df3 = read_data(data_100M+\"counts_counts.csv\",data_100M+\"counts_annotations.csv\", \"100M\")\n",
    "df4 = read_data(data_50M+\"counts_counts.csv\",data_50M+\"counts_annotations.csv\", \"50M\")\n",
    "df5 = read_data(data_25M+\"counts_counts.csv\",data_25M+\"counts_annotations.csv\", \"25M\")\n",
    "df6 = read_data(data_5M+\"counts_counts.csv\",data_5M+\"counts_annotations.csv\", \"5M\")\n",
    "\n",
    "\n",
    "df1 = df1.append(df2, ignore_index=True)\n",
    "df1 = df1.append(df3, ignore_index=True)\n",
    "df1 = df1.append(df4, ignore_index=True)\n",
    "df1 = df1.append(df5, ignore_index=True)\n",
    "df1 = df1.append(df6, ignore_index=True)"
   ]
  },
  {
   "cell_type": "code",
   "execution_count": 11,
   "metadata": {},
   "outputs": [],
   "source": [
    "df1[\"Label\"] = df1['Label'].str.split('.').str[0]"
   ]
  },
  {
   "cell_type": "code",
   "execution_count": 12,
   "metadata": {},
   "outputs": [],
   "source": [
    "df1[[\"Label\", \"model\", \"Num_Seqlets\"]].to_csv(\"subfigs/modisco_compare/combine_pd_benchmark.csv\",sep=\",\",header=False,index=False)"
   ]
  },
  {
   "cell_type": "code",
   "execution_count": 13,
   "metadata": {},
   "outputs": [
    {
     "data": {
      "text/html": [
       "<div>\n",
       "<style scoped>\n",
       "    .dataframe tbody tr th:only-of-type {\n",
       "        vertical-align: middle;\n",
       "    }\n",
       "\n",
       "    .dataframe tbody tr th {\n",
       "        vertical-align: top;\n",
       "    }\n",
       "\n",
       "    .dataframe thead th {\n",
       "        text-align: right;\n",
       "    }\n",
       "</style>\n",
       "<table border=\"1\" class=\"dataframe\">\n",
       "  <thead>\n",
       "    <tr style=\"text-align: right;\">\n",
       "      <th></th>\n",
       "      <th>Pattern</th>\n",
       "      <th>Label</th>\n",
       "      <th>Num_Seqlets</th>\n",
       "      <th>model</th>\n",
       "    </tr>\n",
       "  </thead>\n",
       "  <tbody>\n",
       "    <tr>\n",
       "      <th>0</th>\n",
       "      <td>0_0</td>\n",
       "      <td>IRF1</td>\n",
       "      <td>0.176305</td>\n",
       "      <td>572M</td>\n",
       "    </tr>\n",
       "    <tr>\n",
       "      <th>1</th>\n",
       "      <td>0_1</td>\n",
       "      <td>CTCF</td>\n",
       "      <td>0.163033</td>\n",
       "      <td>572M</td>\n",
       "    </tr>\n",
       "    <tr>\n",
       "      <th>2</th>\n",
       "      <td>0_2</td>\n",
       "      <td>SPIB</td>\n",
       "      <td>0.146000</td>\n",
       "      <td>572M</td>\n",
       "    </tr>\n",
       "    <tr>\n",
       "      <th>3</th>\n",
       "      <td>0_3</td>\n",
       "      <td>FOS+JUN</td>\n",
       "      <td>0.083134</td>\n",
       "      <td>572M</td>\n",
       "    </tr>\n",
       "    <tr>\n",
       "      <th>4</th>\n",
       "      <td>0_4</td>\n",
       "      <td>RUNX</td>\n",
       "      <td>0.067884</td>\n",
       "      <td>572M</td>\n",
       "    </tr>\n",
       "  </tbody>\n",
       "</table>\n",
       "</div>"
      ],
      "text/plain": [
       "  Pattern    Label  Num_Seqlets model\n",
       "0     0_0     IRF1     0.176305  572M\n",
       "1     0_1     CTCF     0.163033  572M\n",
       "2     0_2     SPIB     0.146000  572M\n",
       "3     0_3  FOS+JUN     0.083134  572M\n",
       "4     0_4     RUNX     0.067884  572M"
      ]
     },
     "execution_count": 13,
     "metadata": {},
     "output_type": "execute_result"
    }
   ],
   "source": [
    "df1.head()"
   ]
  },
  {
   "cell_type": "code",
   "execution_count": null,
   "metadata": {},
   "outputs": [],
   "source": []
  },
  {
   "cell_type": "code",
   "execution_count": null,
   "metadata": {},
   "outputs": [],
   "source": []
  }
 ],
 "metadata": {
  "kernelspec": {
   "display_name": "Python 3",
   "language": "python",
   "name": "python3"
  },
  "language_info": {
   "codemirror_mode": {
    "name": "ipython",
    "version": 3
   },
   "file_extension": ".py",
   "mimetype": "text/x-python",
   "name": "python",
   "nbconvert_exporter": "python",
   "pygments_lexer": "ipython3",
   "version": "3.7.6"
  }
 },
 "nbformat": 4,
 "nbformat_minor": 4
}
