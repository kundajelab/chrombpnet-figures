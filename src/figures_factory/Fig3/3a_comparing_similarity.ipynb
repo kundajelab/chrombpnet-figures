{
 "cells": [
  {
   "cell_type": "code",
   "execution_count": 1,
   "metadata": {},
   "outputs": [],
   "source": [
    "#atac_dir = \"/mnt/lab_data2/anusri/chrombpnet/results/chrombpnet/ATAC_PE/GM12878/nautilus_runs/GM12878_03.01.2022_bias_128_4_1234_0.4_fold_0/interpret/\"\n",
    "#dnase_dir = \"/mnt/lab_data2/anusri/chrombpnet/results/chrombpnet/DNASE_SE/GM12878/nautilus_runs/GM12878_03.06.2022_bias_128_4_1234_0.8_fold_0/interpret/\"\n",
    "\n",
    "#atac_obs = \"/mnt/lab_data2/anusri/chrombpnet/results/chrombpnet/ATAC_PE/GM12878/data/GM12878_unstranded.bw\"\n",
    "#dnase_obs = \"/mnt/lab_data2/anusri/chrombpnet/results/chrombpnet/DNASE_SE/GM12878/data/GM12878_unstranded.bw\"\n",
    "\n",
    "correcetd_atac_dir = \"/mnt/lab_data2/anusri/chrombpnet/results/chrombpnet/ATAC_PE/K562/nautilus_runs/K562_02.17.2022_bias_128_4_1234_0.5_fold_0/interpret/\"\n",
    "corrected_dnase_dir = \"/mnt/lab_data2/anusri/chrombpnet/results/chrombpnet/DNASE_PE/K562/nautilus_runs_may18/K562_05.13.2022_bias_128_4_1234_0.5_fold_0/interpret/\"\n",
    "\n",
    "uncorrecetd_atac_dir = \"/mnt/lab_data3/anusri/chrombpnet/results/chrombpnet/ATAC_PE/K562/uncorrected_model_08.22.2022_filters_512_dil_8/\"\n",
    "uncorrecetd_dnase_dir = \"/mnt/lab_data2/anusri/chrombpnet/results/chrombpnet/DNASE_PE/K562/uncorrected_model_08.31.2022_filters_512_dil_8/uncorrected_model/interpret/\"\n",
    "\n",
    "atac_obs = \"/mnt/lab_data2/anusri/chrombpnet/results/chrombpnet/ATAC_PE/K562/data/K562_unstranded.bw\"\n",
    "dnase_obs = \"/mnt/lab_data2/anusri/chrombpnet/results/chrombpnet/DNASE_PE/K562/data/K562_unstranded.bw\""
   ]
  },
  {
   "cell_type": "code",
   "execution_count": 2,
   "metadata": {},
   "outputs": [],
   "source": [
    "with_bias_preds = \"K562_w_bias.bw\"\n",
    "without_bias_preds = \"K562_wo_bias.bw\"\n",
    "interpretation_counts_f = \"merged.K562.counts.bw\"\n",
    "interpretation_profile_f = \"merged.K562.profile.bw\"\n",
    "\n",
    "peaks = \"/mnt/lab_data2/anusri/chrombpnet/results/chrombpnet/DNASE_PE/K562/uncorrected_model_08.31.2022_filters_512_dil_8/uncorrected_model/interpret/K562.interpreted_regions_v2.bed\""
   ]
  },
  {
   "cell_type": "code",
   "execution_count": 3,
   "metadata": {},
   "outputs": [],
   "source": [
    "import numpy as np\n",
    "import pyBigWig\n",
    "import pandas as pd\n"
   ]
  },
  {
   "cell_type": "code",
   "execution_count": 4,
   "metadata": {},
   "outputs": [],
   "source": [
    "def get_cts(peaks_df, bw, width=1000):\n",
    "    \"\"\"\n",
    "    Fetches values from a bigwig bw, given a df with minimally\n",
    "    chr, start and summit columns. Summit is relative to start.\n",
    "    Retrieves values of specified width centered at summit.\n",
    "\n",
    "    \"cts\" = per base counts across a region\n",
    "    \"\"\"\n",
    "    vals = []\n",
    "    for i, r in peaks_df.iterrows():\n",
    "        vals.append(np.nan_to_num(bw.values(r['chr'], \n",
    "                                            r['start'] + r['summit'] - width//2,\n",
    "                                            r['start'] + r['summit'] + width//2)))\n",
    "        \n",
    "    return np.array(vals)    "
   ]
  },
  {
   "cell_type": "code",
   "execution_count": 9,
   "metadata": {},
   "outputs": [],
   "source": [
    "NARROWPEAK_SCHEMA = [\"chr\", \"start\", \"end\", \"1\", \"2\", \"3\", \"4\", \"5\", \"6\", \"summit\"]\n",
    "\n",
    "peak_regions=pd.read_csv(peaks,header=None,sep='\\t',names=NARROWPEAK_SCHEMA)\n",
    "#bed_regions_to_keep=peak_regions[peak_regions[\"chr\"].isin([\"chr1\"])]\n",
    "bed_regions_to_keep=peak_regions"
   ]
  },
  {
   "cell_type": "code",
   "execution_count": 10,
   "metadata": {},
   "outputs": [],
   "source": [
    "atac_obs_bw = get_cts(bed_regions_to_keep, pyBigWig.open(atac_obs)) \n",
    "dnase_obs_bw = get_cts(bed_regions_to_keep, pyBigWig.open(dnase_obs))\n",
    "\n",
    "atac_w_bias = get_cts(bed_regions_to_keep, pyBigWig.open(uncorrecetd_atac_dir + with_bias_preds))\n",
    "dnase_w_bias = get_cts(bed_regions_to_keep, pyBigWig.open(uncorrecetd_dnase_dir + with_bias_preds))\n",
    "\n",
    "atac_w_bias_counts = get_cts(bed_regions_to_keep, pyBigWig.open(uncorrecetd_atac_dir + interpretation_counts_f))\n",
    "dnase_w_bias_counts = get_cts(bed_regions_to_keep, pyBigWig.open(uncorrecetd_dnase_dir + \"K562.counts.bw\"))\n",
    "\n",
    "atac_w_bias_profile = get_cts(bed_regions_to_keep, pyBigWig.open(uncorrecetd_atac_dir + interpretation_profile_f))\n",
    "dnase_w_bias_profile = get_cts(bed_regions_to_keep, pyBigWig.open(uncorrecetd_dnase_dir + \"K562.profile.bw\"))\n",
    "\n",
    "atac_wo_bias = get_cts(bed_regions_to_keep, pyBigWig.open(correcetd_atac_dir + without_bias_preds))\n",
    "dnase_wo_bias = get_cts(bed_regions_to_keep, pyBigWig.open(corrected_dnase_dir + without_bias_preds))\n",
    "\n",
    "atac_counts = get_cts(bed_regions_to_keep, pyBigWig.open(correcetd_atac_dir + interpretation_counts_f))\n",
    "dnase_counts = get_cts(bed_regions_to_keep, pyBigWig.open(corrected_dnase_dir + interpretation_counts_f))\n",
    "\n",
    "atac_profile = get_cts(bed_regions_to_keep, pyBigWig.open(correcetd_atac_dir + interpretation_profile_f))\n",
    "dnase_profile = get_cts(bed_regions_to_keep, pyBigWig.open(corrected_dnase_dir + interpretation_profile_f))"
   ]
  },
  {
   "cell_type": "code",
   "execution_count": 11,
   "metadata": {},
   "outputs": [],
   "source": [
    "from scipy.spatial.distance import jensenshannon\n",
    "\n",
    "def do_min_max(v):\n",
    "     return (v - v.min()) / (v.max() - v.min())\n",
    "    \n",
    "def get_jsd(bed_regions_to_keep, atac_vals, dnase_vals, min_max_normalize=False):\n",
    "    jsd_vals = []\n",
    "    for idx in range(bed_regions_to_keep.shape[0]):\n",
    "        if min_max_normalize:\n",
    "            jsd_vals.append(jensenshannon(do_min_max(atac_vals[idx]), do_min_max(dnase_vals[idx])))\n",
    "            #jsd_vals.append(jensenshannon(np.abs(atac_vals[idx]), np.abs(dnase_vals[idx])))\n",
    "        else:\n",
    "            jsd_vals.append(jensenshannon(atac_vals[idx], dnase_vals[idx]))\n",
    "    return jsd_vals\n",
    "        \n"
   ]
  },
  {
   "cell_type": "code",
   "execution_count": 12,
   "metadata": {},
   "outputs": [
    {
     "name": "stderr",
     "output_type": "stream",
     "text": [
      "/users/anusri/anaconda3/lib/python3.7/site-packages/scipy/spatial/distance.py:1290: RuntimeWarning: invalid value encountered in true_divide\n",
      "  p = p / np.sum(p, axis=axis, keepdims=True)\n"
     ]
    }
   ],
   "source": [
    "observed = get_jsd(bed_regions_to_keep, atac_obs_bw, dnase_obs_bw)\n",
    "predicted = get_jsd(bed_regions_to_keep, atac_w_bias, dnase_w_bias)\n",
    "predicted_counts = get_jsd(bed_regions_to_keep, atac_w_bias_counts, dnase_w_bias_counts,min_max_normalize=True)\n",
    "predicted_profile = get_jsd(bed_regions_to_keep, atac_w_bias_profile, dnase_w_bias_profile,min_max_normalize=True)\n",
    "\n",
    "corrected = get_jsd(bed_regions_to_keep, atac_wo_bias, dnase_wo_bias)\n",
    "counts = get_jsd(bed_regions_to_keep, atac_counts, dnase_counts,min_max_normalize=True)\n",
    "profile = get_jsd(bed_regions_to_keep, atac_profile, dnase_profile,min_max_normalize=True)"
   ]
  },
  {
   "cell_type": "code",
   "execution_count": 14,
   "metadata": {},
   "outputs": [],
   "source": [
    "d = {'jsd values': observed+predicted+predicted_counts+predicted_profile+corrected+counts+profile, 'atac versus dnase': [\"observed\"]*len(observed)+[\"uncorrected\"]*len(predicted)+[\"uncorrected counts\"]*len(predicted)+[\"uncorrected profile\"]*len(predicted)+[\"corrected\"]*len(corrected)+[\"counts\"]*len(counts)+[\"profile\"]*len(profile)}\n",
    "df = pd.DataFrame(data=d)"
   ]
  },
  {
   "cell_type": "code",
   "execution_count": 18,
   "metadata": {},
   "outputs": [],
   "source": [
    "df.to_csv(\"subfigs/performance/jsd.csv\")"
   ]
  },
  {
   "cell_type": "code",
   "execution_count": 56,
   "metadata": {},
   "outputs": [
    {
     "data": {
      "image/png": "[encoded data removed]",
      "text/plain": [
       "<Figure size 432x288 with 1 Axes>"
      ]
     },
     "metadata": {
      "needs_background": "light"
     },
     "output_type": "display_data"
    }
   ],
   "source": [
    "#import seaborn as sns\n",
    "#import matplotlib.pyplot as plt\n",
    "#ax = sns.violinplot(x=\"atac versus dnase\", y=\"jsd values\", data=df)\n",
    "#plt.savefig(\"jsd_compare_k562.png\")\n"
   ]
  },
  {
   "cell_type": "code",
   "execution_count": null,
   "metadata": {},
   "outputs": [],
   "source": []
  },
  {
   "cell_type": "code",
   "execution_count": null,
   "metadata": {},
   "outputs": [],
   "source": []
  }
 ],
 "metadata": {
  "kernelspec": {
   "display_name": "Python 3",
   "language": "python",
   "name": "python3"
  },
  "language_info": {
   "codemirror_mode": {
    "name": "ipython",
    "version": 3
   },
   "file_extension": ".py",
   "mimetype": "text/x-python",
   "name": "python",
   "nbconvert_exporter": "python",
   "pygments_lexer": "ipython3",
   "version": "3.7.6"
  }
 },
 "nbformat": 4,
 "nbformat_minor": 4
}
