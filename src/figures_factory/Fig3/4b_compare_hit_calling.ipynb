{
 "cells": [
  {
   "cell_type": "code",
   "execution_count": 1,
   "metadata": {},
   "outputs": [],
   "source": [
    "import pandas as pd"
   ]
  },
  {
   "cell_type": "code",
   "execution_count": 2,
   "metadata": {},
   "outputs": [],
   "source": [
    "dnase_name=pd.read_csv(\"configs/data/counts.tomtom_dnase.tsv\",sep=\"\\t\")\n",
    "atac_name=pd.read_csv(\"configs/data/profile.tomtom.tsv\",sep=\"\\t\")"
   ]
  },
  {
   "cell_type": "code",
   "execution_count": 3,
   "metadata": {},
   "outputs": [],
   "source": [
    "\n",
    "dnase_dict={}\n",
    "for i,r in dnase_name.iterrows():\n",
    "    if \"metacluster_0\" not in r[\"Pattern\"]:\n",
    "        continue\n",
    "    key = r[\"Pattern\"].replace(\"metacluster_\",\"\").replace(\"pattern_\",\"\").replace(\".\",\"_\")+\"_\"+r[\"Match_1\"]\n",
    "    dnase_dict[key] = r[\"Label\"]\n",
    "    \n",
    "atac_dict={}\n",
    "for i,r in atac_name.iterrows():\n",
    "    if \"metacluster_0\" not in r[\"Pattern\"]:\n",
    "        continue\n",
    "\n",
    "    key = r[\"Pattern\"].replace(\"metacluster_\",\"\").replace(\"pattern_\",\"\").replace(\".\",\"_\")+\"_\"+r[\"Match_1\"]\n",
    "    atac_dict[key] = r[\"Label\"]"
   ]
  },
  {
   "cell_type": "code",
   "execution_count": 4,
   "metadata": {},
   "outputs": [],
   "source": [
    "dnase_bed=\"/mnt/lab_data3/anusri/chrombpnet/results/chrombpnet/DNASE_PE/K562/K562_05.13.2022_bias_128_4_1234_0.5_fold_0/09_06_2022_motif_scanning/mooods_dir_eith_atac_profile_new/overlaps_resolved_based_on_cwm_activations_normed.bed\"\n",
    "atac_bed=\"/mnt/lab_data3/anusri/chrombpnet/results/chrombpnet/ATAC_PE/K562/K562_02.17.2022_bias_128_4_1234_0.5_fold_0/09_06_2022_motif_scanning_profile_new/overlaps_resolved_based_on_cwm_activations_normed.bed\""
   ]
  },
  {
   "cell_type": "code",
   "execution_count": 5,
   "metadata": {},
   "outputs": [],
   "source": [
    "dnase_hits = pd.read_csv(dnase_bed,sep=\"\\t\",header=None)\n",
    "atac_hits = pd.read_csv(atac_bed,sep=\"\\t\",header=None)"
   ]
  },
  {
   "cell_type": "code",
   "execution_count": 6,
   "metadata": {},
   "outputs": [],
   "source": [
    "atac_hits[3].replace(atac_dict,inplace=True)\n",
    "dnase_hits[3].replace(atac_dict,inplace=True)"
   ]
  },
  {
   "cell_type": "code",
   "execution_count": 7,
   "metadata": {},
   "outputs": [],
   "source": [
    "atac_hits = atac_hits.loc[~atac_hits[3].isin([\"1_13_SP2_HUMAN.H11MO.0.A\", \"DIMER\", \"NA\", \"GC\"])]\n",
    "dnase_hits = dnase_hits.loc[~dnase_hits[3].isin([\"1_13_SP2_HUMAN.H11MO.0.A\", \"DIMER\", \"NA\", \"GC\"])]\n"
   ]
  },
  {
   "cell_type": "code",
   "execution_count": 8,
   "metadata": {},
   "outputs": [],
   "source": [
    "new_dict={\"BACH.1\":\"AP1\",\"ZN143\":\"ZNF76\",\"FOSL1+JUN\\n\":\"AP1\",\"BACH\":\"AP1\",\"JUND\":\"AP1\",\"CEBPG\":\"AP1\",\"ETV4\":\"ELK\"}\n",
    "atac_hits[3].replace(new_dict,inplace=True)\n",
    "atac_hits.dropna(inplace=True)\n",
    "dnase_hits[3].replace(new_dict,inplace=True)\n",
    "dnase_hits.dropna(inplace=True)"
   ]
  },
  {
   "cell_type": "code",
   "execution_count": 9,
   "metadata": {},
   "outputs": [],
   "source": [
    "all_keys = list(set(atac_hits[3]))\n",
    "atac_hits['combined'] = atac_hits[[0,1,2]].apply(lambda row: '_'.join(row.values.astype(str)), axis=1)\n",
    "dnase_hits['combined'] = dnase_hits[[0,1,2]].apply(lambda row: '_'.join(row.values.astype(str)), axis=1)\n"
   ]
  },
  {
   "cell_type": "code",
   "execution_count": 102,
   "metadata": {},
   "outputs": [],
   "source": [
    "def jaccard(list1, list2):\n",
    "    list1 = set(list1)\n",
    "    list2 = set(list2)\n",
    "    \n",
    "    intersection = len(list(list1.intersection(list2)))\n",
    "    union = (len(list1) + len(list2)) - intersection\n",
    "    #print(intersection,union)\n",
    "    #print(list1.symmetric_difference(list2))\n",
    "    return [float(intersection) / union,  (len(list2) - intersection)/(len(list1) - intersection),   float(intersection)/len(list2)]"
   ]
  },
  {
   "cell_type": "code",
   "execution_count": 103,
   "metadata": {},
   "outputs": [
    {
     "name": "stdout",
     "output_type": "stream",
     "text": [
      "ELK\n",
      "[0.3555265963748371, 1.6518475187676709, 0.4696694628771754]\n",
      "ZBTB33\n",
      "[0.2755281690140845, 1.017156862745098, 0.42994505494505497]\n",
      "RFX\n",
      "[0.3585434173669468, 2.816666666666667, 0.43097643097643096]\n",
      "ARNTL\n",
      "[0.2434897395895836, 2.6672484002326935, 0.30677351073480497]\n",
      "NFYB\n",
      "[0.548784350993902, 0.7015081379722263, 0.7468340787842862]\n",
      "TYY1\n",
      "[0.30998389694041867, 0.9234413965087281, 0.4833984375]\n",
      "ZNF76\n",
      "[0.2801185517462352, 1.4846557920928947, 0.39438366978685013]\n",
      "NFIA\n",
      "[0.3749306369073309, 4.974071891573365, 0.4187439746591379]\n",
      "CTCF\n",
      "[0.5346083597505931, 1.1524419846587046, 0.6820860341779611]\n",
      "AT\n",
      "[0.070298769771529, 1.0114068441064639, 0.13071895424836602]\n",
      "NRF1\n",
      "[0.3657580919931857, 1.424880590534086, 0.49530913565056905]\n",
      "GATA\n",
      "[0.6077376733826061, 3.6990600363856885, 0.6630903065451532]\n",
      "STA5A\n",
      "[0.1345575959933222, 2.729496402877698, 0.17521739130434782]\n",
      "AP1\n",
      "[0.4430731628706489, 1.8263477134873578, 0.5518054556705859]\n",
      "REST\n",
      "[0.29116059379217274, 1.426096997690531, 0.4113441372735939]\n",
      "HIC\n",
      "[0.3099275567606945, 1.443186702966041, 0.4319232938522279]\n",
      "SP1/KLF\n",
      "[0.4781528166929416, 1.8621106286577307, 0.5847744455857342]\n",
      "FOSL1+JUN\n",
      "[0.38514559009706006, 2.1593783881460067, 0.4782115099117981]\n"
     ]
    }
   ],
   "source": [
    "score_dict={}\n",
    "for key in all_keys:\n",
    "    #if key != \"GATA\":\n",
    "    #    continue\n",
    "    print(key)\n",
    "    hits_filt_atac = atac_hits[atac_hits[3]==key]\n",
    "    hits_filt_dnase = dnase_hits[dnase_hits[3]==key]\n",
    "    score = jaccard(hits_filt_atac[\"combined\"].tolist(), hits_filt_dnase[\"combined\"].tolist())\n",
    "    print(score)\n",
    "    score_dict[key] = score\n"
   ]
  },
  {
   "cell_type": "code",
   "execution_count": 94,
   "metadata": {},
   "outputs": [
    {
     "data": {
      "text/plain": [
       "['ELK',\n",
       " 'ZBTB33',\n",
       " 'RFX',\n",
       " 'ARNTL',\n",
       " 'NFYB',\n",
       " 'TYY1',\n",
       " 'ZNF76',\n",
       " 'NFIA',\n",
       " 'CTCF',\n",
       " 'AT',\n",
       " 'NRF1',\n",
       " 'GATA',\n",
       " 'STA5A',\n",
       " 'AP1',\n",
       " 'REST',\n",
       " 'HIC',\n",
       " 'SP1/KLF',\n",
       " 'FOSL1+JUN']"
      ]
     },
     "execution_count": 94,
     "metadata": {},
     "output_type": "execute_result"
    }
   ],
   "source": [
    "#dnase_hits.head()\n",
    "\n",
    "all_keys"
   ]
  },
  {
   "cell_type": "code",
   "execution_count": 95,
   "metadata": {},
   "outputs": [
    {
     "data": {
      "text/plain": [
       "(347841, 11)"
      ]
     },
     "execution_count": 95,
     "metadata": {},
     "output_type": "execute_result"
    }
   ],
   "source": [
    "atac_hits.shape\n"
   ]
  },
  {
   "cell_type": "code",
   "execution_count": 96,
   "metadata": {},
   "outputs": [
    {
     "data": {
      "text/plain": [
       "(429111, 11)"
      ]
     },
     "execution_count": 96,
     "metadata": {},
     "output_type": "execute_result"
    }
   ],
   "source": [
    "dnase_hits.shape\n"
   ]
  },
  {
   "cell_type": "code",
   "execution_count": 107,
   "metadata": {},
   "outputs": [],
   "source": [
    "data = pd.read_csv(\"subfigs/modisco_compare/k562_profile_cwm_enzyme_sim.csv\")\n"
   ]
  },
  {
   "cell_type": "code",
   "execution_count": 108,
   "metadata": {},
   "outputs": [],
   "source": [
    "motif_enzyme_sim = {}\n",
    "for i,r in atac_name.iterrows():\n",
    "    if \"metacluster_0\" not in r[\"Pattern\"]:\n",
    "        continue\n",
    "    key1= r[\"Pattern\"].replace(\"metacluster_\",\"\").replace(\"pattern_\",\"\").replace(\".\",\"_\")\n",
    "    key = r[\"Pattern\"].replace(\"metacluster_\",\"\").replace(\"pattern_\",\"\").replace(\".\",\"_\")+\"_\"+r[\"Match_1\"]\n",
    "    if r[\"Label\"] not in motif_enzyme_sim:\n",
    "        motif_enzyme_sim[r[\"Label\"]] = data[data[\"key\"]==key1][\"Tn5-sim\"].values[0]-data[data[\"key\"]==key1][\"DNASE-sim\"].values[0]"
   ]
  },
  {
   "cell_type": "code",
   "execution_count": 109,
   "metadata": {},
   "outputs": [
    {
     "name": "stdout",
     "output_type": "stream",
     "text": [
      "CTCF 0.1634374710299435 0.5346083597505931\n",
      "SP1/KLF 0.14903067946546206 0.4781528166929416\n",
      "GATA -0.13398579321231247 0.6077376733826061\n",
      "NFYB -0.07283526101906851 0.548784350993902\n",
      "ELK 0.01669449081803015 0.3555265963748371\n",
      "ARNTL -0.035066162570888404 0.2434897395895836\n",
      "NRF1 -0.09913700107874868 0.3657580919931857\n",
      "FOSL1+JUN -0.08759625962596262 0.38514559009706006\n",
      "TYY1 0.051091115937532294 0.30998389694041867\n",
      "NFIA 0.007749712973593503 0.3749306369073309\n",
      "ZNF76 0.13392857142857137 0.2801185517462352\n",
      "ZBTB33 0.009039548022598931 0.2755281690140845\n",
      "RFX -0.12096774193548387 0.3585434173669468\n",
      "REST 0.1071428571428572 0.29116059379217274\n",
      "STA5A 0.0568345323741008 0.1345575959933222\n",
      "AT -0.011688311688311692 0.070298769771529\n",
      "HIC -0.12 0.3099275567606945\n"
     ]
    }
   ],
   "source": [
    "x=[]\n",
    "y=[]\n",
    "names=[]\n",
    "for key in motif_enzyme_sim:\n",
    "    if key in score_dict:\n",
    "        names.append(key)\n",
    "        x.append(motif_enzyme_sim[key])\n",
    "        y.append(score_dict[key][0])\n",
    "        print(key,motif_enzyme_sim[key],score_dict[key][0])\n",
    "        \n",
    "    "
   ]
  },
  {
   "cell_type": "code",
   "execution_count": 110,
   "metadata": {},
   "outputs": [
    {
     "data": {
      "text/plain": [
       "<matplotlib.collections.PathCollection at 0x7fba7995ca90>"
      ]
     },
     "execution_count": 110,
     "metadata": {},
     "output_type": "execute_result"
    },
    {
     "data": {
      "image/png": "[encoded data removed]",
      "text/plain": [
       "<Figure size 432x288 with 1 Axes>"
      ]
     },
     "metadata": {
      "needs_background": "light"
     },
     "output_type": "display_data"
    }
   ],
   "source": [
    "import matplotlib.pyplot as plt\n",
    "plt.scatter(x,y)"
   ]
  },
  {
   "cell_type": "code",
   "execution_count": 111,
   "metadata": {},
   "outputs": [
    {
     "data": {
      "text/plain": [
       "(-0.10857093566987061, 0.6783015408967863)"
      ]
     },
     "execution_count": 111,
     "metadata": {},
     "output_type": "execute_result"
    }
   ],
   "source": [
    "import scipy.stats\n",
    "scipy.stats.pearsonr(x,y)"
   ]
  },
  {
   "cell_type": "code",
   "execution_count": null,
   "metadata": {},
   "outputs": [],
   "source": []
  },
  {
   "cell_type": "code",
   "execution_count": null,
   "metadata": {},
   "outputs": [],
   "source": []
  }
 ],
 "metadata": {
  "kernelspec": {
   "display_name": "Python 3",
   "language": "python",
   "name": "python3"
  },
  "language_info": {
   "codemirror_mode": {
    "name": "ipython",
    "version": 3
   },
   "file_extension": ".py",
   "mimetype": "text/x-python",
   "name": "python",
   "nbconvert_exporter": "python",
   "pygments_lexer": "ipython3",
   "version": "3.7.6"
  }
 },
 "nbformat": 4,
 "nbformat_minor": 4
}
