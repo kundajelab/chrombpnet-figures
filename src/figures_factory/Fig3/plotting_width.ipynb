{
 "cells": [
  {
   "cell_type": "code",
   "execution_count": 4,
   "metadata": {},
   "outputs": [],
   "source": [
    "library(ggplot2)\n",
    "library(viridis)"
   ]
  },
  {
   "cell_type": "code",
   "execution_count": 5,
   "metadata": {},
   "outputs": [],
   "source": [
    "data = read.table(\"subfigs/footprints_compare/width.csv\", sep=\",\", header=TRUE)"
   ]
  },
  {
   "cell_type": "code",
   "execution_count": 6,
   "metadata": {},
   "outputs": [
    {
     "data": {
      "text/html": [
       "<table class=\"dataframe\">\n",
       "<caption>A data.frame: 38 × 2</caption>\n",
       "<thead>\n",
       "\t<tr><th scope=col>width</th><th scope=col>data</th></tr>\n",
       "\t<tr><th scope=col>&lt;int&gt;</th><th scope=col>&lt;chr&gt;</th></tr>\n",
       "</thead>\n",
       "<tbody>\n",
       "\t<tr><td>41</td><td>ATAC </td></tr>\n",
       "\t<tr><td>57</td><td>ATAC </td></tr>\n",
       "\t<tr><td>55</td><td>ATAC </td></tr>\n",
       "\t<tr><td>39</td><td>ATAC </td></tr>\n",
       "\t<tr><td>42</td><td>ATAC </td></tr>\n",
       "\t<tr><td>58</td><td>ATAC </td></tr>\n",
       "\t<tr><td>53</td><td>ATAC </td></tr>\n",
       "\t<tr><td>43</td><td>ATAC </td></tr>\n",
       "\t<tr><td>42</td><td>ATAC </td></tr>\n",
       "\t<tr><td>58</td><td>ATAC </td></tr>\n",
       "\t<tr><td>51</td><td>ATAC </td></tr>\n",
       "\t<tr><td>46</td><td>ATAC </td></tr>\n",
       "\t<tr><td>42</td><td>ATAC </td></tr>\n",
       "\t<tr><td>43</td><td>ATAC </td></tr>\n",
       "\t<tr><td>36</td><td>ATAC </td></tr>\n",
       "\t<tr><td>32</td><td>ATAC </td></tr>\n",
       "\t<tr><td>36</td><td>ATAC </td></tr>\n",
       "\t<tr><td>53</td><td>ATAC </td></tr>\n",
       "\t<tr><td>43</td><td>ATAC </td></tr>\n",
       "\t<tr><td>24</td><td>DNASE</td></tr>\n",
       "\t<tr><td>37</td><td>DNASE</td></tr>\n",
       "\t<tr><td>23</td><td>DNASE</td></tr>\n",
       "\t<tr><td>23</td><td>DNASE</td></tr>\n",
       "\t<tr><td>28</td><td>DNASE</td></tr>\n",
       "\t<tr><td>41</td><td>DNASE</td></tr>\n",
       "\t<tr><td>35</td><td>DNASE</td></tr>\n",
       "\t<tr><td>46</td><td>DNASE</td></tr>\n",
       "\t<tr><td>26</td><td>DNASE</td></tr>\n",
       "\t<tr><td>34</td><td>DNASE</td></tr>\n",
       "\t<tr><td>42</td><td>DNASE</td></tr>\n",
       "\t<tr><td>28</td><td>DNASE</td></tr>\n",
       "\t<tr><td>30</td><td>DNASE</td></tr>\n",
       "\t<tr><td>32</td><td>DNASE</td></tr>\n",
       "\t<tr><td>33</td><td>DNASE</td></tr>\n",
       "\t<tr><td>45</td><td>DNASE</td></tr>\n",
       "\t<tr><td>26</td><td>DNASE</td></tr>\n",
       "\t<tr><td>38</td><td>DNASE</td></tr>\n",
       "\t<tr><td>32</td><td>DNASE</td></tr>\n",
       "</tbody>\n",
       "</table>\n"
      ],
      "text/latex": [
       "A data.frame: 38 × 2\n",
       "\\begin{tabular}{ll}\n",
       " width & data\\\\\n",
       " <int> & <chr>\\\\\n",
       "\\hline\n",
       "\t 41 & ATAC \\\\\n",
       "\t 57 & ATAC \\\\\n",
       "\t 55 & ATAC \\\\\n",
       "\t 39 & ATAC \\\\\n",
       "\t 42 & ATAC \\\\\n",
       "\t 58 & ATAC \\\\\n",
       "\t 53 & ATAC \\\\\n",
       "\t 43 & ATAC \\\\\n",
       "\t 42 & ATAC \\\\\n",
       "\t 58 & ATAC \\\\\n",
       "\t 51 & ATAC \\\\\n",
       "\t 46 & ATAC \\\\\n",
       "\t 42 & ATAC \\\\\n",
       "\t 43 & ATAC \\\\\n",
       "\t 36 & ATAC \\\\\n",
       "\t 32 & ATAC \\\\\n",
       "\t 36 & ATAC \\\\\n",
       "\t 53 & ATAC \\\\\n",
       "\t 43 & ATAC \\\\\n",
       "\t 24 & DNASE\\\\\n",
       "\t 37 & DNASE\\\\\n",
       "\t 23 & DNASE\\\\\n",
       "\t 23 & DNASE\\\\\n",
       "\t 28 & DNASE\\\\\n",
       "\t 41 & DNASE\\\\\n",
       "\t 35 & DNASE\\\\\n",
       "\t 46 & DNASE\\\\\n",
       "\t 26 & DNASE\\\\\n",
       "\t 34 & DNASE\\\\\n",
       "\t 42 & DNASE\\\\\n",
       "\t 28 & DNASE\\\\\n",
       "\t 30 & DNASE\\\\\n",
       "\t 32 & DNASE\\\\\n",
       "\t 33 & DNASE\\\\\n",
       "\t 45 & DNASE\\\\\n",
       "\t 26 & DNASE\\\\\n",
       "\t 38 & DNASE\\\\\n",
       "\t 32 & DNASE\\\\\n",
       "\\end{tabular}\n"
      ],
      "text/markdown": [
       "\n",
       "A data.frame: 38 × 2\n",
       "\n",
       "| width &lt;int&gt; | data &lt;chr&gt; |\n",
       "|---|---|\n",
       "| 41 | ATAC  |\n",
       "| 57 | ATAC  |\n",
       "| 55 | ATAC  |\n",
       "| 39 | ATAC  |\n",
       "| 42 | ATAC  |\n",
       "| 58 | ATAC  |\n",
       "| 53 | ATAC  |\n",
       "| 43 | ATAC  |\n",
       "| 42 | ATAC  |\n",
       "| 58 | ATAC  |\n",
       "| 51 | ATAC  |\n",
       "| 46 | ATAC  |\n",
       "| 42 | ATAC  |\n",
       "| 43 | ATAC  |\n",
       "| 36 | ATAC  |\n",
       "| 32 | ATAC  |\n",
       "| 36 | ATAC  |\n",
       "| 53 | ATAC  |\n",
       "| 43 | ATAC  |\n",
       "| 24 | DNASE |\n",
       "| 37 | DNASE |\n",
       "| 23 | DNASE |\n",
       "| 23 | DNASE |\n",
       "| 28 | DNASE |\n",
       "| 41 | DNASE |\n",
       "| 35 | DNASE |\n",
       "| 46 | DNASE |\n",
       "| 26 | DNASE |\n",
       "| 34 | DNASE |\n",
       "| 42 | DNASE |\n",
       "| 28 | DNASE |\n",
       "| 30 | DNASE |\n",
       "| 32 | DNASE |\n",
       "| 33 | DNASE |\n",
       "| 45 | DNASE |\n",
       "| 26 | DNASE |\n",
       "| 38 | DNASE |\n",
       "| 32 | DNASE |\n",
       "\n"
      ],
      "text/plain": [
       "   width data \n",
       "1  41    ATAC \n",
       "2  57    ATAC \n",
       "3  55    ATAC \n",
       "4  39    ATAC \n",
       "5  42    ATAC \n",
       "6  58    ATAC \n",
       "7  53    ATAC \n",
       "8  43    ATAC \n",
       "9  42    ATAC \n",
       "10 58    ATAC \n",
       "11 51    ATAC \n",
       "12 46    ATAC \n",
       "13 42    ATAC \n",
       "14 43    ATAC \n",
       "15 36    ATAC \n",
       "16 32    ATAC \n",
       "17 36    ATAC \n",
       "18 53    ATAC \n",
       "19 43    ATAC \n",
       "20 24    DNASE\n",
       "21 37    DNASE\n",
       "22 23    DNASE\n",
       "23 23    DNASE\n",
       "24 28    DNASE\n",
       "25 41    DNASE\n",
       "26 35    DNASE\n",
       "27 46    DNASE\n",
       "28 26    DNASE\n",
       "29 34    DNASE\n",
       "30 42    DNASE\n",
       "31 28    DNASE\n",
       "32 30    DNASE\n",
       "33 32    DNASE\n",
       "34 33    DNASE\n",
       "35 45    DNASE\n",
       "36 26    DNASE\n",
       "37 38    DNASE\n",
       "38 32    DNASE"
      ]
     },
     "metadata": {},
     "output_type": "display_data"
    }
   ],
   "source": [
    "data"
   ]
  },
  {
   "cell_type": "code",
   "execution_count": 8,
   "metadata": {},
   "outputs": [
    {
     "name": "stderr",
     "output_type": "stream",
     "text": [
      "Saving 6.67 x 6.67 in image\n",
      "\n"
     ]
    },
    {
     "data": {
      "image/png": "[encoded data removed]",
      "text/plain": [
       "plot without title"
      ]
     },
     "metadata": {
      "image/png": {
       "height": 420,
       "width": 420
      }
     },
     "output_type": "display_data"
    }
   ],
   "source": [
    "\n",
    "ggplot(data, aes(x=data, y=width, fill=data)) +\n",
    "geom_boxplot() +\n",
    "theme_classic() + \n",
    "    xlab(\"Chromatin Assay\") + \n",
    "    ylab(\"Footprint Widths\") +\n",
    "    theme(\n",
    "     legend.position=\"none\",\n",
    "     plot.title = element_text(size=15),\n",
    "     axis.text=element_text(size=15),\n",
    "     axis.title=element_text(size=15),\n",
    "     axis.title.y = element_text(margin = margin(t = 0, r = 10, b = 0, l = 0), hjust = 0.5, size=15),\n",
    "     axis.title.x = element_text(margin = margin(t = 10, r = 0, b = 0, l = 0), hjust = 0.5, size=15),\n",
    "        \n",
    "    ) \n",
    "\n",
    "ggsave(\"subfigs/footprints_compare/widths.pdf\", dpi=300, device=\"pdf\")"
   ]
  },
  {
   "cell_type": "code",
   "execution_count": null,
   "metadata": {},
   "outputs": [],
   "source": []
  }
 ],
 "metadata": {
  "kernelspec": {
   "display_name": "R",
   "language": "R",
   "name": "ir"
  },
  "language_info": {
   "codemirror_mode": "r",
   "file_extension": ".r",
   "mimetype": "text/x-r-source",
   "name": "R",
   "pygments_lexer": "r",
   "version": "4.0.3"
  }
 },
 "nbformat": 4,
 "nbformat_minor": 4
}
