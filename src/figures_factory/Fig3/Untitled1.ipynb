{
 "cells": [
  {
   "cell_type": "code",
   "execution_count": 1,
   "metadata": {},
   "outputs": [],
   "source": [
    "import pandas as pd\n"
   ]
  },
  {
   "cell_type": "code",
   "execution_count": 2,
   "metadata": {},
   "outputs": [],
   "source": [
    "peaks_bed=pd.read_csv(\"/mnt/lab_data3/anusri/chrombpnet/results/chrombpnet/ATAC_PE/K562/K562_02.17.2022_bias_128_4_1234_0.5_fold_0/09_06_2022_motif_scanning_profile_new/merged.k562.bed\",sep=\"\\t\", header=None)\n",
    "import pyBigWig as pw\n",
    "\n",
    "bw = pw.open(\"/oak/stanford/groups/akundaje/projects/chromatin-atlas-2022/chrombpnet/merged/K562/ATAC/pval.bigWig\")\n",
    "dbw = pw.open(\"/oak/stanford/groups/akundaje/projects/chromatin-atlas-2022/chrombpnet/merged/K562/DNASE/K562.merged.filtered.sorted.pval.signal.bigwig\")\n",
    "\n"
   ]
  },
  {
   "cell_type": "code",
   "execution_count": 3,
   "metadata": {},
   "outputs": [
    {
     "data": {
      "text/plain": [
       "(192695, 3)"
      ]
     },
     "execution_count": 3,
     "metadata": {},
     "output_type": "execute_result"
    }
   ],
   "source": [
    "peaks_bed.shape"
   ]
  },
  {
   "cell_type": "code",
   "execution_count": 4,
   "metadata": {},
   "outputs": [],
   "source": [
    "#peaks_bed.head()\n",
    "#bw.values(\"chr1\",40585,41341)"
   ]
  },
  {
   "cell_type": "code",
   "execution_count": 5,
   "metadata": {},
   "outputs": [],
   "source": [
    "dnase_name=pd.read_csv(\"configs/data/counts.tomtom_dnase.tsv\",sep=\"\\t\")\n",
    "atac_name=pd.read_csv(\"configs/data/profile.tomtom.tsv\",sep=\"\\t\")"
   ]
  },
  {
   "cell_type": "code",
   "execution_count": 6,
   "metadata": {},
   "outputs": [],
   "source": [
    "dnase_dict={}\n",
    "for i,r in dnase_name.iterrows():\n",
    "    if \"metacluster_0\" not in r[\"Pattern\"]:\n",
    "        continue\n",
    "    key = r[\"Pattern\"].replace(\"metacluster_\",\"\").replace(\"pattern_\",\"\").replace(\".\",\"_\")+\"_\"+r[\"Match_1\"]\n",
    "    dnase_dict[key] = r[\"Label\"]\n",
    "    \n",
    "atac_dict={}\n",
    "for i,r in atac_name.iterrows():\n",
    "    if \"metacluster_0\" not in r[\"Pattern\"]:\n",
    "        continue\n",
    "\n",
    "    key = r[\"Pattern\"].replace(\"metacluster_\",\"\").replace(\"pattern_\",\"\").replace(\".\",\"_\")+\"_\"+r[\"Match_1\"]\n",
    "    atac_dict[key] = r[\"Label\"]"
   ]
  },
  {
   "cell_type": "code",
   "execution_count": 7,
   "metadata": {},
   "outputs": [],
   "source": [
    "dnase_bed=\"/mnt/lab_data3/anusri/chrombpnet/results/chrombpnet/DNASE_PE/K562/K562_05.13.2022_bias_128_4_1234_0.5_fold_0/09_06_2022_motif_scanning/mooods_dir_eith_atac_profile_new/overlaps_resolved_based_on_cwm_activations_normed.bed\"\n",
    "atac_bed=\"/mnt/lab_data3/anusri/chrombpnet/results/chrombpnet/ATAC_PE/K562/K562_02.17.2022_bias_128_4_1234_0.5_fold_0/09_06_2022_motif_scanning_profile_new/overlaps_resolved_based_on_cwm_activations_normed.bed\""
   ]
  },
  {
   "cell_type": "code",
   "execution_count": 8,
   "metadata": {},
   "outputs": [],
   "source": [
    "dnase_hits = pd.read_csv(dnase_bed,sep=\"\\t\",header=None)\n",
    "atac_hits = pd.read_csv(atac_bed,sep=\"\\t\",header=None)"
   ]
  },
  {
   "cell_type": "code",
   "execution_count": 9,
   "metadata": {},
   "outputs": [],
   "source": [
    "atac_hits[3].replace(atac_dict,inplace=True)\n",
    "dnase_hits[3].replace(atac_dict,inplace=True)"
   ]
  },
  {
   "cell_type": "code",
   "execution_count": 10,
   "metadata": {},
   "outputs": [],
   "source": [
    "atac_hits = atac_hits.loc[~atac_hits[3].isin([\"1_13_SP2_HUMAN.H11MO.0.A\", \"DIMER\", \"NA\", \"GC\"])]\n",
    "dnase_hits = dnase_hits.loc[~dnase_hits[3].isin([\"1_13_SP2_HUMAN.H11MO.0.A\", \"DIMER\", \"NA\", \"GC\"])]\n"
   ]
  },
  {
   "cell_type": "code",
   "execution_count": 11,
   "metadata": {},
   "outputs": [],
   "source": [
    "new_dict={\"BACH.1\":\"AP1\",\"ZN143\":\"ZNF76\",\"FOSL1+JUN\\n\":\"AP1\",\"BACH\":\"AP1\",\"JUND\":\"AP1\",\"CEBPG\":\"AP1\",\"ETV4\":\"ELK\"}\n",
    "atac_hits[3].replace(new_dict,inplace=True)\n",
    "atac_hits.dropna(inplace=True)\n",
    "dnase_hits[3].replace(new_dict,inplace=True)\n",
    "dnase_hits.dropna(inplace=True)"
   ]
  },
  {
   "cell_type": "code",
   "execution_count": 12,
   "metadata": {},
   "outputs": [
    {
     "data": {
      "text/plain": [
       "163126"
      ]
     },
     "execution_count": 12,
     "metadata": {},
     "output_type": "execute_result"
    }
   ],
   "source": [
    "len(set(atac_hits[6]))"
   ]
  },
  {
   "cell_type": "code",
   "execution_count": 13,
   "metadata": {},
   "outputs": [
    {
     "data": {
      "text/plain": [
       "175160"
      ]
     },
     "execution_count": 13,
     "metadata": {},
     "output_type": "execute_result"
    }
   ],
   "source": [
    "len(set(dnase_hits[6]))"
   ]
  },
  {
   "cell_type": "code",
   "execution_count": 14,
   "metadata": {},
   "outputs": [],
   "source": [
    "all_keys = list(set(atac_hits[3]))\n",
    "atac_hits['combined'] = atac_hits[[0,1,2,3]].apply(lambda row: '_'.join(row.values.astype(str)), axis=1)\n",
    "dnase_hits['combined'] = dnase_hits[[0,1,2,3]].apply(lambda row: '_'.join(row.values.astype(str)), axis=1)\n"
   ]
  },
  {
   "cell_type": "code",
   "execution_count": 15,
   "metadata": {},
   "outputs": [],
   "source": [
    "def jaccard(list1, list2):\n",
    "    list1 = set(list1)\n",
    "    list2 = set(list2)\n",
    "    \n",
    "    intersection = len(list(list1.intersection(list2)))\n",
    "    union = (len(list1) + len(list2)) - intersection\n",
    "    #print(intersection,union)\n",
    "    #if (float(intersection) / union) < 0.2:\n",
    "    #    print(list1.symmetric_difference(list2))\n",
    "    return float(intersection) / union\n"
   ]
  },
  {
   "cell_type": "code",
   "execution_count": 16,
   "metadata": {},
   "outputs": [],
   "source": [
    "import numpy as np\n",
    "peak_ids = set(atac_hits[6])\n",
    "jaccard_scores=[]\n",
    "pval_signal = []\n",
    "for peak_idx in peak_ids:\n",
    "    peak_hits_atac = atac_hits[atac_hits[6]==peak_idx]['combined']\n",
    "    peak_hits_dnase = dnase_hits[dnase_hits[6]==peak_idx]['combined']\n",
    "    score = jaccard(peak_hits_atac.tolist(), peak_hits_dnase.tolist())\n",
    "    r = peaks_bed.loc[peak_idx,:]\n",
    "    pval_signal.append(np.max([np.max(bw.values(r[0],r[1],r[2])),np.max(dbw.values(r[0],r[1],r[2]))]))\n",
    "    jaccard_scores.append(score)"
   ]
  },
  {
   "cell_type": "code",
   "execution_count": 17,
   "metadata": {},
   "outputs": [],
   "source": [
    "import matplotlib.pyplot as plt"
   ]
  },
  {
   "cell_type": "code",
   "execution_count": 18,
   "metadata": {},
   "outputs": [
    {
     "data": {
      "text/plain": [
       "{'whiskers': [<matplotlib.lines.Line2D at 0x7fab70711650>,\n",
       "  <matplotlib.lines.Line2D at 0x7fab70711950>],\n",
       " 'caps': [<matplotlib.lines.Line2D at 0x7fab70777090>,\n",
       "  <matplotlib.lines.Line2D at 0x7fab70711f10>],\n",
       " 'boxes': [<matplotlib.lines.Line2D at 0x7fab707112d0>],\n",
       " 'medians': [<matplotlib.lines.Line2D at 0x7fab707252d0>],\n",
       " 'fliers': [<matplotlib.lines.Line2D at 0x7fab70725610>],\n",
       " 'means': []}"
      ]
     },
     "execution_count": 18,
     "metadata": {},
     "output_type": "execute_result"
    },
    {
     "data": {
      "image/png": "[encoded data removed]",
      "text/plain": [
       "<Figure size 432x288 with 1 Axes>"
      ]
     },
     "metadata": {
      "needs_background": "light"
     },
     "output_type": "display_data"
    }
   ],
   "source": [
    "plt.boxplot(jaccard_scores)"
   ]
  },
  {
   "cell_type": "code",
   "execution_count": 97,
   "metadata": {},
   "outputs": [],
   "source": [
    "\n",
    "def equal_bin_v2(N, m):\n",
    "    idx = np.linspace(0,m,N.size, endpoint=0).astype(int)\n",
    "    return idx[N.argsort().argsort()]  \n",
    "\n",
    "#bins = np.linspace(0, 12, 10)\n",
    "#digitized = np.digitize(np.log(pval_signal), bins)\n",
    "#bin_means = [np.mean(np.array(jaccard_scores)[digitized == i]) for i in range(1, len(bins))]\n",
    "\n",
    "idxs = equal_bin_v2(np.log(pval_signal), 10)\n",
    "bin_means = [np.mean(np.array(jaccard_scores)[idxs == i]) for i in range(0, max(idxs))]\n",
    "pval_means = [np.mean(np.log(pval_signal)[idxs == i]) for i in range(0, max(idxs))]\n",
    "bin_std = [np.std(np.array(jaccard_scores)[idxs == i]) for i in range(0, max(idxs))]\n"
   ]
  },
  {
   "cell_type": "code",
   "execution_count": 101,
   "metadata": {},
   "outputs": [
    {
     "data": {
      "text/plain": [
       "<ErrorbarContainer object of 3 artists>"
      ]
     },
     "execution_count": 101,
     "metadata": {},
     "output_type": "execute_result"
    },
    {
     "data": {
      "image/png": "[encoded data removed]",
      "text/plain": [
       "<Figure size 432x288 with 1 Axes>"
      ]
     },
     "metadata": {
      "needs_background": "light"
     },
     "output_type": "display_data"
    }
   ],
   "source": [
    "plt.errorbar(pval_means, bin_means, yerr=bin_std, fmt='o')\n"
   ]
  },
  {
   "cell_type": "code",
   "execution_count": 102,
   "metadata": {},
   "outputs": [
    {
     "data": {
      "text/plain": [
       "<matplotlib.collections.PathCollection at 0x7fab6c90f290>"
      ]
     },
     "execution_count": 102,
     "metadata": {},
     "output_type": "execute_result"
    },
    {
     "data": {
      "image/png": "[encoded data removed]",
      "text/plain": [
       "<Figure size 432x288 with 1 Axes>"
      ]
     },
     "metadata": {
      "needs_background": "light"
     },
     "output_type": "display_data"
    }
   ],
   "source": [
    "plt.scatter(pval_means,bin_means)\n"
   ]
  },
  {
   "cell_type": "code",
   "execution_count": 73,
   "metadata": {},
   "outputs": [
    {
     "data": {
      "text/plain": [
       "<matplotlib.collections.PathCollection at 0x7fab6fc80fd0>"
      ]
     },
     "execution_count": 73,
     "metadata": {},
     "output_type": "execute_result"
    },
    {
     "data": {
      "image/png": "[encoded data removed]",
      "text/plain": [
       "<Figure size 432x288 with 1 Axes>"
      ]
     },
     "metadata": {
      "needs_background": "light"
     },
     "output_type": "display_data"
    }
   ],
   "source": [
    "plt.scatter(np.log(pval_signal),jaccard_scores,alpha=0.05)"
   ]
  },
  {
   "cell_type": "code",
   "execution_count": 22,
   "metadata": {},
   "outputs": [
    {
     "data": {
      "text/plain": [
       "array([   722,    973,   1311,   1655,   3216,   3289,   4121,   4186,\n",
       "         4309,   4821,   4829,   5247,   5396,   5570,   6199,   6226,\n",
       "         6406,   6756,   7342,  10411,  11115,  11255,  12035,  12414,\n",
       "        12568,  13892,  15654,  16691,  17202,  17305,  17400,  17828,\n",
       "        18316,  18972,  19430,  19718,  19723,  20337,  20424,  21236,\n",
       "        21577,  21743,  21777,  22454,  24624,  26898,  26960,  27236,\n",
       "        27557,  31225,  31353,  31591,  31805,  33386,  34686,  34885,\n",
       "        35195,  35442,  35845,  38073,  38620,  39628,  42432,  42916,\n",
       "        43187,  43225,  44417,  45062,  45668,  46804,  48260,  49033,\n",
       "        50530,  53124,  56108,  58368,  59167,  59282,  59766,  60557,\n",
       "        60626,  60627,  62886,  62963,  63827,  64204,  64249,  64385,\n",
       "        66091,  66354,  66540,  68134,  69169,  69233,  69905,  70098,\n",
       "        70194,  72405,  72456,  73127,  73647,  74532,  74663,  75024,\n",
       "        75045,  75047,  75958,  77104,  77281,  78243,  78252,  78826,\n",
       "        79108,  79192,  79669,  80484,  82368,  82590,  82763,  83140,\n",
       "        83527,  83546,  83930,  84106,  84259,  85123,  85230,  85369,\n",
       "        85614,  86170,  86184,  86216,  86236,  86360,  86386,  86408,\n",
       "        86720,  86998,  87558,  87695,  87736,  87949,  88114,  88127,\n",
       "        88568,  88804,  90032,  90051,  92968,  93186,  96932,  96949,\n",
       "        97882,  98180,  98742,  99245,  99466,  99739, 100265, 103144,\n",
       "       105641, 105905, 106227, 107587, 107845, 109582, 110154, 111169,\n",
       "       111343, 112764, 112870, 112962, 113129, 113179, 113246, 113340,\n",
       "       113365, 113389, 113393, 113458, 113531, 113621, 113697, 113704,\n",
       "       113729, 113787, 113834, 114395, 116481, 116900, 116983, 117241,\n",
       "       117905, 118940, 119072, 119151, 119356, 119735, 119785, 122274,\n",
       "       124064, 125503, 126757, 127305, 127956, 129248, 130756, 130962,\n",
       "       131201, 134218, 135057, 135861, 137410, 137511, 138760, 139447,\n",
       "       140865, 141164, 142207, 142707, 143901, 144763, 144873, 146106,\n",
       "       147414, 147897, 148397, 149197, 150051, 150321, 150549, 151040,\n",
       "       151703, 151919, 152511, 154326, 154685, 158365, 158788, 159682,\n",
       "       160697, 163733, 163954, 164284, 164634, 164770, 164805, 165406,\n",
       "       166149, 166297, 166520, 166529, 166540, 167142, 169020, 169423,\n",
       "       169793, 169962, 170332, 170845, 171197, 174115, 176485, 178408,\n",
       "       181874, 182005, 183634, 184794, 185206, 185707, 186124, 186499,\n",
       "       186570, 186620, 187539, 188143])"
      ]
     },
     "execution_count": 22,
     "metadata": {},
     "output_type": "execute_result"
    }
   ],
   "source": [
    "np.array(list(peak_ids))[(np.array(jaccard_scores)==1) & (np.log(pval_signal)>8)]"
   ]
  },
  {
   "cell_type": "code",
   "execution_count": 23,
   "metadata": {},
   "outputs": [
    {
     "data": {
      "text/plain": [
       "array([   722,    973,   1311,   1655,   3216,   3289,   4121,   4186,\n",
       "         4309,   4821,   4829,   5247,   5396,   5570,   6199,   6226,\n",
       "         6406,   6756,   7342,  10411,  11115,  11255,  12035,  12414,\n",
       "        12568,  13892,  15654,  16691,  17202,  17305,  17400,  17828,\n",
       "        18316,  18972,  19430,  19718,  19723,  20337,  20424,  21236,\n",
       "        21577,  21743,  21777,  22454,  24624,  26898,  26960,  27236,\n",
       "        27557,  31225,  31353,  31591,  31805,  33386,  34686,  34885,\n",
       "        35195,  35442,  35845,  38073,  38620,  39628,  42432,  42916,\n",
       "        43187,  43225,  44417,  45062,  45668,  46804,  48260,  49033,\n",
       "        50530,  53124,  56108,  58368,  59167,  59282,  59766,  60557,\n",
       "        60626,  60627,  62886,  62963,  63827,  64204,  64249,  64385,\n",
       "        66091,  66354,  66540,  68134,  69169,  69233,  69905,  70098,\n",
       "        70194,  72405,  72456,  73127,  73647,  74532,  74663,  75024,\n",
       "        75045,  75047,  75958,  77104,  77281,  78243,  78252,  78826,\n",
       "        79108,  79192,  79669,  80484,  82368,  82590,  82763,  83140,\n",
       "        83527,  83546,  83930,  84106,  84259,  85123,  85230,  85369,\n",
       "        85614,  86170,  86184,  86216,  86236,  86360,  86386,  86408,\n",
       "        86720,  86998,  87558,  87695,  87736,  87949,  88114,  88127,\n",
       "        88568,  88804,  90032,  90051,  92968,  93186,  96932,  96949,\n",
       "        97882,  98180,  98742,  99245,  99466,  99739, 100265, 103144,\n",
       "       105641, 105905, 106227, 107587, 107845, 109582, 110154, 111169,\n",
       "       111343, 112764, 112870, 112962, 113129, 113179, 113246, 113340,\n",
       "       113365, 113389, 113393, 113458, 113531, 113621, 113697, 113704,\n",
       "       113729, 113787, 113834, 114395, 116481, 116900, 116983, 117241,\n",
       "       117905, 118940, 119072, 119151, 119356, 119735, 119785, 122274,\n",
       "       124064, 125503, 126757, 127305, 127956, 129248, 130756, 130962,\n",
       "       131201, 134218, 135057, 135861, 137410, 137511, 138760, 139447,\n",
       "       140865, 141164, 142207, 142707, 143901, 144763, 144873, 146106,\n",
       "       147414, 147897, 148397, 149197, 150051, 150321, 150549, 151040,\n",
       "       151703, 151919, 152511, 154326, 154685, 158365, 158788, 159682,\n",
       "       160697, 163733, 163954, 164284, 164634, 164770, 164805, 165406,\n",
       "       166149, 166297, 166520, 166529, 166540, 167142, 169020, 169423,\n",
       "       169793, 169962, 170332, 170845, 171197, 174115, 176485, 178408,\n",
       "       181874, 182005, 183634, 184794, 185206, 185707, 186124, 186499,\n",
       "       186570, 186620, 187539, 188143])"
      ]
     },
     "execution_count": 23,
     "metadata": {},
     "output_type": "execute_result"
    }
   ],
   "source": [
    "\n",
    "np.array(list(peak_ids))[(np.array(jaccard_scores)==1) & (np.log(pval_signal)>8)]\n"
   ]
  },
  {
   "cell_type": "code",
   "execution_count": 24,
   "metadata": {},
   "outputs": [
    {
     "data": {
      "text/plain": [
       "0       chr3\n",
       "1    9862277\n",
       "2    9863057\n",
       "Name: 116983, dtype: object"
      ]
     },
     "execution_count": 24,
     "metadata": {},
     "output_type": "execute_result"
    }
   ],
   "source": [
    "peaks_bed.loc[116983]"
   ]
  },
  {
   "cell_type": "code",
   "execution_count": 25,
   "metadata": {},
   "outputs": [
    {
     "data": {
      "text/plain": [
       "<matplotlib.legend.Legend at 0x7fab70a79150>"
      ]
     },
     "execution_count": 25,
     "metadata": {},
     "output_type": "execute_result"
    },
    {
     "data": {
      "image/png": "[encoded data removed]",
      "text/plain": [
       "<Figure size 432x288 with 1 Axes>"
      ]
     },
     "metadata": {
      "needs_background": "light"
     },
     "output_type": "display_data"
    }
   ],
   "source": [
    "import numpy as np\n",
    "# getting data of the histogram\n",
    "count, bins_count = np.histogram(jaccard_scores, bins=500)\n",
    "  \n",
    "# finding the PDF of the histogram using count values\n",
    "pdf = count / sum(count)\n",
    "  \n",
    "# using numpy np.cumsum to calculate the CDF\n",
    "# We can also find using the PDF values by looping and adding\n",
    "cdf = np.cumsum(pdf)\n",
    "  \n",
    "# plotting PDF and CDF\n",
    "#plt.plot(bins_count[1:], pdf, color=\"red\", label=\"PDF\")\n",
    "plt.plot(bins_count[1:], cdf, label=\"CDF\")\n",
    "plt.legend()"
   ]
  },
  {
   "cell_type": "code",
   "execution_count": 26,
   "metadata": {},
   "outputs": [
    {
     "data": {
      "text/plain": [
       "0.5"
      ]
     },
     "execution_count": 26,
     "metadata": {},
     "output_type": "execute_result"
    }
   ],
   "source": [
    "np.median(jaccard_scores)"
   ]
  },
  {
   "cell_type": "code",
   "execution_count": 27,
   "metadata": {},
   "outputs": [
    {
     "data": {
      "text/plain": [
       "0.5638982418491638"
      ]
     },
     "execution_count": 27,
     "metadata": {},
     "output_type": "execute_result"
    }
   ],
   "source": [
    "np.mean(jaccard_scores)"
   ]
  },
  {
   "cell_type": "code",
   "execution_count": null,
   "metadata": {},
   "outputs": [],
   "source": []
  }
 ],
 "metadata": {
  "kernelspec": {
   "display_name": "Python 3",
   "language": "python",
   "name": "python3"
  },
  "language_info": {
   "codemirror_mode": {
    "name": "ipython",
    "version": 3
   },
   "file_extension": ".py",
   "mimetype": "text/x-python",
   "name": "python",
   "nbconvert_exporter": "python",
   "pygments_lexer": "ipython3",
   "version": "3.7.6"
  }
 },
 "nbformat": 4,
 "nbformat_minor": 4
}
