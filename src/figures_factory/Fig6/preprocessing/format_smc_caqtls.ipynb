{
 "cells": [
  {
   "cell_type": "code",
   "execution_count": 1,
   "metadata": {},
   "outputs": [],
   "source": [
    "import pandas as pd"
   ]
  },
  {
   "cell_type": "code",
   "execution_count": 2,
   "metadata": {},
   "outputs": [],
   "source": [
    "\n",
    "# dataf = pd.read_csv(\"/mnt/lab_data2/anusri/chrombpnet/src/evaluation/figure_notebooks/figure_6/final_figures_new/smc.caqtls.tsv\", sep=\"\\t\", header=0)\n",
    "# dataf\n",
    "# sum(dataf[\"IsUsed\"])\n",
    "# dataf.columns"
   ]
  },
  {
   "cell_type": "code",
   "execution_count": 3,
   "metadata": {},
   "outputs": [],
   "source": [
    "orig = pd.read_csv(\"/mnt/lab_data2/anusri/variant-scorer/src/output/smc_caqtls/SMC_rasqual_results_FDR_0.05_083121.txt\",  sep=\"\\t\", header=0)\n",
    "preds = pd.read_csv(\"/mnt/lab_data2/anusri/variant-scorer/src/output/smc_caqtls/ATAC_sig_only_new/summary.mean.variant_scores_new.tsv\", sep=\"\\t\", header=0)\n",
    "import numpy as np\n",
    "preds[\"jsd.sign.mean\"] = np.sign(preds[\"logfc.mean\"])* preds[\"jsd.mean\"]\n",
    "preds = preds[[\"chr\", \"pos\", \"allele1\", \"allele2\", \"logfc.mean\", \"jsd.sign.mean\"]]\n",
    "orig = orig.merge(preds, left_on=['Chromosome', 'SNP_position', 'Ref_allele','Alt_allele'], right_on=[\"chr\", \"pos\", \"allele1\", \"allele2\"]).drop_duplicates()\n",
    "orig[\"pos0\"] = orig[\"SNP_position\"] - 1\n",
    "selected_beds = orig[['Chromosome', \"pos0\", 'SNP_position', 'Ref_allele', 'Alt_allele', 'Log10_BH_Q', 'Effect_size', 'logfc.mean', 'jsd.sign.mean']]\n",
    "\n",
    "\n",
    "fold_0=pd.read_csv(\"/oak/stanford/groups/akundaje/anusri/chrombpnet_zenodo_uploads_reformatted/SMC_scATAC_ChromBPNet/data/fold_0/peaks.testset.bed.gz\", sep=\"\\t\", header=None)\n",
    "fold_1=pd.read_csv(\"/oak/stanford/groups/akundaje/anusri/chrombpnet_zenodo_uploads_reformatted/SMC_scATAC_ChromBPNet/data/fold_1/peaks.testset.bed.gz\", sep=\"\\t\", header=None)\n",
    "fold_2=pd.read_csv(\"/oak/stanford/groups/akundaje/anusri/chrombpnet_zenodo_uploads_reformatted/SMC_scATAC_ChromBPNet/data/fold_2/peaks.testset.bed.gz\", sep=\"\\t\", header=None)\n",
    "fold_3=pd.read_csv(\"/oak/stanford/groups/akundaje/anusri/chrombpnet_zenodo_uploads_reformatted/SMC_scATAC_ChromBPNet/data/fold_3/peaks.testset.bed.gz\", sep=\"\\t\", header=None)\n",
    "fold_4=pd.read_csv(\"/oak/stanford/groups/akundaje/anusri/chrombpnet_zenodo_uploads_reformatted/SMC_scATAC_ChromBPNet/data/fold_4/peaks.testset.bed.gz\", sep=\"\\t\", header=None)\n",
    "peaks_bed = pd.concat([fold_0, fold_1, fold_2, fold_3, fold_4])\n",
    "peaks_bed[1] = peaks_bed[1] + peaks_bed[9] - 100\n",
    "peaks_bed[2] = peaks_bed[1] + 200\n",
    "\n",
    "\n",
    "import pybedtools\n",
    "beds_var = pybedtools.BedTool.from_dataframe(selected_beds)\n",
    "peak_bed =  pybedtools.BedTool.from_dataframe(peaks_bed)\n",
    "sig_vars_in_bed = beds_var.intersect(peak_bed, c=True)\n",
    "\n",
    "sig_vars_in_bed = sig_vars_in_bed.to_dataframe(names=['Chromosome', \"pos0\", 'SNP_position', 'Ref_allele', 'Alt_allele', 'Log10_BH_Q', 'Effect_size', 'logfc.mean', 'jsd.sign.mean', \"hits\"]).drop_duplicates()\n",
    "\n",
    "\n",
    "sig_vars_in_bed[\"IsUsed\"] = sig_vars_in_bed[\"hits\"] > 0"
   ]
  },
  {
   "cell_type": "code",
   "execution_count": 4,
   "metadata": {},
   "outputs": [
    {
     "data": {
      "text/html": [
       "<div>\n",
       "<style scoped>\n",
       "    .dataframe tbody tr th:only-of-type {\n",
       "        vertical-align: middle;\n",
       "    }\n",
       "\n",
       "    .dataframe tbody tr th {\n",
       "        vertical-align: top;\n",
       "    }\n",
       "\n",
       "    .dataframe thead th {\n",
       "        text-align: right;\n",
       "    }\n",
       "</style>\n",
       "<table border=\"1\" class=\"dataframe\">\n",
       "  <thead>\n",
       "    <tr style=\"text-align: right;\">\n",
       "      <th></th>\n",
       "      <th>Chromosome</th>\n",
       "      <th>pos0</th>\n",
       "      <th>SNP_position</th>\n",
       "      <th>Ref_allele</th>\n",
       "      <th>Alt_allele</th>\n",
       "      <th>Log10_BH_Q</th>\n",
       "      <th>Effect_size</th>\n",
       "      <th>logfc.mean</th>\n",
       "      <th>jsd.sign.mean</th>\n",
       "      <th>hits</th>\n",
       "      <th>IsUsed</th>\n",
       "    </tr>\n",
       "  </thead>\n",
       "  <tbody>\n",
       "    <tr>\n",
       "      <th>0</th>\n",
       "      <td>chr1</td>\n",
       "      <td>1067006</td>\n",
       "      <td>1067007</td>\n",
       "      <td>A</td>\n",
       "      <td>G</td>\n",
       "      <td>-4.920961</td>\n",
       "      <td>0.200715</td>\n",
       "      <td>0.022735</td>\n",
       "      <td>0.008771</td>\n",
       "      <td>0</td>\n",
       "      <td>False</td>\n",
       "    </tr>\n",
       "    <tr>\n",
       "      <th>1</th>\n",
       "      <td>chr1</td>\n",
       "      <td>108121218</td>\n",
       "      <td>108121219</td>\n",
       "      <td>C</td>\n",
       "      <td>G</td>\n",
       "      <td>-4.118572</td>\n",
       "      <td>0.228169</td>\n",
       "      <td>0.021728</td>\n",
       "      <td>0.009595</td>\n",
       "      <td>0</td>\n",
       "      <td>False</td>\n",
       "    </tr>\n",
       "    <tr>\n",
       "      <th>2</th>\n",
       "      <td>chr1</td>\n",
       "      <td>108721446</td>\n",
       "      <td>108721447</td>\n",
       "      <td>C</td>\n",
       "      <td>T</td>\n",
       "      <td>-9.266900</td>\n",
       "      <td>0.764114</td>\n",
       "      <td>0.289341</td>\n",
       "      <td>0.031146</td>\n",
       "      <td>1</td>\n",
       "      <td>True</td>\n",
       "    </tr>\n",
       "    <tr>\n",
       "      <th>3</th>\n",
       "      <td>chr1</td>\n",
       "      <td>108842307</td>\n",
       "      <td>108842308</td>\n",
       "      <td>G</td>\n",
       "      <td>C</td>\n",
       "      <td>-4.721082</td>\n",
       "      <td>0.242912</td>\n",
       "      <td>-0.293381</td>\n",
       "      <td>-0.041953</td>\n",
       "      <td>0</td>\n",
       "      <td>False</td>\n",
       "    </tr>\n",
       "    <tr>\n",
       "      <th>4</th>\n",
       "      <td>chr1</td>\n",
       "      <td>109272629</td>\n",
       "      <td>109272630</td>\n",
       "      <td>A</td>\n",
       "      <td>G</td>\n",
       "      <td>-3.006430</td>\n",
       "      <td>0.709092</td>\n",
       "      <td>0.100375</td>\n",
       "      <td>0.016716</td>\n",
       "      <td>0</td>\n",
       "      <td>False</td>\n",
       "    </tr>\n",
       "    <tr>\n",
       "      <th>...</th>\n",
       "      <td>...</td>\n",
       "      <td>...</td>\n",
       "      <td>...</td>\n",
       "      <td>...</td>\n",
       "      <td>...</td>\n",
       "      <td>...</td>\n",
       "      <td>...</td>\n",
       "      <td>...</td>\n",
       "      <td>...</td>\n",
       "      <td>...</td>\n",
       "      <td>...</td>\n",
       "    </tr>\n",
       "    <tr>\n",
       "      <th>1979</th>\n",
       "      <td>chr9</td>\n",
       "      <td>96159156</td>\n",
       "      <td>96159157</td>\n",
       "      <td>C</td>\n",
       "      <td>T</td>\n",
       "      <td>-3.026381</td>\n",
       "      <td>0.806026</td>\n",
       "      <td>-0.104170</td>\n",
       "      <td>-0.024419</td>\n",
       "      <td>0</td>\n",
       "      <td>False</td>\n",
       "    </tr>\n",
       "    <tr>\n",
       "      <th>1980</th>\n",
       "      <td>chr9</td>\n",
       "      <td>96178224</td>\n",
       "      <td>96178225</td>\n",
       "      <td>G</td>\n",
       "      <td>A</td>\n",
       "      <td>-4.596132</td>\n",
       "      <td>0.787369</td>\n",
       "      <td>0.016330</td>\n",
       "      <td>0.007556</td>\n",
       "      <td>0</td>\n",
       "      <td>False</td>\n",
       "    </tr>\n",
       "    <tr>\n",
       "      <th>1981</th>\n",
       "      <td>chr9</td>\n",
       "      <td>97227899</td>\n",
       "      <td>97227900</td>\n",
       "      <td>A</td>\n",
       "      <td>T</td>\n",
       "      <td>-2.961709</td>\n",
       "      <td>0.405945</td>\n",
       "      <td>-0.000896</td>\n",
       "      <td>-0.007822</td>\n",
       "      <td>0</td>\n",
       "      <td>False</td>\n",
       "    </tr>\n",
       "    <tr>\n",
       "      <th>1982</th>\n",
       "      <td>chr9</td>\n",
       "      <td>98873906</td>\n",
       "      <td>98873907</td>\n",
       "      <td>T</td>\n",
       "      <td>C</td>\n",
       "      <td>-4.182089</td>\n",
       "      <td>0.608833</td>\n",
       "      <td>-0.040235</td>\n",
       "      <td>-0.008717</td>\n",
       "      <td>0</td>\n",
       "      <td>False</td>\n",
       "    </tr>\n",
       "    <tr>\n",
       "      <th>1983</th>\n",
       "      <td>chr9</td>\n",
       "      <td>99444663</td>\n",
       "      <td>99444664</td>\n",
       "      <td>G</td>\n",
       "      <td>A</td>\n",
       "      <td>-4.616533</td>\n",
       "      <td>0.279315</td>\n",
       "      <td>0.060264</td>\n",
       "      <td>0.012065</td>\n",
       "      <td>0</td>\n",
       "      <td>False</td>\n",
       "    </tr>\n",
       "  </tbody>\n",
       "</table>\n",
       "<p>1984 rows × 11 columns</p>\n",
       "</div>"
      ],
      "text/plain": [
       "     Chromosome       pos0  SNP_position Ref_allele Alt_allele  Log10_BH_Q  \\\n",
       "0          chr1    1067006       1067007          A          G   -4.920961   \n",
       "1          chr1  108121218     108121219          C          G   -4.118572   \n",
       "2          chr1  108721446     108721447          C          T   -9.266900   \n",
       "3          chr1  108842307     108842308          G          C   -4.721082   \n",
       "4          chr1  109272629     109272630          A          G   -3.006430   \n",
       "...         ...        ...           ...        ...        ...         ...   \n",
       "1979       chr9   96159156      96159157          C          T   -3.026381   \n",
       "1980       chr9   96178224      96178225          G          A   -4.596132   \n",
       "1981       chr9   97227899      97227900          A          T   -2.961709   \n",
       "1982       chr9   98873906      98873907          T          C   -4.182089   \n",
       "1983       chr9   99444663      99444664          G          A   -4.616533   \n",
       "\n",
       "      Effect_size  logfc.mean  jsd.sign.mean  hits  IsUsed  \n",
       "0        0.200715    0.022735       0.008771     0   False  \n",
       "1        0.228169    0.021728       0.009595     0   False  \n",
       "2        0.764114    0.289341       0.031146     1    True  \n",
       "3        0.242912   -0.293381      -0.041953     0   False  \n",
       "4        0.709092    0.100375       0.016716     0   False  \n",
       "...           ...         ...            ...   ...     ...  \n",
       "1979     0.806026   -0.104170      -0.024419     0   False  \n",
       "1980     0.787369    0.016330       0.007556     0   False  \n",
       "1981     0.405945   -0.000896      -0.007822     0   False  \n",
       "1982     0.608833   -0.040235      -0.008717     0   False  \n",
       "1983     0.279315    0.060264       0.012065     0   False  \n",
       "\n",
       "[1984 rows x 11 columns]"
      ]
     },
     "execution_count": 4,
     "metadata": {},
     "output_type": "execute_result"
    }
   ],
   "source": [
    "sig_vars_in_bed"
   ]
  },
  {
   "cell_type": "code",
   "execution_count": 5,
   "metadata": {},
   "outputs": [
    {
     "data": {
      "text/plain": [
       "386"
      ]
     },
     "execution_count": 5,
     "metadata": {},
     "output_type": "execute_result"
    }
   ],
   "source": [
    "sum(sig_vars_in_bed[\"IsUsed\"])"
   ]
  },
  {
   "cell_type": "code",
   "execution_count": 6,
   "metadata": {},
   "outputs": [
    {
     "data": {
      "text/plain": [
       "Index(['Chromosome', 'pos0', 'SNP_position', 'Ref_allele', 'Alt_allele',\n",
       "       'Log10_BH_Q', 'Effect_size', 'logfc.mean', 'jsd.sign.mean', 'hits',\n",
       "       'IsUsed'],\n",
       "      dtype='object')"
      ]
     },
     "execution_count": 6,
     "metadata": {},
     "output_type": "execute_result"
    }
   ],
   "source": [
    "sig_vars_in_bed.columns"
   ]
  },
  {
   "cell_type": "code",
   "execution_count": 7,
   "metadata": {},
   "outputs": [
    {
     "data": {
      "text/plain": [
       "Index(['Feature_ID', 'rsID', 'Chromosome', 'SNP_position', 'Ref_allele',\n",
       "       'Alt_allele', 'Freq', 'HWE_Chisquare', 'Imp_quality', 'Log10_BH_Q',\n",
       "       'Chisquare', 'Effect_size', 'Delta', 'Phi', 'Overdispersion',\n",
       "       'SNP_id_region', 'Num_feature_SNPs', 'Num_tested_SNPs',\n",
       "       'Num_iterations_null', 'Num_iterations_alt', 'Random_ties',\n",
       "       'Log_likelihood_null', 'Convergence_status', 'Sq_corr_fSNPs',\n",
       "       'Sq_corr_rSNP', 'P', 'q', 'keep', 'PeakID', 'Chr', 'Start', 'End',\n",
       "       'Strand', 'Peak Score', 'Focus Ratio/Region Size', 'Annotation',\n",
       "       'Detailed Annotation', 'Distance to TSS', 'Nearest PromoterID',\n",
       "       'Entrez ID', 'Nearest Unigene', 'Nearest Refseq', 'Nearest Ensembl',\n",
       "       'Gene Name', 'Gene Alias', 'Gene Description', 'Gene Type', 'chr',\n",
       "       'pos', 'allele1', 'allele2', 'logfc.mean', 'jsd.sign.mean', 'pos0'],\n",
       "      dtype='object')"
      ]
     },
     "execution_count": 7,
     "metadata": {},
     "output_type": "execute_result"
    }
   ],
   "source": [
    "orig.columns"
   ]
  },
  {
   "cell_type": "code",
   "execution_count": 8,
   "metadata": {},
   "outputs": [
    {
     "data": {
      "text/plain": [
       "(1984, 11)"
      ]
     },
     "execution_count": 8,
     "metadata": {},
     "output_type": "execute_result"
    }
   ],
   "source": [
    "sig_vars_in_bed.shape"
   ]
  },
  {
   "cell_type": "code",
   "execution_count": 9,
   "metadata": {},
   "outputs": [
    {
     "data": {
      "text/plain": [
       "(1984, 54)"
      ]
     },
     "execution_count": 9,
     "metadata": {},
     "output_type": "execute_result"
    }
   ],
   "source": [
    "orig.shape"
   ]
  },
  {
   "cell_type": "code",
   "execution_count": 10,
   "metadata": {},
   "outputs": [],
   "source": [
    "rename_dict = {'Chromosome': \"var.chr\",\n",
    "                'SNP_position': \"var.pos_hg38\",\n",
    "                'Ref_allele': \"var.ref\",\n",
    "                'Alt_allele': \"var.alt\",\n",
    "                'Log10_BH_Q': \"obs.Log10_BH_Q\", \n",
    "                'Effect_size': \"obs.Effect_size\",\n",
    "                'logfc.mean': \"pred.chrombpnet.smc.varscore.logfc\",\n",
    "                'jsd.sign.mean': \"pred.chrombpnet.smc.varscore.jsd\",\n",
    "                'IsUsed': \"var.isused\"}"
   ]
  },
  {
   "cell_type": "code",
   "execution_count": 11,
   "metadata": {},
   "outputs": [],
   "source": [
    "data = sig_vars_in_bed.rename(columns=rename_dict)"
   ]
  },
  {
   "cell_type": "code",
   "execution_count": 12,
   "metadata": {},
   "outputs": [
    {
     "data": {
      "text/plain": [
       "Index(['var.chr', 'pos0', 'var.pos_hg38', 'var.ref', 'var.alt',\n",
       "       'obs.Log10_BH_Q', 'obs.Effect_size',\n",
       "       'pred.chrombpnet.smc.varscore.logfc',\n",
       "       'pred.chrombpnet.smc.varscore.jsd', 'hits', 'var.isused'],\n",
       "      dtype='object')"
      ]
     },
     "execution_count": 12,
     "metadata": {},
     "output_type": "execute_result"
    }
   ],
   "source": [
    "data.columns"
   ]
  },
  {
   "cell_type": "code",
   "execution_count": 13,
   "metadata": {},
   "outputs": [],
   "source": [
    "use_cols=['var.chr', 'pos0', 'var.pos_hg38', 'var.ref', 'var.alt',\n",
    "       'obs.Log10_BH_Q', 'obs.Effect_size',\n",
    "       'pred.chrombpnet.smc.varscore.logfc',\n",
    "       'pred.chrombpnet.smc.varscore.jsd', 'var.isused']"
   ]
  },
  {
   "cell_type": "code",
   "execution_count": 14,
   "metadata": {},
   "outputs": [],
   "source": [
    "dataf = data[use_cols]\n"
   ]
  },
  {
   "cell_type": "code",
   "execution_count": 15,
   "metadata": {},
   "outputs": [],
   "source": [
    "dataf_final = dataf[dataf[\"var.isused\"]]\n",
    "dataf_final = dataf_final.drop([\"var.isused\"], axis=1)\n",
    "dataf.to_csv(\"full_variants/caqtls.smc.benchmarking.all.tsv\", sep='\\t', header=True, index=False)\n",
    "dataf_final.to_csv(\"filtered_variants/caqtls.smc.benchmarking.chrombpnet.tsv\", sep='\\t', header=True, index=False)"
   ]
  },
  {
   "cell_type": "code",
   "execution_count": 16,
   "metadata": {},
   "outputs": [
    {
     "data": {
      "text/plain": [
       "(386, 9)"
      ]
     },
     "execution_count": 16,
     "metadata": {},
     "output_type": "execute_result"
    }
   ],
   "source": [
    "dataf_final.shape"
   ]
  },
  {
   "cell_type": "code",
   "execution_count": 17,
   "metadata": {},
   "outputs": [
    {
     "data": {
      "text/plain": [
       "(1984, 10)"
      ]
     },
     "execution_count": 17,
     "metadata": {},
     "output_type": "execute_result"
    }
   ],
   "source": [
    "dataf.shape"
   ]
  },
  {
   "cell_type": "code",
   "execution_count": null,
   "metadata": {},
   "outputs": [],
   "source": []
  }
 ],
 "metadata": {
  "kernelspec": {
   "display_name": "Python 3",
   "language": "python",
   "name": "python3"
  },
  "language_info": {
   "codemirror_mode": {
    "name": "ipython",
    "version": 3
   },
   "file_extension": ".py",
   "mimetype": "text/x-python",
   "name": "python",
   "nbconvert_exporter": "python",
   "pygments_lexer": "ipython3",
   "version": "3.7.6"
  }
 },
 "nbformat": 4,
 "nbformat_minor": 4
}
