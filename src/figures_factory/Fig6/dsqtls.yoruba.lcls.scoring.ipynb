{
 "cells": [
  {
   "cell_type": "code",
   "execution_count": 1,
   "metadata": {},
   "outputs": [],
   "source": [
    "import pandas as pd\n",
    "import scipy.stats"
   ]
  },
  {
   "cell_type": "code",
   "execution_count": null,
   "metadata": {},
   "outputs": [],
   "source": []
  },
  {
   "cell_type": "code",
   "execution_count": null,
   "metadata": {},
   "outputs": [],
   "source": []
  },
  {
   "cell_type": "code",
   "execution_count": 2,
   "metadata": {},
   "outputs": [],
   "source": [
    "data = pd.read_csv(\"../full_variants/dsqtls.yoruba.lcls.benchmarking.all.tsv\", sep=\"\\t\", header=0)"
   ]
  },
  {
   "cell_type": "code",
   "execution_count": 3,
   "metadata": {},
   "outputs": [
    {
     "data": {
      "text/html": [
       "<div>\n",
       "<style scoped>\n",
       "    .dataframe tbody tr th:only-of-type {\n",
       "        vertical-align: middle;\n",
       "    }\n",
       "\n",
       "    .dataframe tbody tr th {\n",
       "        vertical-align: top;\n",
       "    }\n",
       "\n",
       "    .dataframe thead th {\n",
       "        text-align: right;\n",
       "    }\n",
       "</style>\n",
       "<table border=\"1\" class=\"dataframe\">\n",
       "  <thead>\n",
       "    <tr style=\"text-align: right;\">\n",
       "      <th></th>\n",
       "      <th>var.chrom</th>\n",
       "      <th>var.pos_hg19</th>\n",
       "      <th>var.allele1</th>\n",
       "      <th>var.allele2</th>\n",
       "      <th>var.rsid</th>\n",
       "      <th>obs.label</th>\n",
       "      <th>var.isused</th>\n",
       "      <th>obs.estimate</th>\n",
       "      <th>pred.gkmsvm.encsr000emt.varscore.deltasvm</th>\n",
       "      <th>pred.enformer.encsr000emt.varscore.global_sad</th>\n",
       "      <th>...</th>\n",
       "      <th>pred.chrombpnet.encsr637xsc_50m.varscore.aaq</th>\n",
       "      <th>pred.chrombpnet.encsr637xsc_50m.varscore.ies</th>\n",
       "      <th>pred.chrombpnet.encsr637xsc_50m.varscore.jsd_x_aaq</th>\n",
       "      <th>pred.chrombpnet.encsr637xsc_50m.varscore.logfc_x_aaq</th>\n",
       "      <th>pred.chrombpnet.encsr637xsc_25m.varscore.logfc</th>\n",
       "      <th>pred.chrombpnet.encsr637xsc_25m.varscore.jsd</th>\n",
       "      <th>pred.chrombpnet.encsr637xsc_25m.varscore.ips</th>\n",
       "      <th>pred.chrombpnet.encsr637xsc_5m.varscore.logfc</th>\n",
       "      <th>pred.chrombpnet.encsr637xsc_5m.varscore.jsd</th>\n",
       "      <th>pred.chrombpnet.encsr637xsc_5m.varscore.ips</th>\n",
       "    </tr>\n",
       "  </thead>\n",
       "  <tbody>\n",
       "    <tr>\n",
       "      <th>0</th>\n",
       "      <td>chr1</td>\n",
       "      <td>856583</td>\n",
       "      <td>A</td>\n",
       "      <td>G</td>\n",
       "      <td>rs141671872</td>\n",
       "      <td>1</td>\n",
       "      <td>True</td>\n",
       "      <td>0.9301</td>\n",
       "      <td>2.653531</td>\n",
       "      <td>0.000342</td>\n",
       "      <td>...</td>\n",
       "      <td>0.248566</td>\n",
       "      <td>0.044994</td>\n",
       "      <td>0.021877</td>\n",
       "      <td>0.127298</td>\n",
       "      <td>0.291935</td>\n",
       "      <td>0.067401</td>\n",
       "      <td>0.00484</td>\n",
       "      <td>0.065098</td>\n",
       "      <td>0.049902</td>\n",
       "      <td>0.00136</td>\n",
       "    </tr>\n",
       "  </tbody>\n",
       "</table>\n",
       "<p>1 rows × 45 columns</p>\n",
       "</div>"
      ],
      "text/plain": [
       "  var.chrom  var.pos_hg19 var.allele1 var.allele2     var.rsid  obs.label  \\\n",
       "0      chr1        856583           A           G  rs141671872          1   \n",
       "\n",
       "   var.isused  obs.estimate  pred.gkmsvm.encsr000emt.varscore.deltasvm  \\\n",
       "0        True        0.9301                                   2.653531   \n",
       "\n",
       "   pred.enformer.encsr000emt.varscore.global_sad  ...  \\\n",
       "0                                       0.000342  ...   \n",
       "\n",
       "   pred.chrombpnet.encsr637xsc_50m.varscore.aaq  \\\n",
       "0                                      0.248566   \n",
       "\n",
       "   pred.chrombpnet.encsr637xsc_50m.varscore.ies  \\\n",
       "0                                      0.044994   \n",
       "\n",
       "   pred.chrombpnet.encsr637xsc_50m.varscore.jsd_x_aaq  \\\n",
       "0                                           0.021877    \n",
       "\n",
       "   pred.chrombpnet.encsr637xsc_50m.varscore.logfc_x_aaq  \\\n",
       "0                                           0.127298      \n",
       "\n",
       "   pred.chrombpnet.encsr637xsc_25m.varscore.logfc  \\\n",
       "0                                        0.291935   \n",
       "\n",
       "   pred.chrombpnet.encsr637xsc_25m.varscore.jsd  \\\n",
       "0                                      0.067401   \n",
       "\n",
       "   pred.chrombpnet.encsr637xsc_25m.varscore.ips  \\\n",
       "0                                       0.00484   \n",
       "\n",
       "   pred.chrombpnet.encsr637xsc_5m.varscore.logfc  \\\n",
       "0                                       0.065098   \n",
       "\n",
       "   pred.chrombpnet.encsr637xsc_5m.varscore.jsd  \\\n",
       "0                                     0.049902   \n",
       "\n",
       "   pred.chrombpnet.encsr637xsc_5m.varscore.ips  \n",
       "0                                      0.00136  \n",
       "\n",
       "[1 rows x 45 columns]"
      ]
     },
     "execution_count": 3,
     "metadata": {},
     "output_type": "execute_result"
    }
   ],
   "source": [
    "data.head(1)"
   ]
  },
  {
   "cell_type": "code",
   "execution_count": 4,
   "metadata": {},
   "outputs": [],
   "source": [
    "dataf = data[data[\"var.isused\"]]"
   ]
  },
  {
   "cell_type": "code",
   "execution_count": 5,
   "metadata": {},
   "outputs": [
    {
     "data": {
      "text/plain": [
       "(27373, 45)"
      ]
     },
     "execution_count": 5,
     "metadata": {},
     "output_type": "execute_result"
    }
   ],
   "source": [
    "dataf.shape"
   ]
  },
  {
   "cell_type": "code",
   "execution_count": 6,
   "metadata": {},
   "outputs": [
    {
     "name": "stdout",
     "output_type": "stream",
     "text": [
      "560\n",
      "26813\n"
     ]
    }
   ],
   "source": [
    "print(sum(dataf[\"obs.label\"]==1))\n",
    "print(sum(dataf[\"obs.label\"]==-1))"
   ]
  },
  {
   "cell_type": "markdown",
   "metadata": {},
   "source": [
    "# AUPRC Benchmarking"
   ]
  },
  {
   "cell_type": "code",
   "execution_count": 7,
   "metadata": {},
   "outputs": [
    {
     "data": {
      "image/png": "[encoded data removed]",
      "text/plain": [
       "<Figure size 720x432 with 1 Axes>"
      ]
     },
     "metadata": {
      "needs_background": "light"
     },
     "output_type": "display_data"
    }
   ],
   "source": [
    "import matplotlib.pyplot as plt\n",
    "import pandas as pd\n",
    "from sklearn.metrics import precision_recall_curve\n",
    "from sklearn.metrics import roc_curve\n",
    "from sklearn.metrics import RocCurveDisplay\n",
    "import pandas as pd\n",
    "import matplotlib.pyplot as plt\n",
    "import numpy as np\n",
    "from sklearn import metrics\n",
    "import matplotlib.pyplot as plt\n",
    "import matplotlib\n",
    "\n",
    "\n",
    "matplotlib.rcParams['pdf.fonttype'] = 42\n",
    "matplotlib.rcParams['ps.fonttype'] = 42 \n",
    "\n",
    "import random\n",
    "import os\n",
    "import argparse\n",
    "from sklearn.metrics import precision_recall_curve\n",
    "\n",
    "\n",
    "fig, ax = plt.subplots(figsize=(10,6))\n",
    "\n",
    "######################################\n",
    "\n",
    "keyd=\"pred.chrombpnet.encsr637xsc.varscore.ips\"\n",
    "label=dataf[\"obs.label\"].astype(int)\n",
    "score=abs(dataf[keyd])\n",
    "\n",
    "title=\"ChromBPnet w/ ATAC (572M)\"\n",
    "\n",
    "fpr_chrombpnet, tpr_chrombpnet, _ = precision_recall_curve(label,score)\n",
    "roc_auc = metrics.average_precision_score(label, score)\n",
    "ax.plot(tpr_chrombpnet,fpr_chrombpnet,  linewidth=2, c='blue', linestyle='dashed', label=title+\", AP=\"+str(round(roc_auc,2)))\n",
    "\n",
    "######################################\n",
    "\n",
    "keyd=\"pred.chrombpnet.encsr637xsc_50m.varscore.ips\"\n",
    "label=dataf[\"obs.label\"].astype(int)\n",
    "score=abs(dataf[keyd])\n",
    "\n",
    "title=\"ChromBPnet w/ ATAC (50M)\"\n",
    "\n",
    "fpr_chrombpnet, tpr_chrombpnet, _ = precision_recall_curve(label,score)\n",
    "roc_auc = metrics.average_precision_score(label, score)\n",
    "ax.plot(tpr_chrombpnet,fpr_chrombpnet,  linewidth=2, c='blue', label=title+\", AP=\"+str(round(roc_auc,2)))\n",
    "\n",
    "######################################\n",
    "\n",
    "keyd=\"pred.chrombpnet.encsr000emt.varscore.ips\"\n",
    "label=dataf[\"obs.label\"].astype(int)\n",
    "score=abs(dataf[keyd])\n",
    "\n",
    "title=\"ChromBPnet w/ DNASE (68M)\"\n",
    "\n",
    "fpr_chrombpnet, tpr_chrombpnet, _ = precision_recall_curve(label,score)\n",
    "roc_auc = metrics.average_precision_score(label, score)\n",
    "ax.plot(tpr_chrombpnet,fpr_chrombpnet,  linewidth=2, label=title+\", AP=\"+str(round(roc_auc,2)))\n",
    "\n",
    "######################################\n",
    "\n",
    "keyd=\"pred.enformer.encsr000emt.varscore.local_logfc\"\n",
    "label=dataf[\"obs.label\"].astype(int)\n",
    "score=abs(dataf[keyd])\n",
    "title=\"Enformer w/ DNASE (recomputed) (68M)\"\n",
    "\n",
    "fpr_chrombpnet, tpr_chrombpnet, _ = precision_recall_curve(label,score)\n",
    "roc_auc = metrics.average_precision_score(label, score)\n",
    "enformer_auc_recomp = roc_auc\n",
    "\n",
    "ax.plot(tpr_chrombpnet,fpr_chrombpnet,  linewidth=2, label=title+\", AP=\"+str(round(roc_auc,2)))\n",
    "\n",
    "######################################\n",
    "\n",
    "# keyd=\"pred.enformer.encsr000emt.varscore.sad\"\n",
    "# label=dataf[\"obs.label\"].astype(int)\n",
    "# score=abs(dataf[keyd])\n",
    "# title=\"Enformer w/ DNASE SAD (50M)\"\n",
    "\n",
    "# fpr_chrombpnet, tpr_chrombpnet, _ = precision_recall_curve(label,score)\n",
    "# roc_auc = metrics.average_precision_score(label, score)\n",
    "# ax.plot(tpr_chrombpnet,fpr_chrombpnet,  linewidth=2, label=title+\", AP=\"+str(round(roc_auc,2)))\n",
    "\n",
    "######################################\n",
    "\n",
    "keyd=\"pred.enformer.encsr000emt.varscore.global_sar\"\n",
    "label=dataf[\"obs.label\"].astype(int)\n",
    "score=abs(dataf[keyd])\n",
    "title=\"Enformer w/ DNASE (reported) (68M)\"\n",
    "\n",
    "\n",
    "fpr_chrombpnet, tpr_chrombpnet, _ = precision_recall_curve(label,score)\n",
    "roc_auc = metrics.average_precision_score(label, score)\n",
    "ax.plot(tpr_chrombpnet,fpr_chrombpnet,  linewidth=2, label=title+\", AP=\"+str(round(roc_auc,2)))\n",
    "enformer_auc = roc_auc\n",
    "\n",
    "######################################\n",
    "\n",
    "keyd=\"pred.gkmsvm.encsr000emt.varscore.deltasvm\"\n",
    "label=dataf[\"obs.label\"].astype(int)\n",
    "score=abs(dataf[keyd])\n",
    "title=\"DeltaSVM w/ DNASE (68M)\"\n",
    "\n",
    "fpr_chrombpnet, tpr_chrombpnet, _ = precision_recall_curve(label,score)\n",
    "roc_auc = metrics.average_precision_score(label, score)\n",
    "ax.plot(tpr_chrombpnet,fpr_chrombpnet,  linewidth=2, label=title+\", AP=\"+str(round(roc_auc,2)))\n",
    "deltasvm_roc=roc_auc\n",
    "\n",
    "roc_auc=sum(dataf[\"obs.label\"]==1)/len(dataf[\"obs.label\"])\n",
    "ax.plot(fpr_chrombpnet, [sum(dataf[\"obs.label\"]==1)/len(dataf[\"obs.label\"])]*len(fpr_chrombpnet), linewidth=2, label=\"Random baseline, AP=\"+str(round(roc_auc,2)))\n",
    "\n",
    "\n",
    "ax.spines[[\"top\", \"right\"]].set_visible(False)\n",
    "ax.legend(loc='upper right')\n",
    "ax.set_xlabel(\"Recall\")\n",
    "ax.set_ylabel(\"Precision\")\n",
    "\n",
    "plt.savefig(\"subfigs/dsqtls_auprc.pdf\", transparent=True, dpi=300)"
   ]
  },
  {
   "cell_type": "markdown",
   "metadata": {},
   "source": [
    "# AUPRC (best metric)"
   ]
  },
  {
   "cell_type": "code",
   "execution_count": 8,
   "metadata": {},
   "outputs": [],
   "source": [
    "scores = []\n",
    "labels = []\n",
    "keys_df = []\n",
    "\n",
    "keys = ['pred.chrombpnet.encsr637xsc.varscore.ips',\n",
    "       'pred.chrombpnet.encsr637xsc.varscore.ies',\n",
    "       'pred.chrombpnet.encsr637xsc.varscore.jsd_x_aaq',\n",
    "       'pred.chrombpnet.encsr637xsc.varscore.logfc_x_aaq',\n",
    "       'pred.chrombpnet.encsr637xsc.varscore.jsd',     \n",
    "       'pred.chrombpnet.encsr637xsc.varscore.logfc',\n",
    "       'pred.chrombpnet.encsr637xsc.varscore.aaq']\n",
    "\n",
    "\n",
    "key_shorts = [\"IPS\", \n",
    "              \"IES\",\n",
    "              \"jsd_x_aaq\",\n",
    "              \"logfc_x_aaq\",\n",
    "              \"jsd\",\n",
    "              \"logfc\",\n",
    "              \"AAQ\"]\n",
    "\n",
    "names = [\"ATAC (572M)\", \"ATAC (50M)\", \"DNASE (50M)\"]\n",
    "\n",
    "j=0\n",
    "for kd in keys:\n",
    "    i = 0\n",
    "    for title in [\"encsr637xsc\", \"encsr637xsc_50m\", \"encsr000emt\"]:\n",
    "        label=data[\"obs.label\"].astype(int)\n",
    "        score=abs(data[kd.replace(\"encsr637xsc\", title)])\n",
    "        roc_auc = metrics.average_precision_score(label, score)\n",
    "        scores.append(roc_auc)\n",
    "        labels.append(names[i])\n",
    "        keys_df.append(key_shorts[j])\n",
    "        i=i+1\n",
    "    j=j+1"
   ]
  },
  {
   "cell_type": "code",
   "execution_count": 9,
   "metadata": {},
   "outputs": [
    {
     "data": {
      "image/png": "[encoded data removed]",
      "text/plain": [
       "<Figure size 1080x576 with 1 Axes>"
      ]
     },
     "metadata": {
      "needs_background": "light"
     },
     "output_type": "display_data"
    }
   ],
   "source": [
    "import seaborn as sns\n",
    "dictt={\"scores\":scores, \"labels\":labels, \"method\":keys_df}\n",
    "df = pd.DataFrame(dictt)\n",
    "matplotlib.rcParams['pdf.fonttype'] = 42\n",
    "matplotlib.rcParams['ps.fonttype'] = 42 \n",
    "\n",
    "fig, ax = plt.subplots(figsize=(15,8))\n",
    "\n",
    "sns.barplot(data=df, x=\"labels\", y=\"scores\", hue=\"method\", ax=ax)\n",
    "ax.spines[[\"top\", \"right\"]].set_visible(False)\n",
    "\n",
    "plt.savefig(\"subfigs/dsqtls_auprc_score_compare.pdf\", transparent=True, dpi=300)"
   ]
  },
  {
   "cell_type": "code",
   "execution_count": 10,
   "metadata": {},
   "outputs": [
    {
     "data": {
      "text/plain": [
       "0        1\n",
       "1        1\n",
       "2        1\n",
       "3        1\n",
       "4        1\n",
       "        ..\n",
       "28302   -1\n",
       "28303   -1\n",
       "28304   -1\n",
       "28305   -1\n",
       "28307   -1\n",
       "Name: obs.label, Length: 27373, dtype: int64"
      ]
     },
     "execution_count": 10,
     "metadata": {},
     "output_type": "execute_result"
    }
   ],
   "source": [
    "dataf[\"obs.label\"].astype(int)"
   ]
  },
  {
   "cell_type": "code",
   "execution_count": 11,
   "metadata": {},
   "outputs": [],
   "source": [
    "keyd=\"pred.chrombpnet.encsr000emt.varscore.ips\"\n",
    "score=dataf[keyd]"
   ]
  },
  {
   "cell_type": "code",
   "execution_count": 12,
   "metadata": {},
   "outputs": [
    {
     "data": {
      "text/plain": [
       "(array([2.6739e+04, 6.0000e+01, 8.0000e+00, 1.0000e+00, 2.0000e+00,\n",
       "        1.0000e+00, 1.0000e+00, 0.0000e+00, 0.0000e+00, 1.0000e+00]),\n",
       " array([2.90406164e-11, 2.06203065e-02, 4.12406129e-02, 6.18609193e-02,\n",
       "        8.24812258e-02, 1.03101532e-01, 1.23721839e-01, 1.44342145e-01,\n",
       "        1.64962451e-01, 1.85582758e-01, 2.06203064e-01]),\n",
       " <BarContainer object of 10 artists>)"
      ]
     },
     "execution_count": 12,
     "metadata": {},
     "output_type": "execute_result"
    },
    {
     "data": {
      "image/png": "[encoded data removed]",
      "text/plain": [
       "<Figure size 432x288 with 1 Axes>"
      ]
     },
     "metadata": {
      "needs_background": "light"
     },
     "output_type": "display_data"
    }
   ],
   "source": [
    "plt.hist(score[dataf[\"obs.label\"].astype(int)==-1])"
   ]
  },
  {
   "cell_type": "code",
   "execution_count": 13,
   "metadata": {},
   "outputs": [
    {
     "data": {
      "text/plain": [
       "55"
      ]
     },
     "execution_count": 13,
     "metadata": {},
     "output_type": "execute_result"
    }
   ],
   "source": [
    "sum(score[dataf[\"obs.label\"].astype(int)==-1]>0.025)"
   ]
  },
  {
   "cell_type": "code",
   "execution_count": 14,
   "metadata": {},
   "outputs": [
    {
     "data": {
      "text/plain": [
       "119"
      ]
     },
     "execution_count": 14,
     "metadata": {},
     "output_type": "execute_result"
    }
   ],
   "source": [
    "sum(score[dataf[\"obs.label\"].astype(int)==1]>0.025)"
   ]
  },
  {
   "cell_type": "code",
   "execution_count": 15,
   "metadata": {},
   "outputs": [
    {
     "data": {
      "text/plain": [
       "(array([456.,  63.,  21.,  11.,   4.,   1.,   2.,   1.,   0.,   1.]),\n",
       " array([1.07273470e-06, 2.82166130e-02, 5.64321533e-02, 8.46476936e-02,\n",
       "        1.12863234e-01, 1.41078774e-01, 1.69294314e-01, 1.97509855e-01,\n",
       "        2.25725395e-01, 2.53940935e-01, 2.82156476e-01]),\n",
       " <BarContainer object of 10 artists>)"
      ]
     },
     "execution_count": 15,
     "metadata": {},
     "output_type": "execute_result"
    },
    {
     "data": {
      "image/png": "[encoded data removed]",
      "text/plain": [
       "<Figure size 432x288 with 1 Axes>"
      ]
     },
     "metadata": {
      "needs_background": "light"
     },
     "output_type": "display_data"
    }
   ],
   "source": [
    "plt.hist(score[dataf[\"obs.label\"].astype(int)==1])"
   ]
  },
  {
   "cell_type": "code",
   "execution_count": null,
   "metadata": {},
   "outputs": [],
   "source": []
  },
  {
   "cell_type": "markdown",
   "metadata": {},
   "source": [
    "# AUPRC (subsampling)"
   ]
  },
  {
   "cell_type": "code",
   "execution_count": 16,
   "metadata": {},
   "outputs": [],
   "source": [
    "def fetch_auprc_new(p):\n",
    "    fpr_chrombpnet, tpr_chrombpnet, _ = precision_recall_curve(merged_atac[key_label], abs(merged_atac[\"abs_logfc_x_jsd_x_max_percentile.mean\"]))\n",
    "    roc_auc = metrics.average_precision_score(merged_atac[key_label], abs(merged_atac[\"abs_logfc_x_jsd_x_max_percentile.mean\"]))\n",
    "    #roc_auc = metrics.average_precision_score(merged_atac[key_label], abs(merged_atac[\"jsd.mean\"]))\n",
    "    print(roc_auc)\n",
    "    return roc_auc"
   ]
  },
  {
   "cell_type": "code",
   "execution_count": 17,
   "metadata": {},
   "outputs": [
    {
     "name": "stdout",
     "output_type": "stream",
     "text": [
      "0.5382377424514815\n",
      "0.5212720206135839\n",
      "0.5130607361102206\n",
      "0.4573954341174485\n",
      "0.4172765936392213\n",
      "0.289267529781573\n",
      "0.42936897087849046\n"
     ]
    }
   ],
   "source": [
    "rocs = []\n",
    "for title in [\"encsr637xsc\", \"encsr637xsc_250m\", \"encsr637xsc_100m\",\n",
    "              \"encsr637xsc_50m\", \"encsr637xsc_25m\", \"encsr637xsc_5m\", \"encsr000emt\"]:\n",
    "    \n",
    "    roc_auc = metrics.average_precision_score(dataf[\"obs.label\"].astype(int), abs(dataf[\"pred.chrombpnet.encsr637xsc.varscore.ips\".replace(\"encsr637xsc\", title)]))\n",
    "    print(roc_auc)\n",
    "    rocs.append(roc_auc)"
   ]
  },
  {
   "cell_type": "code",
   "execution_count": 18,
   "metadata": {},
   "outputs": [
    {
     "name": "stderr",
     "output_type": "stream",
     "text": [
      "/users/anusri/anaconda3/lib/python3.7/site-packages/ipykernel_launcher.py:13: UserWarning: FixedFormatter should only be used together with FixedLocator\n",
      "  del sys.path[0]\n"
     ]
    },
    {
     "data": {
      "image/png": "[encoded data removed]",
      "text/plain": [
       "<Figure size 360x216 with 1 Axes>"
      ]
     },
     "metadata": {
      "needs_background": "light"
     },
     "output_type": "display_data"
    }
   ],
   "source": [
    "fix, ax = plt.subplots(figsize=(5,3))\n",
    "ax.scatter([\"ATAC\\n572M\", \"ATAC\\n250M\", \"ATAC\\n100M\" ,\"ATAC\\n50M\", \"ATAC\\n25M\", \"ATAC\\n5M\"],rocs[0:-1])\n",
    "ax.plot([\"ATAC\\n572M\", \"ATAC\\n250M\", \"ATAC\\n100M\",\"ATAC\\n50M\", \"ATAC\\n25M\", \"ATAC\\n5M\"],rocs[0:-1], alpha=0.5)\n",
    "ax.scatter([\"DNASE\\n68M\"], [rocs[-1]], marker=\"*\")\n",
    "ax.scatter([\"Enformer recomp\"], [enformer_auc_recomp], marker=\"*\")\n",
    "ax.scatter([\"Enformer\"], [enformer_auc], marker=\"*\")\n",
    "ax.scatter([\"DeltSVM\"], [deltasvm_roc], marker=\"*\")\n",
    "\n",
    "xtix=[\"ChromBPNet ATAC 572M\", \" ChromBPNet ATAC 250M\", \"ChromBPNet ATAC 100M\",\"ChromBPNet ATAC 50M\", \"ChromBPNet ATAC 25M\", \"ChromBPNet ATAC 5M\"]+[\"ChromBPNet DNASE 68M\"]+[\"Enformer DNase 68M\"]+[\"Enformer DNase 68M (reported)\"]+[\"SVM DNase 68m\"]\n",
    "\n",
    "ax.set_ylim((0,0.55))\n",
    "ax.spines[[\"top\", \"right\"]].set_visible(False)\n",
    "ax.set_xticklabels(labels=xtix, rotation=90)\n",
    "ax.set_xlabel(\"Method\")\n",
    "ax.set_ylabel(\"Average Precision\")\n",
    "\n",
    "plt.savefig(\"subfigs/dsqtls_auprc_subsampling.pdf\", transparent=True, dpi=300)\n"
   ]
  },
  {
   "cell_type": "markdown",
   "metadata": {},
   "source": [
    "# Pearsonr (benchmarking)"
   ]
  },
  {
   "cell_type": "code",
   "execution_count": 19,
   "metadata": {},
   "outputs": [
    {
     "name": "stdout",
     "output_type": "stream",
     "text": [
      "0.73\n"
     ]
    }
   ],
   "source": [
    "\n",
    "key_enf_1=\"pred.enformer.encsr000emt.varscore.local_logfc\"\n",
    "key_enf_2=\"pred.enformer.encsr000emt.varscore.global_sar\"\n",
    "key_label=\"obs.label\"\n",
    "obs_estimate=\"obs.estimate\"\n",
    "chrombpnet_logfc=\"pred.chrombpnet.encsr000emt.varscore.logfc\"\n",
    "chrombpnet_atac_logfc=\"pred.chrombpnet.encsr637xsc.varscore.logfc\"\n",
    "delta_svm_key=\"pred.gkmsvm.encsr000emt.varscore.deltasvm\"\n",
    "chrombpnet_atac_50m_logfc=\"pred.chrombpnet.encsr637xsc_50m.varscore.logfc\"\n",
    "\n",
    "\n",
    "# enformer_perf = np.max([scipy.stats.pearsonr(dataf[key_enf_1][dataf[key_label]==1],dataf[obs_estimate][dataf[key_label]==1])[0],\n",
    "#                        scipy.stats.pearsonr(dataf[key_enf_2][dataf[key_label]==1],dataf[obs_estimate][dataf[key_label]==1])[0]])\n",
    "enformer_perf = scipy.stats.pearsonr(dataf[key_enf_1][dataf[key_label]==1],dataf[obs_estimate][dataf[key_label]==1])[0]\n",
    "enformer_perf_old = scipy.stats.pearsonr(dataf[key_enf_2][dataf[key_label]==1],dataf[obs_estimate][dataf[key_label]==1])[0]\n",
    "\n",
    "print(np.round(enformer_perf,2))"
   ]
  },
  {
   "cell_type": "code",
   "execution_count": 20,
   "metadata": {},
   "outputs": [],
   "source": [
    "#enformer_perf = scipy.stats.pearsonr(abs(dataf[key_enf_1][dataf[key_label]==1]),abs(dataf[obs_estimate][dataf[key_label]==1]))[0]\n"
   ]
  },
  {
   "cell_type": "code",
   "execution_count": 21,
   "metadata": {},
   "outputs": [],
   "source": [
    "\n",
    "#print(np.round(enformer_perf,2))"
   ]
  },
  {
   "cell_type": "code",
   "execution_count": 22,
   "metadata": {},
   "outputs": [
    {
     "name": "stdout",
     "output_type": "stream",
     "text": [
      "0.56\n"
     ]
    }
   ],
   "source": [
    "print(np.round(enformer_perf_old,2))"
   ]
  },
  {
   "cell_type": "code",
   "execution_count": 23,
   "metadata": {},
   "outputs": [
    {
     "data": {
      "text/plain": [
       "(0.727161386520316, 3.1602503587966174e-93)"
      ]
     },
     "execution_count": 23,
     "metadata": {},
     "output_type": "execute_result"
    }
   ],
   "source": [
    "scipy.stats.pearsonr(dataf[key_enf_1][dataf[key_label]==1],dataf[obs_estimate][dataf[key_label]==1])"
   ]
  },
  {
   "cell_type": "code",
   "execution_count": 24,
   "metadata": {},
   "outputs": [
    {
     "data": {
      "text/plain": [
       "(0.563128780419175, 3.625037841934576e-48)"
      ]
     },
     "execution_count": 24,
     "metadata": {},
     "output_type": "execute_result"
    }
   ],
   "source": [
    "scipy.stats.pearsonr(dataf[key_enf_2][dataf[key_label]==1],dataf[obs_estimate][dataf[key_label]==1])"
   ]
  },
  {
   "cell_type": "code",
   "execution_count": 25,
   "metadata": {},
   "outputs": [
    {
     "data": {
      "text/plain": [
       "(0.7393262959574392, 6.552289684724055e-98)"
      ]
     },
     "execution_count": 25,
     "metadata": {},
     "output_type": "execute_result"
    }
   ],
   "source": [
    "scipy.stats.pearsonr(dataf[chrombpnet_logfc][dataf[key_label]==1],dataf[obs_estimate][dataf[key_label]==1])\n"
   ]
  },
  {
   "cell_type": "code",
   "execution_count": 26,
   "metadata": {},
   "outputs": [
    {
     "data": {
      "text/plain": [
       "(0.7586179164294138, 6.689376032748603e-106)"
      ]
     },
     "execution_count": 26,
     "metadata": {},
     "output_type": "execute_result"
    }
   ],
   "source": [
    "scipy.stats.pearsonr(dataf[chrombpnet_atac_logfc][dataf[key_label]==1],dataf[obs_estimate][dataf[key_label]==1])\n"
   ]
  },
  {
   "cell_type": "code",
   "execution_count": 27,
   "metadata": {},
   "outputs": [
    {
     "data": {
      "text/plain": [
       "(0.7318756523100427, 5.1915505043409464e-95)"
      ]
     },
     "execution_count": 27,
     "metadata": {},
     "output_type": "execute_result"
    }
   ],
   "source": [
    "scipy.stats.pearsonr(dataf[delta_svm_key][dataf[key_label]==1],dataf[obs_estimate][dataf[key_label]==1])\n"
   ]
  },
  {
   "cell_type": "code",
   "execution_count": null,
   "metadata": {},
   "outputs": [],
   "source": []
  },
  {
   "cell_type": "code",
   "execution_count": 28,
   "metadata": {},
   "outputs": [
    {
     "name": "stdout",
     "output_type": "stream",
     "text": [
      "0.2\n",
      "(0.029602416955412617, 0.4844839205202049)\n"
     ]
    }
   ],
   "source": [
    "\n",
    "# enformer_perf_abs = np.max([scipy.stats.pearsonr(abs(dataf[key_enf_1][dataf[key_label]==1]),abs(dataf[obs_estimate][dataf[key_label]==1]))[0],\n",
    "#                        scipy.stats.pearsonr(abs(dataf[key_enf_2][dataf[key_label]==1]),abs(dataf[obs_estimate][dataf[key_label]==1]))[0]])\n",
    "enformer_perf_abs = scipy.stats.pearsonr(abs(dataf[key_enf_1][dataf[key_label]==1]),abs(dataf[obs_estimate][dataf[key_label]==1]))[0]\n",
    "enformer_perf_abs_old = scipy.stats.pearsonr(abs(dataf[key_enf_2][dataf[key_label]==1]),abs(dataf[obs_estimate][dataf[key_label]==1]))[0]\n",
    "\n",
    "print(np.round(enformer_perf_abs,2))\n",
    "print(scipy.stats.pearsonr(abs(dataf[key_enf_2][dataf[key_label]==1]),abs(dataf[obs_estimate][dataf[key_label]==1])))\n",
    "\n"
   ]
  },
  {
   "cell_type": "code",
   "execution_count": 29,
   "metadata": {},
   "outputs": [
    {
     "name": "stdout",
     "output_type": "stream",
     "text": [
      "0.03\n"
     ]
    }
   ],
   "source": [
    "print(np.round(enformer_perf_abs_old,2))\n"
   ]
  },
  {
   "cell_type": "code",
   "execution_count": 30,
   "metadata": {},
   "outputs": [
    {
     "name": "stdout",
     "output_type": "stream",
     "text": [
      "0.73\n"
     ]
    }
   ],
   "source": [
    "deltasvm_perf = scipy.stats.pearsonr(dataf[delta_svm_key][dataf[key_label]==1],dataf[obs_estimate][dataf[key_label]==1])[0]\n",
    "print(np.round(deltasvm_perf,2))"
   ]
  },
  {
   "cell_type": "code",
   "execution_count": 31,
   "metadata": {},
   "outputs": [
    {
     "name": "stdout",
     "output_type": "stream",
     "text": [
      "0.19\n",
      "(0.19358920550964032, 3.937682048147411e-06)\n"
     ]
    }
   ],
   "source": [
    "deltasvm_perf_abs = scipy.stats.pearsonr(abs(dataf[delta_svm_key][dataf[key_label]==1]),abs(dataf[obs_estimate][dataf[key_label]==1]))\n",
    "print(np.round(deltasvm_perf_abs[0],2))\n",
    "print(deltasvm_perf_abs)"
   ]
  },
  {
   "cell_type": "code",
   "execution_count": 32,
   "metadata": {},
   "outputs": [
    {
     "name": "stdout",
     "output_type": "stream",
     "text": [
      "0.74\n"
     ]
    }
   ],
   "source": [
    "chrombpnet_perf = scipy.stats.pearsonr(dataf[chrombpnet_logfc][dataf[key_label]==1],dataf[obs_estimate][dataf[key_label]==1])[0]\n",
    "print(np.round(chrombpnet_perf,2))"
   ]
  },
  {
   "cell_type": "code",
   "execution_count": 33,
   "metadata": {},
   "outputs": [
    {
     "name": "stdout",
     "output_type": "stream",
     "text": [
      "0.25\n",
      "(0.24688242752352538, 3.19703213636387e-09)\n"
     ]
    }
   ],
   "source": [
    "chrombpnet_perf_abs = scipy.stats.pearsonr(abs(dataf[chrombpnet_logfc][dataf[key_label]==1]),abs(dataf[obs_estimate][dataf[key_label]==1]))\n",
    "print(np.round(chrombpnet_perf_abs[0],2))\n",
    "print(chrombpnet_perf_abs)"
   ]
  },
  {
   "cell_type": "code",
   "execution_count": 34,
   "metadata": {},
   "outputs": [
    {
     "name": "stdout",
     "output_type": "stream",
     "text": [
      "0.73\n"
     ]
    }
   ],
   "source": [
    "chrombpnet_perf = scipy.stats.pearsonr(dataf[chrombpnet_atac_50m_logfc][dataf[key_label]==1],dataf[obs_estimate][dataf[key_label]==1])[0]\n",
    "print(np.round(chrombpnet_perf,2))"
   ]
  },
  {
   "cell_type": "code",
   "execution_count": 35,
   "metadata": {},
   "outputs": [
    {
     "name": "stdout",
     "output_type": "stream",
     "text": [
      "0.26\n",
      "(0.2629603458940187, 2.608186148205023e-10)\n"
     ]
    }
   ],
   "source": [
    "chrombpnet_perf_abs = scipy.stats.pearsonr(abs(dataf[chrombpnet_atac_50m_logfc][dataf[key_label]==1]),abs(dataf[obs_estimate][dataf[key_label]==1]))\n",
    "print(np.round(chrombpnet_perf_abs[0],2))\n",
    "print(chrombpnet_perf_abs)"
   ]
  },
  {
   "cell_type": "code",
   "execution_count": 36,
   "metadata": {},
   "outputs": [
    {
     "data": {
      "text/plain": [
       "(0.29208596203522214, 1.7776064659066986e-12)"
      ]
     },
     "execution_count": 36,
     "metadata": {},
     "output_type": "execute_result"
    }
   ],
   "source": [
    "scipy.stats.pearsonr(abs(dataf[chrombpnet_atac_logfc][dataf[key_label]==1]),abs(dataf[obs_estimate][dataf[key_label]==1]))\n"
   ]
  },
  {
   "cell_type": "code",
   "execution_count": 37,
   "metadata": {},
   "outputs": [
    {
     "name": "stdout",
     "output_type": "stream",
     "text": [
      "(560, 2)\n",
      "(0.7586179164294138, 6.689376032748603e-106)\n",
      "(0.29208596203522214, 1.7776064659066986e-12)\n"
     ]
    },
    {
     "data": {
      "image/png": "[encoded data removed]",
      "text/plain": [
       "<Figure size 432x360 with 1 Axes>"
      ]
     },
     "metadata": {
      "needs_background": "light"
     },
     "output_type": "display_data"
    }
   ],
   "source": [
    "import seaborn as sns\n",
    "import matplotlib\n",
    "matplotlib.rcParams['pdf.fonttype'] = 42\n",
    "matplotlib.rcParams['ps.fonttype'] = 42 \n",
    "\n",
    "   \n",
    "data = pd.DataFrame()\n",
    "data[\"logfc.mean\"] = dataf[dataf[key_label]==1][chrombpnet_atac_logfc]\n",
    "data[\"Beta\"] = dataf[dataf[key_label]==1][obs_estimate]\n",
    "\n",
    "print(data.shape)\n",
    "plt.figure(figsize=(6,5))\n",
    "\n",
    "sns.kdeplot(\n",
    "    data=data,\n",
    "    x=\"Beta\",\n",
    "    y=\"logfc.mean\",\n",
    "    levels=5,\n",
    "    fill=False,\n",
    "    alpha=0.2,\n",
    "    color=\"grey\",\n",
    "    cut=2,\n",
    "\n",
    ")\n",
    "\n",
    "\n",
    "ax = sns.scatterplot(x=\"Beta\", y=\"logfc.mean\", data=data, s=6, color=\"Red\")\n",
    "sns.regplot(x=\"Beta\", y=\"logfc.mean\", data=data, scatter=False, ci=None, color=\"#ffcccb\")\n",
    "ax.spines[[\"top\", \"right\"]].set_visible(False)\n",
    "\n",
    "atc_pear = scipy.stats.pearsonr(dataf[chrombpnet_atac_logfc][dataf[key_label]==1],dataf[obs_estimate][dataf[key_label]==1])\n",
    "print(atc_pear)\n",
    "\n",
    "ax.set_title(\"Pearsonr = \"+str(np.round(atc_pear[0],2)))\n",
    "\n",
    "atc_pear = scipy.stats.pearsonr(abs(dataf[chrombpnet_atac_logfc][dataf[key_label]==1]),abs(dataf[obs_estimate][dataf[key_label]==1]))\n",
    "print(atc_pear)\n",
    "\n",
    "plt.savefig(\"subfigs/dsqtls_pearsonr_plot.pdf\", transparent=True, dpi=300)\n"
   ]
  },
  {
   "cell_type": "code",
   "execution_count": null,
   "metadata": {},
   "outputs": [],
   "source": []
  },
  {
   "cell_type": "markdown",
   "metadata": {},
   "source": [
    "# Pearsonr (subsampling)"
   ]
  },
  {
   "cell_type": "code",
   "execution_count": 38,
   "metadata": {},
   "outputs": [
    {
     "name": "stdout",
     "output_type": "stream",
     "text": [
      "(0.29208596203522214, 1.7776064659066986e-12)\n",
      "(0.27736493794097455, 2.3813009032720084e-11)\n",
      "(0.2816781946705184, 1.1309775172641475e-11)\n",
      "(0.2629603458940187, 2.608186148205023e-10)\n",
      "(0.22931197960366534, 4.072532181264645e-08)\n",
      "(0.13358803525401117, 0.0015327079153868628)\n",
      "(0.24688242752352538, 3.19703213636387e-09)\n"
     ]
    }
   ],
   "source": [
    "\n",
    "pearsonrs_logfc_abs = []\n",
    "for title in [\"encsr637xsc\", \"encsr637xsc_250m\", \"encsr637xsc_100m\",\n",
    "              \"encsr637xsc_50m\", \"encsr637xsc_25m\", \"encsr637xsc_5m\", \"encsr000emt\"]:\n",
    "  \n",
    "    pear = scipy.stats.pearsonr(abs(dataf[obs_estimate][dataf[key_label]==1]), abs(dataf[\"pred.chrombpnet.encsr637xsc.varscore.logfc\".replace(\"encsr637xsc\", title)][dataf[key_label]==1]))\n",
    "    print(pear)\n",
    "    pearsonrs_logfc_abs.append(pear[0])\n"
   ]
  },
  {
   "cell_type": "code",
   "execution_count": 39,
   "metadata": {},
   "outputs": [
    {
     "name": "stdout",
     "output_type": "stream",
     "text": [
      "pred.chrombpnet.encsr637xsc.varscore.logfc\n",
      "(0.7586179164294138, 6.689376032748603e-106)\n",
      "pred.chrombpnet.encsr637xsc_250m.varscore.logfc\n",
      "(0.7526282890600602, 2.4287034191876065e-103)\n",
      "pred.chrombpnet.encsr637xsc_100m.varscore.logfc\n",
      "(0.7546672458842387, 3.328306684572512e-104)\n",
      "pred.chrombpnet.encsr637xsc_50m.varscore.logfc\n",
      "(0.7346524058027831, 4.429888240845516e-96)\n",
      "pred.chrombpnet.encsr637xsc_25m.varscore.logfc\n",
      "(0.7203103315262882, 1.0646610243625364e-90)\n",
      "pred.chrombpnet.encsr637xsc_5m.varscore.logfc\n",
      "(0.6681759905958633, 1.0998664422228002e-73)\n",
      "pred.chrombpnet.encsr000emt.varscore.logfc\n",
      "(0.7393262959574392, 6.552289684724055e-98)\n"
     ]
    }
   ],
   "source": [
    "pearsonrs_logfc = []\n",
    "for title in [\"encsr637xsc\", \"encsr637xsc_250m\", \"encsr637xsc_100m\",\n",
    "              \"encsr637xsc_50m\", \"encsr637xsc_25m\", \"encsr637xsc_5m\", \"encsr000emt\"]:\n",
    " \n",
    "    print(\"pred.chrombpnet.encsr637xsc.varscore.logfc\".replace(\"encsr637xsc\", title))\n",
    "    pear = scipy.stats.pearsonr(dataf[obs_estimate][dataf[key_label]==1], dataf[\"pred.chrombpnet.encsr637xsc.varscore.logfc\".replace(\"encsr637xsc\", title)][dataf[key_label]==1])\n",
    "    print(pear)\n",
    "    pearsonrs_logfc.append(pear[0])"
   ]
  },
  {
   "cell_type": "code",
   "execution_count": 40,
   "metadata": {},
   "outputs": [
    {
     "name": "stdout",
     "output_type": "stream",
     "text": [
      "pred.chrombpnet.encsr637xsc.varscore.js\n",
      "(0.3126615207076874, 3.6450264964081094e-14)\n",
      "pred.chrombpnet.encsr637xsc_250m.varscore.js\n",
      "(0.31167966683860004, 4.418936333384774e-14)\n",
      "pred.chrombpnet.encsr637xsc_100m.varscore.js\n",
      "(0.30728724129706153, 1.0365589041469113e-13)\n",
      "pred.chrombpnet.encsr637xsc_50m.varscore.js\n",
      "(0.29859614231417875, 5.372085406673485e-13)\n",
      "pred.chrombpnet.encsr637xsc_25m.varscore.js\n",
      "(0.2864012022361328, 4.930507413208403e-12)\n",
      "pred.chrombpnet.encsr637xsc_5m.varscore.js\n",
      "(0.250890979852558, 1.7392825202867793e-09)\n",
      "pred.chrombpnet.encsr000emt.varscore.js\n",
      "(0.31380363966877345, 2.911008818617905e-14)\n"
     ]
    }
   ],
   "source": [
    "\n",
    "pearsonrs_jsd_abs = []\n",
    "for title in [\"encsr637xsc\", \"encsr637xsc_250m\", \"encsr637xsc_100m\",\n",
    "              \"encsr637xsc_50m\", \"encsr637xsc_25m\", \"encsr637xsc_5m\", \"encsr000emt\"]:\n",
    "    \n",
    "    print(\"pred.chrombpnet.encsr637xsc.varscore.js\".replace(\"encsr637xsc\", title))\n",
    "    pear = scipy.stats.pearsonr(abs(dataf[obs_estimate][dataf[key_label]==1]), abs(dataf[\"pred.chrombpnet.encsr637xsc.varscore.jsd\".replace(\"encsr637xsc\", title)][dataf[key_label]==1]))\n",
    "    print(pear)\n",
    "    pearsonrs_jsd_abs.append(pear[0])\n"
   ]
  },
  {
   "cell_type": "code",
   "execution_count": 41,
   "metadata": {},
   "outputs": [
    {
     "name": "stdout",
     "output_type": "stream",
     "text": [
      "(0.7480524783614502, 1.959293501864504e-101)\n",
      "(0.7523651296928697, 3.1344639726513044e-103)\n",
      "(0.7470599652802675, 5.014684226524033e-101)\n",
      "(0.736694138893397, 7.108672678159656e-97)\n",
      "(0.7256926640794923, 1.1169288396490585e-92)\n",
      "(0.6726748364294816, 5.1375454552778505e-75)\n",
      "(0.7575962676005736, 1.8506194777967972e-105)\n"
     ]
    }
   ],
   "source": [
    "\n",
    "pearsonrs_jsd = []\n",
    "for title in [\"encsr637xsc\", \"encsr637xsc_250m\", \"encsr637xsc_100m\",\n",
    "              \"encsr637xsc_50m\", \"encsr637xsc_25m\", \"encsr637xsc_5m\", \"encsr000emt\"]:\n",
    "    pear = scipy.stats.pearsonr(dataf[obs_estimate][dataf[key_label]==1], dataf[\"pred.chrombpnet.encsr637xsc.varscore.jsd\".replace(\"encsr637xsc\", title)][dataf[key_label]==1])\n",
    "    print(pear)\n",
    "    pearsonrs_jsd.append(pear[0])\n"
   ]
  },
  {
   "cell_type": "code",
   "execution_count": 43,
   "metadata": {},
   "outputs": [
    {
     "name": "stderr",
     "output_type": "stream",
     "text": [
      "/users/anusri/anaconda3/lib/python3.7/site-packages/ipykernel_launcher.py:32: UserWarning: FixedFormatter should only be used together with FixedLocator\n"
     ]
    },
    {
     "data": {
      "image/png": "[encoded data removed]",
      "text/plain": [
       "<Figure size 288x216 with 1 Axes>"
      ]
     },
     "metadata": {
      "needs_background": "light"
     },
     "output_type": "display_data"
    }
   ],
   "source": [
    "fig, ax = plt.subplots(figsize=(4,3))\n",
    "ax.scatter([\"ATAC\\n572M\", \"ATAC\\n250M\", \"ATAC\\n100M\" ,\"ATAC\\n50M\", \"ATAC\\n25M\", \"ATAC\\n5M\"],pearsonrs_logfc[0:-1], c=\"orange\", marker=\"^\")\n",
    "ax.plot([\"ATAC\\n572M\", \"ATAC\\n250M\", \"ATAC\\n100M\",\"ATAC\\n50M\", \"ATAC\\n25M\", \"ATAC\\n5M\"],pearsonrs_logfc[0:-1], alpha=0.1, c=\"orange\")\n",
    "ax.scatter([\"ATAC\\n572M\", \"ATAC\\n250M\", \"ATAC\\n100M\" ,\"ATAC\\n50M\", \"ATAC\\n25M\", \"ATAC\\n5M\"],pearsonrs_jsd[0:-1], c=\"blue\", marker=\"^\")\n",
    "ax.plot([\"ATAC\\n572M\", \"ATAC\\n250M\", \"ATAC\\n100M\",\"ATAC\\n50M\", \"ATAC\\n25M\", \"ATAC\\n5M\"],pearsonrs_jsd[0:-1], alpha=0.1, c=\"blue\")\n",
    "\n",
    "ax.scatter([\"ATAC\\n572M\", \"ATAC\\n250M\", \"ATAC\\n100M\" ,\"ATAC\\n50M\", \"ATAC\\n25M\", \"ATAC\\n5M\"],pearsonrs_logfc_abs[0:-1], c=\"orange\", marker=\"v\")\n",
    "ax.plot([\"ATAC\\n572M\", \"ATAC\\n250M\", \"ATAC\\n100M\",\"ATAC\\n50M\", \"ATAC\\n25M\", \"ATAC\\n5M\"],pearsonrs_logfc_abs[0:-1], alpha=0.1,c=\"orange\")\n",
    "ax.scatter([\"ATAC\\n572M\", \"ATAC\\n250M\", \"ATAC\\n100M\" ,\"ATAC\\n50M\", \"ATAC\\n25M\", \"ATAC\\n5M\"],pearsonrs_jsd_abs[0:-1], c=\"blue\", marker=\"v\")\n",
    "ax.plot([\"ATAC\\n572M\", \"ATAC\\n250M\", \"ATAC\\n100M\",\"ATAC\\n50M\", \"ATAC\\n25M\", \"ATAC\\n5M\"],pearsonrs_jsd_abs[0:-1], alpha=0.1, c=\"blue\" )\n",
    "\n",
    "\n",
    "ax.scatter([\"DNASE\\n68M\"], [pearsonrs_logfc[-1]],c=\"cyan\",  marker=\"^\")\n",
    "ax.scatter([\"DNASE\\n68M\"], [pearsonrs_jsd[-1]],c=\"red\",  marker=\"^\")\n",
    "ax.scatter([\"DNASE\\n68M\"], [pearsonrs_logfc_abs[-1]],c=\"cyan\",  marker=\"v\")\n",
    "ax.scatter([\"DNASE\\n68M\"], [pearsonrs_jsd_abs[-1]],c=\"red\",  marker=\"v\")\n",
    "\n",
    "ax.scatter([\"Enformer DNase\\n68M\"], [enformer_perf], c=\"green\", marker=\"^\")\n",
    "ax.scatter([\"Enformer DNase\\n68M\"], [enformer_perf_abs], c=\"green\", marker=\"v\")\n",
    "\n",
    "ax.scatter([\"Enformer DNase (reported)\\n68M\"], [enformer_perf_old], c=\"green\", marker=\"^\")\n",
    "ax.scatter([\"Enformer DNase (reported)\\n68M\"], [enformer_perf_abs_old], c=\"green\", marker=\"v\")\n",
    "\n",
    "\n",
    "ax.scatter([\"SVM DNase\\n68M\"], [deltasvm_perf], c=\"grey\", marker=\"^\")\n",
    "ax.scatter([\"SVM DNase\\n68M\"], [deltasvm_perf_abs[0]], c=\"grey\",  marker=\"v\")\n",
    "\n",
    "\n",
    "xtix=[\"ATAC 572M\", \"ATAC 250M\", \"ATAC 100M\",\"ATAC 50M\", \"ATAC 25M\", \"ATAC 5M\"]+[\"DNASE 68M\"]+[\"Enformer DNase 68M\"]+[\"Enformer DNase 68M (reported)\"]+[\"SVM DNase 68M\"]\n",
    "ax.set_ylim((0,0.8))\n",
    "ax.spines[[\"top\", \"right\"]].set_visible(False)\n",
    "ax.set_xticklabels(labels=xtix, rotation=90)\n",
    "#ax.legend()\n",
    "plt.savefig(\"subfigs/dsqtls_subsample_pearsonr_performance.pdf\", transparent=True, dpi=300)\n"
   ]
  },
  {
   "cell_type": "code",
   "execution_count": 44,
   "metadata": {},
   "outputs": [
    {
     "name": "stdout",
     "output_type": "stream",
     "text": [
      "pred.chrombpnet.encsr637xsc.varscore.logfc\n",
      "[0.76 0.  ]\n",
      "pred.chrombpnet.encsr637xsc_50m.varscore.logfc\n",
      "[0.73 0.  ]\n",
      "pred.chrombpnet.encsr000emt.varscore.logfc\n",
      "[0.74 0.  ]\n",
      "0.73\n",
      "0.56\n"
     ]
    },
    {
     "data": {
      "image/png": "[encoded data removed]",
      "text/plain": [
       "<Figure size 360x216 with 1 Axes>"
      ]
     },
     "metadata": {
      "needs_background": "light"
     },
     "output_type": "display_data"
    }
   ],
   "source": [
    "pearsonrs_logfc = []\n",
    "for title in [\"encsr637xsc\", \n",
    "              \"encsr637xsc_50m\", \"encsr000emt\"]:\n",
    " \n",
    "    print(\"pred.chrombpnet.encsr637xsc.varscore.logfc\".replace(\"encsr637xsc\", title))\n",
    "    pear = scipy.stats.pearsonr(dataf[obs_estimate][dataf[key_label]==1], dataf[\"pred.chrombpnet.encsr637xsc.varscore.logfc\".replace(\"encsr637xsc\", title)][dataf[key_label]==1])\n",
    "    print(np.round(pear,2))\n",
    "    pearsonrs_logfc.append(pear[0])\n",
    "\n",
    "\n",
    "import seaborn as sns\n",
    "\n",
    "pearsonrs_logfc.extend([deltasvm_perf,enformer_perf_old])\n",
    "labels = [\" ATAC-seq (572M)\",  \" ATAC-seq (50M)\", \" DNase-seq (68M)\", \"deltaSVM\", \"Enformer\" ]\n",
    "dictt={\"scores\":pearsonrs_logfc, \"labels\":labels}\n",
    "df = pd.DataFrame(dictt)\n",
    "matplotlib.rcParams['pdf.fonttype'] = 42\n",
    "matplotlib.rcParams['ps.fonttype'] = 42 \n",
    "\n",
    "fig, ax = plt.subplots(figsize=(5,3))\n",
    "ax.set_ylim((0.5,1.0))\n",
    "sns.barplot(data=df, x=\"labels\", y=\"scores\", ax=ax)\n",
    "\n",
    "ax.spines[[\"top\", \"right\"]].set_visible(False)\n",
    "\n",
    "print(np.round(deltasvm_perf,2))\n",
    "print(np.round(enformer_perf_old,2))"
   ]
  },
  {
   "cell_type": "code",
   "execution_count": 45,
   "metadata": {},
   "outputs": [
    {
     "name": "stdout",
     "output_type": "stream",
     "text": [
      "pred.chrombpnet.encsr637xsc.varscore.logfc\n",
      "(0.7586179164294138, 6.689376032748603e-106)\n",
      "pred.chrombpnet.encsr637xsc_50m.varscore.logfc\n",
      "(0.7346524058027831, 4.429888240845516e-96)\n",
      "pred.chrombpnet.encsr000emt.varscore.logfc\n",
      "(0.7393262959574392, 6.552289684724055e-98)\n"
     ]
    },
    {
     "data": {
      "image/png": "[encoded data removed]",
      "text/plain": [
       "<Figure size 360x216 with 1 Axes>"
      ]
     },
     "metadata": {
      "needs_background": "light"
     },
     "output_type": "display_data"
    }
   ],
   "source": [
    "pearsonrs_logfc = []\n",
    "for title in [\"encsr637xsc\", \n",
    "              \"encsr637xsc_50m\", \"encsr000emt\"]:\n",
    " \n",
    "    print(\"pred.chrombpnet.encsr637xsc.varscore.logfc\".replace(\"encsr637xsc\", title))\n",
    "    pear = scipy.stats.pearsonr(dataf[obs_estimate][dataf[key_label]==1], dataf[\"pred.chrombpnet.encsr637xsc.varscore.logfc\".replace(\"encsr637xsc\", title)][dataf[key_label]==1])\n",
    "    print(pear)\n",
    "    pearsonrs_logfc.append(pear[0])\n",
    "\n",
    "\n",
    "import seaborn as sns\n",
    "\n",
    "hue=[\"cyan\"]+[\"#7FFFD4\"]+[\"b\"]+[\"red\"]+[\"green\"]+[\"#ff7f0e\"]\n",
    "\n",
    "pearsonrs_logfc.extend([deltasvm_perf,enformer_perf_old, enformer_perf])\n",
    "labels = [\" ATAC-seq (572M)\",  \" ATAC-seq (50M)\", \" DNase-seq (68M)\", \"deltaSVM\", \"Enformer (reported)\", \"Enformer (revised)\" ]\n",
    "dictt={\"scores\":pearsonrs_logfc, \"labels\":labels, \"hue\": hue}\n",
    "df = pd.DataFrame(dictt)\n",
    "matplotlib.rcParams['pdf.fonttype'] = 42\n",
    "matplotlib.rcParams['ps.fonttype'] = 42 \n",
    "\n",
    "fig, ax = plt.subplots(figsize=(5,3))\n",
    "ax.set_ylim((0.5,1.0))\n",
    "sns.barplot(data=df, x=\"labels\", y=\"scores\", palette=hue, ax=ax)\n",
    "\n",
    "ax.spines[[\"top\", \"right\"]].set_visible(False)\n",
    "\n"
   ]
  },
  {
   "cell_type": "code",
   "execution_count": 46,
   "metadata": {},
   "outputs": [
    {
     "name": "stdout",
     "output_type": "stream",
     "text": [
      "pred.chrombpnet.encsr637xsc.varscore.logfc\n",
      "(0.7586179164294138, 6.689376032748603e-106)\n",
      "pred.chrombpnet.encsr637xsc_50m.varscore.logfc\n",
      "(0.7346524058027831, 4.429888240845516e-96)\n",
      "pred.chrombpnet.encsr000emt.varscore.logfc\n",
      "(0.7393262959574392, 6.552289684724055e-98)\n"
     ]
    },
    {
     "data": {
      "image/png": "[encoded data removed]",
      "text/plain": [
       "<Figure size 360x216 with 1 Axes>"
      ]
     },
     "metadata": {
      "needs_background": "light"
     },
     "output_type": "display_data"
    }
   ],
   "source": [
    "pearsonrs_logfc = []\n",
    "for title in [\"encsr637xsc\", \n",
    "              \"encsr637xsc_50m\", \"encsr000emt\"]:\n",
    " \n",
    "    print(\"pred.chrombpnet.encsr637xsc.varscore.logfc\".replace(\"encsr637xsc\", title))\n",
    "    pear = scipy.stats.pearsonr(dataf[obs_estimate][dataf[key_label]==1], dataf[\"pred.chrombpnet.encsr637xsc.varscore.logfc\".replace(\"encsr637xsc\", title)][dataf[key_label]==1])\n",
    "    print(pear)\n",
    "    pearsonrs_logfc.append(pear[0])\n",
    "\n",
    "\n",
    "import seaborn as sns\n",
    "\n",
    "hue=[\"cyan\"]+[\"#7FFFD4\"]+[\"b\"]+[\"red\"]+[\"green\"]+[\"#ff7f0e\"]\n",
    "\n",
    "pearsonrs_logfc.extend([deltasvm_perf,enformer_perf_old, enformer_perf])\n",
    "labels = [\" ATAC-seq (572M)\",  \" ATAC-seq (50M)\", \" DNase-seq (68M)\", \"deltaSVM\", \"Enformer (reported)\", \"Enformer (revised)\" ]\n",
    "dictt={\"scores\":pearsonrs_logfc, \"labels\":labels, \"hue\": hue}\n",
    "df = pd.DataFrame(dictt)\n",
    "matplotlib.rcParams['pdf.fonttype'] = 42\n",
    "matplotlib.rcParams['ps.fonttype'] = 42 \n",
    "\n",
    "fig, ax = plt.subplots(figsize=(5,3))\n",
    "ax.set_ylim((0.5,1.0))\n",
    "sns.barplot(data=df, x=\"labels\", y=\"scores\", palette=hue, ax=ax)\n",
    "\n",
    "ax.spines[[\"top\", \"right\"]].set_visible(False)\n",
    "\n"
   ]
  },
  {
   "cell_type": "code",
   "execution_count": 47,
   "metadata": {},
   "outputs": [
    {
     "data": {
      "text/plain": [
       "0.727161386520316"
      ]
     },
     "execution_count": 47,
     "metadata": {},
     "output_type": "execute_result"
    }
   ],
   "source": [
    "enformer_perf"
   ]
  },
  {
   "cell_type": "code",
   "execution_count": 48,
   "metadata": {},
   "outputs": [
    {
     "data": {
      "text/html": [
       "<div>\n",
       "<style scoped>\n",
       "    .dataframe tbody tr th:only-of-type {\n",
       "        vertical-align: middle;\n",
       "    }\n",
       "\n",
       "    .dataframe tbody tr th {\n",
       "        vertical-align: top;\n",
       "    }\n",
       "\n",
       "    .dataframe thead th {\n",
       "        text-align: right;\n",
       "    }\n",
       "</style>\n",
       "<table border=\"1\" class=\"dataframe\">\n",
       "  <thead>\n",
       "    <tr style=\"text-align: right;\">\n",
       "      <th></th>\n",
       "      <th>var.chrom</th>\n",
       "      <th>var.pos_hg19</th>\n",
       "      <th>var.allele1</th>\n",
       "      <th>var.allele2</th>\n",
       "      <th>var.rsid</th>\n",
       "      <th>obs.label</th>\n",
       "      <th>var.isused</th>\n",
       "      <th>obs.estimate</th>\n",
       "      <th>pred.gkmsvm.encsr000emt.varscore.deltasvm</th>\n",
       "      <th>pred.enformer.encsr000emt.varscore.global_sad</th>\n",
       "      <th>...</th>\n",
       "      <th>pred.chrombpnet.encsr637xsc_50m.varscore.aaq</th>\n",
       "      <th>pred.chrombpnet.encsr637xsc_50m.varscore.ies</th>\n",
       "      <th>pred.chrombpnet.encsr637xsc_50m.varscore.jsd_x_aaq</th>\n",
       "      <th>pred.chrombpnet.encsr637xsc_50m.varscore.logfc_x_aaq</th>\n",
       "      <th>pred.chrombpnet.encsr637xsc_25m.varscore.logfc</th>\n",
       "      <th>pred.chrombpnet.encsr637xsc_25m.varscore.jsd</th>\n",
       "      <th>pred.chrombpnet.encsr637xsc_25m.varscore.ips</th>\n",
       "      <th>pred.chrombpnet.encsr637xsc_5m.varscore.logfc</th>\n",
       "      <th>pred.chrombpnet.encsr637xsc_5m.varscore.jsd</th>\n",
       "      <th>pred.chrombpnet.encsr637xsc_5m.varscore.ips</th>\n",
       "    </tr>\n",
       "  </thead>\n",
       "  <tbody>\n",
       "    <tr>\n",
       "      <th>0</th>\n",
       "      <td>chr1</td>\n",
       "      <td>856583</td>\n",
       "      <td>A</td>\n",
       "      <td>G</td>\n",
       "      <td>rs141671872</td>\n",
       "      <td>1</td>\n",
       "      <td>True</td>\n",
       "      <td>0.9301</td>\n",
       "      <td>2.653531</td>\n",
       "      <td>0.000342</td>\n",
       "      <td>...</td>\n",
       "      <td>0.248566</td>\n",
       "      <td>0.044994</td>\n",
       "      <td>0.021877</td>\n",
       "      <td>0.127298</td>\n",
       "      <td>0.291935</td>\n",
       "      <td>0.067401</td>\n",
       "      <td>0.004840</td>\n",
       "      <td>0.065098</td>\n",
       "      <td>0.049902</td>\n",
       "      <td>0.001360</td>\n",
       "    </tr>\n",
       "    <tr>\n",
       "      <th>1</th>\n",
       "      <td>chr1</td>\n",
       "      <td>911595</td>\n",
       "      <td>G</td>\n",
       "      <td>A</td>\n",
       "      <td>rs7417106</td>\n",
       "      <td>1</td>\n",
       "      <td>True</td>\n",
       "      <td>-0.6285</td>\n",
       "      <td>2.821422</td>\n",
       "      <td>-0.001241</td>\n",
       "      <td>...</td>\n",
       "      <td>0.726685</td>\n",
       "      <td>0.002535</td>\n",
       "      <td>0.027762</td>\n",
       "      <td>0.056287</td>\n",
       "      <td>0.093192</td>\n",
       "      <td>0.036053</td>\n",
       "      <td>0.002239</td>\n",
       "      <td>0.045314</td>\n",
       "      <td>0.034489</td>\n",
       "      <td>0.000898</td>\n",
       "    </tr>\n",
       "    <tr>\n",
       "      <th>2</th>\n",
       "      <td>chr1</td>\n",
       "      <td>1186502</td>\n",
       "      <td>T</td>\n",
       "      <td>A</td>\n",
       "      <td>rs6603785</td>\n",
       "      <td>1</td>\n",
       "      <td>True</td>\n",
       "      <td>-0.7363</td>\n",
       "      <td>-7.167236</td>\n",
       "      <td>-0.006530</td>\n",
       "      <td>...</td>\n",
       "      <td>0.696101</td>\n",
       "      <td>0.021468</td>\n",
       "      <td>0.029658</td>\n",
       "      <td>0.349964</td>\n",
       "      <td>-0.402188</td>\n",
       "      <td>-0.038791</td>\n",
       "      <td>0.008839</td>\n",
       "      <td>-0.163023</td>\n",
       "      <td>-0.039080</td>\n",
       "      <td>0.002210</td>\n",
       "    </tr>\n",
       "    <tr>\n",
       "      <th>3</th>\n",
       "      <td>chr1</td>\n",
       "      <td>1227412</td>\n",
       "      <td>A</td>\n",
       "      <td>G</td>\n",
       "      <td>rs112571439</td>\n",
       "      <td>1</td>\n",
       "      <td>True</td>\n",
       "      <td>-0.9236</td>\n",
       "      <td>-3.957382</td>\n",
       "      <td>-0.001878</td>\n",
       "      <td>...</td>\n",
       "      <td>0.521835</td>\n",
       "      <td>0.265543</td>\n",
       "      <td>0.137196</td>\n",
       "      <td>0.518532</td>\n",
       "      <td>-0.622704</td>\n",
       "      <td>-0.222396</td>\n",
       "      <td>0.086945</td>\n",
       "      <td>-0.259064</td>\n",
       "      <td>-0.172960</td>\n",
       "      <td>0.027583</td>\n",
       "    </tr>\n",
       "    <tr>\n",
       "      <th>4</th>\n",
       "      <td>chr1</td>\n",
       "      <td>1590575</td>\n",
       "      <td>A</td>\n",
       "      <td>G</td>\n",
       "      <td>rs9661285</td>\n",
       "      <td>1</td>\n",
       "      <td>True</td>\n",
       "      <td>-1.0890</td>\n",
       "      <td>-4.785596</td>\n",
       "      <td>-0.008736</td>\n",
       "      <td>...</td>\n",
       "      <td>0.988211</td>\n",
       "      <td>0.006033</td>\n",
       "      <td>0.053680</td>\n",
       "      <td>0.103350</td>\n",
       "      <td>-0.061906</td>\n",
       "      <td>-0.050589</td>\n",
       "      <td>0.003275</td>\n",
       "      <td>-0.032300</td>\n",
       "      <td>-0.023135</td>\n",
       "      <td>0.000802</td>\n",
       "    </tr>\n",
       "  </tbody>\n",
       "</table>\n",
       "<p>5 rows × 45 columns</p>\n",
       "</div>"
      ],
      "text/plain": [
       "  var.chrom  var.pos_hg19 var.allele1 var.allele2     var.rsid  obs.label  \\\n",
       "0      chr1        856583           A           G  rs141671872          1   \n",
       "1      chr1        911595           G           A    rs7417106          1   \n",
       "2      chr1       1186502           T           A    rs6603785          1   \n",
       "3      chr1       1227412           A           G  rs112571439          1   \n",
       "4      chr1       1590575           A           G    rs9661285          1   \n",
       "\n",
       "   var.isused  obs.estimate  pred.gkmsvm.encsr000emt.varscore.deltasvm  \\\n",
       "0        True        0.9301                                   2.653531   \n",
       "1        True       -0.6285                                   2.821422   \n",
       "2        True       -0.7363                                  -7.167236   \n",
       "3        True       -0.9236                                  -3.957382   \n",
       "4        True       -1.0890                                  -4.785596   \n",
       "\n",
       "   pred.enformer.encsr000emt.varscore.global_sad  ...  \\\n",
       "0                                       0.000342  ...   \n",
       "1                                      -0.001241  ...   \n",
       "2                                      -0.006530  ...   \n",
       "3                                      -0.001878  ...   \n",
       "4                                      -0.008736  ...   \n",
       "\n",
       "   pred.chrombpnet.encsr637xsc_50m.varscore.aaq  \\\n",
       "0                                      0.248566   \n",
       "1                                      0.726685   \n",
       "2                                      0.696101   \n",
       "3                                      0.521835   \n",
       "4                                      0.988211   \n",
       "\n",
       "   pred.chrombpnet.encsr637xsc_50m.varscore.ies  \\\n",
       "0                                      0.044994   \n",
       "1                                      0.002535   \n",
       "2                                      0.021468   \n",
       "3                                      0.265543   \n",
       "4                                      0.006033   \n",
       "\n",
       "   pred.chrombpnet.encsr637xsc_50m.varscore.jsd_x_aaq  \\\n",
       "0                                           0.021877    \n",
       "1                                           0.027762    \n",
       "2                                           0.029658    \n",
       "3                                           0.137196    \n",
       "4                                           0.053680    \n",
       "\n",
       "   pred.chrombpnet.encsr637xsc_50m.varscore.logfc_x_aaq  \\\n",
       "0                                           0.127298      \n",
       "1                                           0.056287      \n",
       "2                                           0.349964      \n",
       "3                                           0.518532      \n",
       "4                                           0.103350      \n",
       "\n",
       "   pred.chrombpnet.encsr637xsc_25m.varscore.logfc  \\\n",
       "0                                        0.291935   \n",
       "1                                        0.093192   \n",
       "2                                       -0.402188   \n",
       "3                                       -0.622704   \n",
       "4                                       -0.061906   \n",
       "\n",
       "   pred.chrombpnet.encsr637xsc_25m.varscore.jsd  \\\n",
       "0                                      0.067401   \n",
       "1                                      0.036053   \n",
       "2                                     -0.038791   \n",
       "3                                     -0.222396   \n",
       "4                                     -0.050589   \n",
       "\n",
       "   pred.chrombpnet.encsr637xsc_25m.varscore.ips  \\\n",
       "0                                      0.004840   \n",
       "1                                      0.002239   \n",
       "2                                      0.008839   \n",
       "3                                      0.086945   \n",
       "4                                      0.003275   \n",
       "\n",
       "   pred.chrombpnet.encsr637xsc_5m.varscore.logfc  \\\n",
       "0                                       0.065098   \n",
       "1                                       0.045314   \n",
       "2                                      -0.163023   \n",
       "3                                      -0.259064   \n",
       "4                                      -0.032300   \n",
       "\n",
       "   pred.chrombpnet.encsr637xsc_5m.varscore.jsd  \\\n",
       "0                                     0.049902   \n",
       "1                                     0.034489   \n",
       "2                                    -0.039080   \n",
       "3                                    -0.172960   \n",
       "4                                    -0.023135   \n",
       "\n",
       "   pred.chrombpnet.encsr637xsc_5m.varscore.ips  \n",
       "0                                     0.001360  \n",
       "1                                     0.000898  \n",
       "2                                     0.002210  \n",
       "3                                     0.027583  \n",
       "4                                     0.000802  \n",
       "\n",
       "[5 rows x 45 columns]"
      ]
     },
     "execution_count": 48,
     "metadata": {},
     "output_type": "execute_result"
    }
   ],
   "source": [
    "dataf.head()"
   ]
  },
  {
   "cell_type": "code",
   "execution_count": 51,
   "metadata": {},
   "outputs": [
    {
     "data": {
      "text/plain": [
       "<matplotlib.collections.PathCollection at 0x7fe0854af210>"
      ]
     },
     "execution_count": 51,
     "metadata": {},
     "output_type": "execute_result"
    },
    {
     "data": {
      "image/png": "[encoded data removed]",
      "text/plain": [
       "<Figure size 432x288 with 1 Axes>"
      ]
     },
     "metadata": {
      "needs_background": "light"
     },
     "output_type": "display_data"
    }
   ],
   "source": [
    "plt.scatter(dataf[\"pred.chrombpnet.encsr637xsc_50m.varscore.logfc\"], dataf[\"pred.enformer.encsr000emt.varscore.local_logfc\"], s=1)"
   ]
  },
  {
   "cell_type": "code",
   "execution_count": 92,
   "metadata": {},
   "outputs": [
    {
     "data": {
      "text/html": [
       "<div>\n",
       "<style scoped>\n",
       "    .dataframe tbody tr th:only-of-type {\n",
       "        vertical-align: middle;\n",
       "    }\n",
       "\n",
       "    .dataframe tbody tr th {\n",
       "        vertical-align: top;\n",
       "    }\n",
       "\n",
       "    .dataframe thead th {\n",
       "        text-align: right;\n",
       "    }\n",
       "</style>\n",
       "<table border=\"1\" class=\"dataframe\">\n",
       "  <thead>\n",
       "    <tr style=\"text-align: right;\">\n",
       "      <th></th>\n",
       "      <th>var.chrom</th>\n",
       "      <th>var.pos_hg19</th>\n",
       "      <th>var.allele1</th>\n",
       "      <th>var.allele2</th>\n",
       "      <th>var.rsid</th>\n",
       "      <th>obs.label</th>\n",
       "      <th>var.isused</th>\n",
       "      <th>obs.estimate</th>\n",
       "      <th>pred.gkmsvm.encsr000emt.varscore.deltasvm</th>\n",
       "      <th>pred.enformer.encsr000emt.varscore.global_sad</th>\n",
       "      <th>...</th>\n",
       "      <th>pred.chrombpnet.encsr637xsc_50m.varscore.aaq</th>\n",
       "      <th>pred.chrombpnet.encsr637xsc_50m.varscore.ies</th>\n",
       "      <th>pred.chrombpnet.encsr637xsc_50m.varscore.jsd_x_aaq</th>\n",
       "      <th>pred.chrombpnet.encsr637xsc_50m.varscore.logfc_x_aaq</th>\n",
       "      <th>pred.chrombpnet.encsr637xsc_25m.varscore.logfc</th>\n",
       "      <th>pred.chrombpnet.encsr637xsc_25m.varscore.jsd</th>\n",
       "      <th>pred.chrombpnet.encsr637xsc_25m.varscore.ips</th>\n",
       "      <th>pred.chrombpnet.encsr637xsc_5m.varscore.logfc</th>\n",
       "      <th>pred.chrombpnet.encsr637xsc_5m.varscore.jsd</th>\n",
       "      <th>pred.chrombpnet.encsr637xsc_5m.varscore.ips</th>\n",
       "    </tr>\n",
       "  </thead>\n",
       "  <tbody>\n",
       "    <tr>\n",
       "      <th>268</th>\n",
       "      <td>chr19</td>\n",
       "      <td>14788486</td>\n",
       "      <td>A</td>\n",
       "      <td>G</td>\n",
       "      <td>rs76943706</td>\n",
       "      <td>1</td>\n",
       "      <td>True</td>\n",
       "      <td>1.500</td>\n",
       "      <td>7.997565</td>\n",
       "      <td>0.001189</td>\n",
       "      <td>...</td>\n",
       "      <td>0.637403</td>\n",
       "      <td>0.126441</td>\n",
       "      <td>0.072883</td>\n",
       "      <td>0.700973</td>\n",
       "      <td>0.820226</td>\n",
       "      <td>0.093474</td>\n",
       "      <td>0.045054</td>\n",
       "      <td>0.359859</td>\n",
       "      <td>0.078785</td>\n",
       "      <td>0.016060</td>\n",
       "    </tr>\n",
       "    <tr>\n",
       "      <th>303</th>\n",
       "      <td>chr2</td>\n",
       "      <td>17342057</td>\n",
       "      <td>T</td>\n",
       "      <td>C</td>\n",
       "      <td>rs1396073</td>\n",
       "      <td>1</td>\n",
       "      <td>True</td>\n",
       "      <td>1.356</td>\n",
       "      <td>8.744398</td>\n",
       "      <td>0.000862</td>\n",
       "      <td>...</td>\n",
       "      <td>0.484705</td>\n",
       "      <td>0.097740</td>\n",
       "      <td>0.044197</td>\n",
       "      <td>0.514474</td>\n",
       "      <td>0.779526</td>\n",
       "      <td>0.081831</td>\n",
       "      <td>0.026170</td>\n",
       "      <td>0.329974</td>\n",
       "      <td>0.069764</td>\n",
       "      <td>0.008237</td>\n",
       "    </tr>\n",
       "    <tr>\n",
       "      <th>306</th>\n",
       "      <td>chr2</td>\n",
       "      <td>20391281</td>\n",
       "      <td>C</td>\n",
       "      <td>G</td>\n",
       "      <td>rs7563253</td>\n",
       "      <td>1</td>\n",
       "      <td>True</td>\n",
       "      <td>1.395</td>\n",
       "      <td>0.766670</td>\n",
       "      <td>-0.000653</td>\n",
       "      <td>...</td>\n",
       "      <td>0.158290</td>\n",
       "      <td>0.229513</td>\n",
       "      <td>0.035464</td>\n",
       "      <td>0.161356</td>\n",
       "      <td>0.620272</td>\n",
       "      <td>0.191968</td>\n",
       "      <td>0.020358</td>\n",
       "      <td>0.212775</td>\n",
       "      <td>0.135474</td>\n",
       "      <td>0.006709</td>\n",
       "    </tr>\n",
       "    <tr>\n",
       "      <th>410</th>\n",
       "      <td>chr3</td>\n",
       "      <td>119999621</td>\n",
       "      <td>T</td>\n",
       "      <td>G</td>\n",
       "      <td>rs787202</td>\n",
       "      <td>1</td>\n",
       "      <td>True</td>\n",
       "      <td>1.061</td>\n",
       "      <td>12.183722</td>\n",
       "      <td>0.001058</td>\n",
       "      <td>...</td>\n",
       "      <td>0.490914</td>\n",
       "      <td>0.240430</td>\n",
       "      <td>0.068919</td>\n",
       "      <td>0.857548</td>\n",
       "      <td>1.542522</td>\n",
       "      <td>0.130211</td>\n",
       "      <td>0.099296</td>\n",
       "      <td>0.507238</td>\n",
       "      <td>0.103556</td>\n",
       "      <td>0.015007</td>\n",
       "    </tr>\n",
       "    <tr>\n",
       "      <th>3313</th>\n",
       "      <td>chr10</td>\n",
       "      <td>52448782</td>\n",
       "      <td>T</td>\n",
       "      <td>C</td>\n",
       "      <td>rs60792920</td>\n",
       "      <td>-1</td>\n",
       "      <td>True</td>\n",
       "      <td>NaN</td>\n",
       "      <td>3.758248</td>\n",
       "      <td>0.000027</td>\n",
       "      <td>...</td>\n",
       "      <td>0.139116</td>\n",
       "      <td>0.136781</td>\n",
       "      <td>0.018101</td>\n",
       "      <td>0.147058</td>\n",
       "      <td>0.820286</td>\n",
       "      <td>0.120512</td>\n",
       "      <td>0.008461</td>\n",
       "      <td>0.324150</td>\n",
       "      <td>0.097456</td>\n",
       "      <td>0.004860</td>\n",
       "    </tr>\n",
       "    <tr>\n",
       "      <th>11131</th>\n",
       "      <td>chr17</td>\n",
       "      <td>30018344</td>\n",
       "      <td>T</td>\n",
       "      <td>C</td>\n",
       "      <td>rs73988417</td>\n",
       "      <td>-1</td>\n",
       "      <td>True</td>\n",
       "      <td>NaN</td>\n",
       "      <td>9.320729</td>\n",
       "      <td>0.000167</td>\n",
       "      <td>...</td>\n",
       "      <td>0.119269</td>\n",
       "      <td>0.142356</td>\n",
       "      <td>0.013978</td>\n",
       "      <td>0.164213</td>\n",
       "      <td>1.129111</td>\n",
       "      <td>0.101871</td>\n",
       "      <td>0.011719</td>\n",
       "      <td>0.303552</td>\n",
       "      <td>0.083028</td>\n",
       "      <td>0.001437</td>\n",
       "    </tr>\n",
       "    <tr>\n",
       "      <th>12472</th>\n",
       "      <td>chr17</td>\n",
       "      <td>79123135</td>\n",
       "      <td>T</td>\n",
       "      <td>C</td>\n",
       "      <td>rs4969407</td>\n",
       "      <td>-1</td>\n",
       "      <td>True</td>\n",
       "      <td>NaN</td>\n",
       "      <td>-0.533890</td>\n",
       "      <td>-0.000244</td>\n",
       "      <td>...</td>\n",
       "      <td>0.379723</td>\n",
       "      <td>0.070591</td>\n",
       "      <td>0.023772</td>\n",
       "      <td>0.459670</td>\n",
       "      <td>-0.482436</td>\n",
       "      <td>-0.034077</td>\n",
       "      <td>0.005470</td>\n",
       "      <td>-0.156386</td>\n",
       "      <td>-0.032405</td>\n",
       "      <td>0.001897</td>\n",
       "    </tr>\n",
       "    <tr>\n",
       "      <th>15702</th>\n",
       "      <td>chr2</td>\n",
       "      <td>71050561</td>\n",
       "      <td>A</td>\n",
       "      <td>C</td>\n",
       "      <td>rs35856355</td>\n",
       "      <td>-1</td>\n",
       "      <td>True</td>\n",
       "      <td>NaN</td>\n",
       "      <td>-8.787260</td>\n",
       "      <td>-0.000396</td>\n",
       "      <td>...</td>\n",
       "      <td>0.382280</td>\n",
       "      <td>0.124216</td>\n",
       "      <td>0.044644</td>\n",
       "      <td>0.404903</td>\n",
       "      <td>-0.827061</td>\n",
       "      <td>-0.101006</td>\n",
       "      <td>0.028486</td>\n",
       "      <td>-0.346480</td>\n",
       "      <td>-0.081896</td>\n",
       "      <td>0.005937</td>\n",
       "    </tr>\n",
       "    <tr>\n",
       "      <th>26892</th>\n",
       "      <td>chr8</td>\n",
       "      <td>140839372</td>\n",
       "      <td>A</td>\n",
       "      <td>G</td>\n",
       "      <td>rs188027014</td>\n",
       "      <td>-1</td>\n",
       "      <td>True</td>\n",
       "      <td>NaN</td>\n",
       "      <td>4.239678</td>\n",
       "      <td>-0.000015</td>\n",
       "      <td>...</td>\n",
       "      <td>0.159620</td>\n",
       "      <td>0.142677</td>\n",
       "      <td>0.018890</td>\n",
       "      <td>0.193026</td>\n",
       "      <td>0.818932</td>\n",
       "      <td>0.098969</td>\n",
       "      <td>0.018486</td>\n",
       "      <td>0.408987</td>\n",
       "      <td>0.088575</td>\n",
       "      <td>0.015390</td>\n",
       "    </tr>\n",
       "    <tr>\n",
       "      <th>27724</th>\n",
       "      <td>chr9</td>\n",
       "      <td>129555215</td>\n",
       "      <td>G</td>\n",
       "      <td>A</td>\n",
       "      <td>rs73601143</td>\n",
       "      <td>-1</td>\n",
       "      <td>True</td>\n",
       "      <td>NaN</td>\n",
       "      <td>8.368956</td>\n",
       "      <td>0.000905</td>\n",
       "      <td>...</td>\n",
       "      <td>0.280794</td>\n",
       "      <td>0.155020</td>\n",
       "      <td>0.035242</td>\n",
       "      <td>0.359466</td>\n",
       "      <td>1.046983</td>\n",
       "      <td>0.120055</td>\n",
       "      <td>0.039262</td>\n",
       "      <td>0.358075</td>\n",
       "      <td>0.092375</td>\n",
       "      <td>0.009083</td>\n",
       "    </tr>\n",
       "  </tbody>\n",
       "</table>\n",
       "<p>10 rows × 45 columns</p>\n",
       "</div>"
      ],
      "text/plain": [
       "      var.chrom  var.pos_hg19 var.allele1 var.allele2     var.rsid  obs.label  \\\n",
       "268       chr19      14788486           A           G   rs76943706          1   \n",
       "303        chr2      17342057           T           C    rs1396073          1   \n",
       "306        chr2      20391281           C           G    rs7563253          1   \n",
       "410        chr3     119999621           T           G     rs787202          1   \n",
       "3313      chr10      52448782           T           C   rs60792920         -1   \n",
       "11131     chr17      30018344           T           C   rs73988417         -1   \n",
       "12472     chr17      79123135           T           C    rs4969407         -1   \n",
       "15702      chr2      71050561           A           C   rs35856355         -1   \n",
       "26892      chr8     140839372           A           G  rs188027014         -1   \n",
       "27724      chr9     129555215           G           A   rs73601143         -1   \n",
       "\n",
       "       var.isused  obs.estimate  pred.gkmsvm.encsr000emt.varscore.deltasvm  \\\n",
       "268          True         1.500                                   7.997565   \n",
       "303          True         1.356                                   8.744398   \n",
       "306          True         1.395                                   0.766670   \n",
       "410          True         1.061                                  12.183722   \n",
       "3313         True           NaN                                   3.758248   \n",
       "11131        True           NaN                                   9.320729   \n",
       "12472        True           NaN                                  -0.533890   \n",
       "15702        True           NaN                                  -8.787260   \n",
       "26892        True           NaN                                   4.239678   \n",
       "27724        True           NaN                                   8.368956   \n",
       "\n",
       "       pred.enformer.encsr000emt.varscore.global_sad  ...  \\\n",
       "268                                         0.001189  ...   \n",
       "303                                         0.000862  ...   \n",
       "306                                        -0.000653  ...   \n",
       "410                                         0.001058  ...   \n",
       "3313                                        0.000027  ...   \n",
       "11131                                       0.000167  ...   \n",
       "12472                                      -0.000244  ...   \n",
       "15702                                      -0.000396  ...   \n",
       "26892                                      -0.000015  ...   \n",
       "27724                                       0.000905  ...   \n",
       "\n",
       "       pred.chrombpnet.encsr637xsc_50m.varscore.aaq  \\\n",
       "268                                        0.637403   \n",
       "303                                        0.484705   \n",
       "306                                        0.158290   \n",
       "410                                        0.490914   \n",
       "3313                                       0.139116   \n",
       "11131                                      0.119269   \n",
       "12472                                      0.379723   \n",
       "15702                                      0.382280   \n",
       "26892                                      0.159620   \n",
       "27724                                      0.280794   \n",
       "\n",
       "       pred.chrombpnet.encsr637xsc_50m.varscore.ies  \\\n",
       "268                                        0.126441   \n",
       "303                                        0.097740   \n",
       "306                                        0.229513   \n",
       "410                                        0.240430   \n",
       "3313                                       0.136781   \n",
       "11131                                      0.142356   \n",
       "12472                                      0.070591   \n",
       "15702                                      0.124216   \n",
       "26892                                      0.142677   \n",
       "27724                                      0.155020   \n",
       "\n",
       "       pred.chrombpnet.encsr637xsc_50m.varscore.jsd_x_aaq  \\\n",
       "268                                             0.072883    \n",
       "303                                             0.044197    \n",
       "306                                             0.035464    \n",
       "410                                             0.068919    \n",
       "3313                                            0.018101    \n",
       "11131                                           0.013978    \n",
       "12472                                           0.023772    \n",
       "15702                                           0.044644    \n",
       "26892                                           0.018890    \n",
       "27724                                           0.035242    \n",
       "\n",
       "       pred.chrombpnet.encsr637xsc_50m.varscore.logfc_x_aaq  \\\n",
       "268                                             0.700973      \n",
       "303                                             0.514474      \n",
       "306                                             0.161356      \n",
       "410                                             0.857548      \n",
       "3313                                            0.147058      \n",
       "11131                                           0.164213      \n",
       "12472                                           0.459670      \n",
       "15702                                           0.404903      \n",
       "26892                                           0.193026      \n",
       "27724                                           0.359466      \n",
       "\n",
       "       pred.chrombpnet.encsr637xsc_25m.varscore.logfc  \\\n",
       "268                                          0.820226   \n",
       "303                                          0.779526   \n",
       "306                                          0.620272   \n",
       "410                                          1.542522   \n",
       "3313                                         0.820286   \n",
       "11131                                        1.129111   \n",
       "12472                                       -0.482436   \n",
       "15702                                       -0.827061   \n",
       "26892                                        0.818932   \n",
       "27724                                        1.046983   \n",
       "\n",
       "       pred.chrombpnet.encsr637xsc_25m.varscore.jsd  \\\n",
       "268                                        0.093474   \n",
       "303                                        0.081831   \n",
       "306                                        0.191968   \n",
       "410                                        0.130211   \n",
       "3313                                       0.120512   \n",
       "11131                                      0.101871   \n",
       "12472                                     -0.034077   \n",
       "15702                                     -0.101006   \n",
       "26892                                      0.098969   \n",
       "27724                                      0.120055   \n",
       "\n",
       "       pred.chrombpnet.encsr637xsc_25m.varscore.ips  \\\n",
       "268                                        0.045054   \n",
       "303                                        0.026170   \n",
       "306                                        0.020358   \n",
       "410                                        0.099296   \n",
       "3313                                       0.008461   \n",
       "11131                                      0.011719   \n",
       "12472                                      0.005470   \n",
       "15702                                      0.028486   \n",
       "26892                                      0.018486   \n",
       "27724                                      0.039262   \n",
       "\n",
       "       pred.chrombpnet.encsr637xsc_5m.varscore.logfc  \\\n",
       "268                                         0.359859   \n",
       "303                                         0.329974   \n",
       "306                                         0.212775   \n",
       "410                                         0.507238   \n",
       "3313                                        0.324150   \n",
       "11131                                       0.303552   \n",
       "12472                                      -0.156386   \n",
       "15702                                      -0.346480   \n",
       "26892                                       0.408987   \n",
       "27724                                       0.358075   \n",
       "\n",
       "       pred.chrombpnet.encsr637xsc_5m.varscore.jsd  \\\n",
       "268                                       0.078785   \n",
       "303                                       0.069764   \n",
       "306                                       0.135474   \n",
       "410                                       0.103556   \n",
       "3313                                      0.097456   \n",
       "11131                                     0.083028   \n",
       "12472                                    -0.032405   \n",
       "15702                                    -0.081896   \n",
       "26892                                     0.088575   \n",
       "27724                                     0.092375   \n",
       "\n",
       "       pred.chrombpnet.encsr637xsc_5m.varscore.ips  \n",
       "268                                       0.016060  \n",
       "303                                       0.008237  \n",
       "306                                       0.006709  \n",
       "410                                       0.015007  \n",
       "3313                                      0.004860  \n",
       "11131                                     0.001437  \n",
       "12472                                     0.001897  \n",
       "15702                                     0.005937  \n",
       "26892                                     0.015390  \n",
       "27724                                     0.009083  \n",
       "\n",
       "[10 rows x 45 columns]"
      ]
     },
     "execution_count": 92,
     "metadata": {},
     "output_type": "execute_result"
    }
   ],
   "source": [
    "dataf[(abs(dataf[\"pred.chrombpnet.encsr637xsc_50m.varscore.logfc\"]) > 1.0) & (abs(dataf[\"pred.enformer.encsr000emt.varscore.local_logfc\"]) < 0.25)]"
   ]
  },
  {
   "cell_type": "code",
   "execution_count": 96,
   "metadata": {},
   "outputs": [],
   "source": [
    "newdf = dataf[dataf[\"obs.label\"]==1]"
   ]
  },
  {
   "cell_type": "code",
   "execution_count": 97,
   "metadata": {},
   "outputs": [
    {
     "data": {
      "text/html": [
       "<div>\n",
       "<style scoped>\n",
       "    .dataframe tbody tr th:only-of-type {\n",
       "        vertical-align: middle;\n",
       "    }\n",
       "\n",
       "    .dataframe tbody tr th {\n",
       "        vertical-align: top;\n",
       "    }\n",
       "\n",
       "    .dataframe thead th {\n",
       "        text-align: right;\n",
       "    }\n",
       "</style>\n",
       "<table border=\"1\" class=\"dataframe\">\n",
       "  <thead>\n",
       "    <tr style=\"text-align: right;\">\n",
       "      <th></th>\n",
       "      <th>var.chrom</th>\n",
       "      <th>var.pos_hg19</th>\n",
       "      <th>var.allele1</th>\n",
       "      <th>var.allele2</th>\n",
       "      <th>var.rsid</th>\n",
       "      <th>obs.label</th>\n",
       "      <th>var.isused</th>\n",
       "      <th>obs.estimate</th>\n",
       "      <th>pred.gkmsvm.encsr000emt.varscore.deltasvm</th>\n",
       "      <th>pred.enformer.encsr000emt.varscore.global_sad</th>\n",
       "      <th>...</th>\n",
       "      <th>pred.chrombpnet.encsr637xsc_50m.varscore.aaq</th>\n",
       "      <th>pred.chrombpnet.encsr637xsc_50m.varscore.ies</th>\n",
       "      <th>pred.chrombpnet.encsr637xsc_50m.varscore.jsd_x_aaq</th>\n",
       "      <th>pred.chrombpnet.encsr637xsc_50m.varscore.logfc_x_aaq</th>\n",
       "      <th>pred.chrombpnet.encsr637xsc_25m.varscore.logfc</th>\n",
       "      <th>pred.chrombpnet.encsr637xsc_25m.varscore.jsd</th>\n",
       "      <th>pred.chrombpnet.encsr637xsc_25m.varscore.ips</th>\n",
       "      <th>pred.chrombpnet.encsr637xsc_5m.varscore.logfc</th>\n",
       "      <th>pred.chrombpnet.encsr637xsc_5m.varscore.jsd</th>\n",
       "      <th>pred.chrombpnet.encsr637xsc_5m.varscore.ips</th>\n",
       "    </tr>\n",
       "  </thead>\n",
       "  <tbody>\n",
       "    <tr>\n",
       "      <th>0</th>\n",
       "      <td>chr1</td>\n",
       "      <td>856583</td>\n",
       "      <td>A</td>\n",
       "      <td>G</td>\n",
       "      <td>rs141671872</td>\n",
       "      <td>1</td>\n",
       "      <td>True</td>\n",
       "      <td>0.9301</td>\n",
       "      <td>2.653531</td>\n",
       "      <td>0.000342</td>\n",
       "      <td>...</td>\n",
       "      <td>0.248566</td>\n",
       "      <td>0.044994</td>\n",
       "      <td>0.021877</td>\n",
       "      <td>0.127298</td>\n",
       "      <td>0.291935</td>\n",
       "      <td>0.067401</td>\n",
       "      <td>0.004840</td>\n",
       "      <td>0.065098</td>\n",
       "      <td>0.049902</td>\n",
       "      <td>0.001360</td>\n",
       "    </tr>\n",
       "    <tr>\n",
       "      <th>1</th>\n",
       "      <td>chr1</td>\n",
       "      <td>911595</td>\n",
       "      <td>G</td>\n",
       "      <td>A</td>\n",
       "      <td>rs7417106</td>\n",
       "      <td>1</td>\n",
       "      <td>True</td>\n",
       "      <td>-0.6285</td>\n",
       "      <td>2.821422</td>\n",
       "      <td>-0.001241</td>\n",
       "      <td>...</td>\n",
       "      <td>0.726685</td>\n",
       "      <td>0.002535</td>\n",
       "      <td>0.027762</td>\n",
       "      <td>0.056287</td>\n",
       "      <td>0.093192</td>\n",
       "      <td>0.036053</td>\n",
       "      <td>0.002239</td>\n",
       "      <td>0.045314</td>\n",
       "      <td>0.034489</td>\n",
       "      <td>0.000898</td>\n",
       "    </tr>\n",
       "    <tr>\n",
       "      <th>2</th>\n",
       "      <td>chr1</td>\n",
       "      <td>1186502</td>\n",
       "      <td>T</td>\n",
       "      <td>A</td>\n",
       "      <td>rs6603785</td>\n",
       "      <td>1</td>\n",
       "      <td>True</td>\n",
       "      <td>-0.7363</td>\n",
       "      <td>-7.167236</td>\n",
       "      <td>-0.006530</td>\n",
       "      <td>...</td>\n",
       "      <td>0.696101</td>\n",
       "      <td>0.021468</td>\n",
       "      <td>0.029658</td>\n",
       "      <td>0.349964</td>\n",
       "      <td>-0.402188</td>\n",
       "      <td>-0.038791</td>\n",
       "      <td>0.008839</td>\n",
       "      <td>-0.163023</td>\n",
       "      <td>-0.039080</td>\n",
       "      <td>0.002210</td>\n",
       "    </tr>\n",
       "    <tr>\n",
       "      <th>3</th>\n",
       "      <td>chr1</td>\n",
       "      <td>1227412</td>\n",
       "      <td>A</td>\n",
       "      <td>G</td>\n",
       "      <td>rs112571439</td>\n",
       "      <td>1</td>\n",
       "      <td>True</td>\n",
       "      <td>-0.9236</td>\n",
       "      <td>-3.957382</td>\n",
       "      <td>-0.001878</td>\n",
       "      <td>...</td>\n",
       "      <td>0.521835</td>\n",
       "      <td>0.265543</td>\n",
       "      <td>0.137196</td>\n",
       "      <td>0.518532</td>\n",
       "      <td>-0.622704</td>\n",
       "      <td>-0.222396</td>\n",
       "      <td>0.086945</td>\n",
       "      <td>-0.259064</td>\n",
       "      <td>-0.172960</td>\n",
       "      <td>0.027583</td>\n",
       "    </tr>\n",
       "    <tr>\n",
       "      <th>4</th>\n",
       "      <td>chr1</td>\n",
       "      <td>1590575</td>\n",
       "      <td>A</td>\n",
       "      <td>G</td>\n",
       "      <td>rs9661285</td>\n",
       "      <td>1</td>\n",
       "      <td>True</td>\n",
       "      <td>-1.0890</td>\n",
       "      <td>-4.785596</td>\n",
       "      <td>-0.008736</td>\n",
       "      <td>...</td>\n",
       "      <td>0.988211</td>\n",
       "      <td>0.006033</td>\n",
       "      <td>0.053680</td>\n",
       "      <td>0.103350</td>\n",
       "      <td>-0.061906</td>\n",
       "      <td>-0.050589</td>\n",
       "      <td>0.003275</td>\n",
       "      <td>-0.032300</td>\n",
       "      <td>-0.023135</td>\n",
       "      <td>0.000802</td>\n",
       "    </tr>\n",
       "    <tr>\n",
       "      <th>...</th>\n",
       "      <td>...</td>\n",
       "      <td>...</td>\n",
       "      <td>...</td>\n",
       "      <td>...</td>\n",
       "      <td>...</td>\n",
       "      <td>...</td>\n",
       "      <td>...</td>\n",
       "      <td>...</td>\n",
       "      <td>...</td>\n",
       "      <td>...</td>\n",
       "      <td>...</td>\n",
       "      <td>...</td>\n",
       "      <td>...</td>\n",
       "      <td>...</td>\n",
       "      <td>...</td>\n",
       "      <td>...</td>\n",
       "      <td>...</td>\n",
       "      <td>...</td>\n",
       "      <td>...</td>\n",
       "      <td>...</td>\n",
       "      <td>...</td>\n",
       "    </tr>\n",
       "    <tr>\n",
       "      <th>569</th>\n",
       "      <td>chr9</td>\n",
       "      <td>133769169</td>\n",
       "      <td>G</td>\n",
       "      <td>A</td>\n",
       "      <td>rs3847193</td>\n",
       "      <td>1</td>\n",
       "      <td>True</td>\n",
       "      <td>0.7767</td>\n",
       "      <td>4.271205</td>\n",
       "      <td>0.000025</td>\n",
       "      <td>...</td>\n",
       "      <td>0.740023</td>\n",
       "      <td>0.030903</td>\n",
       "      <td>0.075640</td>\n",
       "      <td>0.216968</td>\n",
       "      <td>0.333520</td>\n",
       "      <td>0.131947</td>\n",
       "      <td>0.031692</td>\n",
       "      <td>0.051163</td>\n",
       "      <td>0.122563</td>\n",
       "      <td>0.003779</td>\n",
       "    </tr>\n",
       "    <tr>\n",
       "      <th>570</th>\n",
       "      <td>chr9</td>\n",
       "      <td>135991219</td>\n",
       "      <td>G</td>\n",
       "      <td>A</td>\n",
       "      <td>rs74734156</td>\n",
       "      <td>1</td>\n",
       "      <td>True</td>\n",
       "      <td>-1.6220</td>\n",
       "      <td>-10.955990</td>\n",
       "      <td>-0.022230</td>\n",
       "      <td>...</td>\n",
       "      <td>0.859768</td>\n",
       "      <td>0.128659</td>\n",
       "      <td>0.082782</td>\n",
       "      <td>1.149839</td>\n",
       "      <td>-1.054812</td>\n",
       "      <td>-0.097857</td>\n",
       "      <td>0.078159</td>\n",
       "      <td>-0.369366</td>\n",
       "      <td>-0.069461</td>\n",
       "      <td>0.017225</td>\n",
       "    </tr>\n",
       "    <tr>\n",
       "      <th>571</th>\n",
       "      <td>chr9</td>\n",
       "      <td>136811747</td>\n",
       "      <td>A</td>\n",
       "      <td>G</td>\n",
       "      <td>rs2519112</td>\n",
       "      <td>1</td>\n",
       "      <td>True</td>\n",
       "      <td>-0.7492</td>\n",
       "      <td>-8.944194</td>\n",
       "      <td>-0.007446</td>\n",
       "      <td>...</td>\n",
       "      <td>0.464208</td>\n",
       "      <td>0.132887</td>\n",
       "      <td>0.055721</td>\n",
       "      <td>0.520439</td>\n",
       "      <td>-0.924885</td>\n",
       "      <td>-0.123568</td>\n",
       "      <td>0.046317</td>\n",
       "      <td>-0.355947</td>\n",
       "      <td>-0.111057</td>\n",
       "      <td>0.012353</td>\n",
       "    </tr>\n",
       "    <tr>\n",
       "      <th>572</th>\n",
       "      <td>chr9</td>\n",
       "      <td>140376668</td>\n",
       "      <td>G</td>\n",
       "      <td>A</td>\n",
       "      <td>rs10116708</td>\n",
       "      <td>1</td>\n",
       "      <td>True</td>\n",
       "      <td>1.0270</td>\n",
       "      <td>4.130903</td>\n",
       "      <td>0.000917</td>\n",
       "      <td>...</td>\n",
       "      <td>0.498460</td>\n",
       "      <td>0.007134</td>\n",
       "      <td>0.011000</td>\n",
       "      <td>0.163987</td>\n",
       "      <td>0.257331</td>\n",
       "      <td>0.026206</td>\n",
       "      <td>0.003634</td>\n",
       "      <td>0.174108</td>\n",
       "      <td>0.030441</td>\n",
       "      <td>0.003031</td>\n",
       "    </tr>\n",
       "    <tr>\n",
       "      <th>573</th>\n",
       "      <td>chr9</td>\n",
       "      <td>140499646</td>\n",
       "      <td>C</td>\n",
       "      <td>T</td>\n",
       "      <td>rs4494021</td>\n",
       "      <td>1</td>\n",
       "      <td>True</td>\n",
       "      <td>0.8279</td>\n",
       "      <td>7.858264</td>\n",
       "      <td>0.001646</td>\n",
       "      <td>...</td>\n",
       "      <td>0.916726</td>\n",
       "      <td>0.001974</td>\n",
       "      <td>0.032355</td>\n",
       "      <td>0.050632</td>\n",
       "      <td>0.031360</td>\n",
       "      <td>0.039969</td>\n",
       "      <td>0.001500</td>\n",
       "      <td>0.012683</td>\n",
       "      <td>0.030208</td>\n",
       "      <td>0.000375</td>\n",
       "    </tr>\n",
       "  </tbody>\n",
       "</table>\n",
       "<p>560 rows × 45 columns</p>\n",
       "</div>"
      ],
      "text/plain": [
       "    var.chrom  var.pos_hg19 var.allele1 var.allele2     var.rsid  obs.label  \\\n",
       "0        chr1        856583           A           G  rs141671872          1   \n",
       "1        chr1        911595           G           A    rs7417106          1   \n",
       "2        chr1       1186502           T           A    rs6603785          1   \n",
       "3        chr1       1227412           A           G  rs112571439          1   \n",
       "4        chr1       1590575           A           G    rs9661285          1   \n",
       "..        ...           ...         ...         ...          ...        ...   \n",
       "569      chr9     133769169           G           A    rs3847193          1   \n",
       "570      chr9     135991219           G           A   rs74734156          1   \n",
       "571      chr9     136811747           A           G    rs2519112          1   \n",
       "572      chr9     140376668           G           A   rs10116708          1   \n",
       "573      chr9     140499646           C           T    rs4494021          1   \n",
       "\n",
       "     var.isused  obs.estimate  pred.gkmsvm.encsr000emt.varscore.deltasvm  \\\n",
       "0          True        0.9301                                   2.653531   \n",
       "1          True       -0.6285                                   2.821422   \n",
       "2          True       -0.7363                                  -7.167236   \n",
       "3          True       -0.9236                                  -3.957382   \n",
       "4          True       -1.0890                                  -4.785596   \n",
       "..          ...           ...                                        ...   \n",
       "569        True        0.7767                                   4.271205   \n",
       "570        True       -1.6220                                 -10.955990   \n",
       "571        True       -0.7492                                  -8.944194   \n",
       "572        True        1.0270                                   4.130903   \n",
       "573        True        0.8279                                   7.858264   \n",
       "\n",
       "     pred.enformer.encsr000emt.varscore.global_sad  ...  \\\n",
       "0                                         0.000342  ...   \n",
       "1                                        -0.001241  ...   \n",
       "2                                        -0.006530  ...   \n",
       "3                                        -0.001878  ...   \n",
       "4                                        -0.008736  ...   \n",
       "..                                             ...  ...   \n",
       "569                                       0.000025  ...   \n",
       "570                                      -0.022230  ...   \n",
       "571                                      -0.007446  ...   \n",
       "572                                       0.000917  ...   \n",
       "573                                       0.001646  ...   \n",
       "\n",
       "     pred.chrombpnet.encsr637xsc_50m.varscore.aaq  \\\n",
       "0                                        0.248566   \n",
       "1                                        0.726685   \n",
       "2                                        0.696101   \n",
       "3                                        0.521835   \n",
       "4                                        0.988211   \n",
       "..                                            ...   \n",
       "569                                      0.740023   \n",
       "570                                      0.859768   \n",
       "571                                      0.464208   \n",
       "572                                      0.498460   \n",
       "573                                      0.916726   \n",
       "\n",
       "     pred.chrombpnet.encsr637xsc_50m.varscore.ies  \\\n",
       "0                                        0.044994   \n",
       "1                                        0.002535   \n",
       "2                                        0.021468   \n",
       "3                                        0.265543   \n",
       "4                                        0.006033   \n",
       "..                                            ...   \n",
       "569                                      0.030903   \n",
       "570                                      0.128659   \n",
       "571                                      0.132887   \n",
       "572                                      0.007134   \n",
       "573                                      0.001974   \n",
       "\n",
       "     pred.chrombpnet.encsr637xsc_50m.varscore.jsd_x_aaq  \\\n",
       "0                                             0.021877    \n",
       "1                                             0.027762    \n",
       "2                                             0.029658    \n",
       "3                                             0.137196    \n",
       "4                                             0.053680    \n",
       "..                                                 ...    \n",
       "569                                           0.075640    \n",
       "570                                           0.082782    \n",
       "571                                           0.055721    \n",
       "572                                           0.011000    \n",
       "573                                           0.032355    \n",
       "\n",
       "     pred.chrombpnet.encsr637xsc_50m.varscore.logfc_x_aaq  \\\n",
       "0                                             0.127298      \n",
       "1                                             0.056287      \n",
       "2                                             0.349964      \n",
       "3                                             0.518532      \n",
       "4                                             0.103350      \n",
       "..                                                 ...      \n",
       "569                                           0.216968      \n",
       "570                                           1.149839      \n",
       "571                                           0.520439      \n",
       "572                                           0.163987      \n",
       "573                                           0.050632      \n",
       "\n",
       "     pred.chrombpnet.encsr637xsc_25m.varscore.logfc  \\\n",
       "0                                          0.291935   \n",
       "1                                          0.093192   \n",
       "2                                         -0.402188   \n",
       "3                                         -0.622704   \n",
       "4                                         -0.061906   \n",
       "..                                              ...   \n",
       "569                                        0.333520   \n",
       "570                                       -1.054812   \n",
       "571                                       -0.924885   \n",
       "572                                        0.257331   \n",
       "573                                        0.031360   \n",
       "\n",
       "     pred.chrombpnet.encsr637xsc_25m.varscore.jsd  \\\n",
       "0                                        0.067401   \n",
       "1                                        0.036053   \n",
       "2                                       -0.038791   \n",
       "3                                       -0.222396   \n",
       "4                                       -0.050589   \n",
       "..                                            ...   \n",
       "569                                      0.131947   \n",
       "570                                     -0.097857   \n",
       "571                                     -0.123568   \n",
       "572                                      0.026206   \n",
       "573                                      0.039969   \n",
       "\n",
       "     pred.chrombpnet.encsr637xsc_25m.varscore.ips  \\\n",
       "0                                        0.004840   \n",
       "1                                        0.002239   \n",
       "2                                        0.008839   \n",
       "3                                        0.086945   \n",
       "4                                        0.003275   \n",
       "..                                            ...   \n",
       "569                                      0.031692   \n",
       "570                                      0.078159   \n",
       "571                                      0.046317   \n",
       "572                                      0.003634   \n",
       "573                                      0.001500   \n",
       "\n",
       "     pred.chrombpnet.encsr637xsc_5m.varscore.logfc  \\\n",
       "0                                         0.065098   \n",
       "1                                         0.045314   \n",
       "2                                        -0.163023   \n",
       "3                                        -0.259064   \n",
       "4                                        -0.032300   \n",
       "..                                             ...   \n",
       "569                                       0.051163   \n",
       "570                                      -0.369366   \n",
       "571                                      -0.355947   \n",
       "572                                       0.174108   \n",
       "573                                       0.012683   \n",
       "\n",
       "     pred.chrombpnet.encsr637xsc_5m.varscore.jsd  \\\n",
       "0                                       0.049902   \n",
       "1                                       0.034489   \n",
       "2                                      -0.039080   \n",
       "3                                      -0.172960   \n",
       "4                                      -0.023135   \n",
       "..                                           ...   \n",
       "569                                     0.122563   \n",
       "570                                    -0.069461   \n",
       "571                                    -0.111057   \n",
       "572                                     0.030441   \n",
       "573                                     0.030208   \n",
       "\n",
       "     pred.chrombpnet.encsr637xsc_5m.varscore.ips  \n",
       "0                                       0.001360  \n",
       "1                                       0.000898  \n",
       "2                                       0.002210  \n",
       "3                                       0.027583  \n",
       "4                                       0.000802  \n",
       "..                                           ...  \n",
       "569                                     0.003779  \n",
       "570                                     0.017225  \n",
       "571                                     0.012353  \n",
       "572                                     0.003031  \n",
       "573                                     0.000375  \n",
       "\n",
       "[560 rows x 45 columns]"
      ]
     },
     "execution_count": 97,
     "metadata": {},
     "output_type": "execute_result"
    }
   ],
   "source": [
    "newdf"
   ]
  },
  {
   "cell_type": "code",
   "execution_count": 98,
   "metadata": {},
   "outputs": [],
   "source": [
    "diff = newdf[\"var.pos_hg19\"].diff()"
   ]
  },
  {
   "cell_type": "code",
   "execution_count": 101,
   "metadata": {},
   "outputs": [],
   "source": [
    "mask = diff.abs() < 500\n"
   ]
  },
  {
   "cell_type": "code",
   "execution_count": 106,
   "metadata": {},
   "outputs": [
    {
     "data": {
      "text/plain": [
       "4"
      ]
     },
     "execution_count": 106,
     "metadata": {},
     "output_type": "execute_result"
    }
   ],
   "source": [
    "sum(mask)"
   ]
  },
  {
   "cell_type": "code",
   "execution_count": 109,
   "metadata": {},
   "outputs": [
    {
     "data": {
      "text/plain": [
       "62      73.0\n",
       "299    170.0\n",
       "453     72.0\n",
       "464     27.0\n",
       "Name: var.pos_hg19, dtype: float64"
      ]
     },
     "execution_count": 109,
     "metadata": {},
     "output_type": "execute_result"
    }
   ],
   "source": [
    "diff[mask]"
   ]
  },
  {
   "cell_type": "code",
   "execution_count": 132,
   "metadata": {},
   "outputs": [
    {
     "data": {
      "text/html": [
       "<div>\n",
       "<style scoped>\n",
       "    .dataframe tbody tr th:only-of-type {\n",
       "        vertical-align: middle;\n",
       "    }\n",
       "\n",
       "    .dataframe tbody tr th {\n",
       "        vertical-align: top;\n",
       "    }\n",
       "\n",
       "    .dataframe thead th {\n",
       "        text-align: right;\n",
       "    }\n",
       "</style>\n",
       "<table border=\"1\" class=\"dataframe\">\n",
       "  <thead>\n",
       "    <tr style=\"text-align: right;\">\n",
       "      <th></th>\n",
       "      <th>var.chrom</th>\n",
       "      <th>var.pos_hg19</th>\n",
       "      <th>var.allele1</th>\n",
       "      <th>var.allele2</th>\n",
       "      <th>var.rsid</th>\n",
       "      <th>obs.label</th>\n",
       "      <th>var.isused</th>\n",
       "      <th>obs.estimate</th>\n",
       "      <th>pred.gkmsvm.encsr000emt.varscore.deltasvm</th>\n",
       "      <th>pred.enformer.encsr000emt.varscore.global_sad</th>\n",
       "      <th>...</th>\n",
       "      <th>pred.chrombpnet.encsr637xsc_50m.varscore.aaq</th>\n",
       "      <th>pred.chrombpnet.encsr637xsc_50m.varscore.ies</th>\n",
       "      <th>pred.chrombpnet.encsr637xsc_50m.varscore.jsd_x_aaq</th>\n",
       "      <th>pred.chrombpnet.encsr637xsc_50m.varscore.logfc_x_aaq</th>\n",
       "      <th>pred.chrombpnet.encsr637xsc_25m.varscore.logfc</th>\n",
       "      <th>pred.chrombpnet.encsr637xsc_25m.varscore.jsd</th>\n",
       "      <th>pred.chrombpnet.encsr637xsc_25m.varscore.ips</th>\n",
       "      <th>pred.chrombpnet.encsr637xsc_5m.varscore.logfc</th>\n",
       "      <th>pred.chrombpnet.encsr637xsc_5m.varscore.jsd</th>\n",
       "      <th>pred.chrombpnet.encsr637xsc_5m.varscore.ips</th>\n",
       "    </tr>\n",
       "  </thead>\n",
       "  <tbody>\n",
       "    <tr>\n",
       "      <th>452</th>\n",
       "      <td>chr5</td>\n",
       "      <td>34452510</td>\n",
       "      <td>C</td>\n",
       "      <td>T</td>\n",
       "      <td>rs6451097</td>\n",
       "      <td>1</td>\n",
       "      <td>True</td>\n",
       "      <td>1.0060</td>\n",
       "      <td>8.665144</td>\n",
       "      <td>0.000159</td>\n",
       "      <td>...</td>\n",
       "      <td>0.215498</td>\n",
       "      <td>0.050969</td>\n",
       "      <td>0.035547</td>\n",
       "      <td>0.070687</td>\n",
       "      <td>0.158468</td>\n",
       "      <td>0.130611</td>\n",
       "      <td>0.004071</td>\n",
       "      <td>0.103375</td>\n",
       "      <td>0.143592</td>\n",
       "      <td>0.003862</td>\n",
       "    </tr>\n",
       "    <tr>\n",
       "      <th>453</th>\n",
       "      <td>chr5</td>\n",
       "      <td>34452582</td>\n",
       "      <td>G</td>\n",
       "      <td>A</td>\n",
       "      <td>rs6451098</td>\n",
       "      <td>1</td>\n",
       "      <td>True</td>\n",
       "      <td>1.0690</td>\n",
       "      <td>-3.237986</td>\n",
       "      <td>0.000015</td>\n",
       "      <td>...</td>\n",
       "      <td>0.236626</td>\n",
       "      <td>0.001829</td>\n",
       "      <td>0.003394</td>\n",
       "      <td>0.024061</td>\n",
       "      <td>-0.035114</td>\n",
       "      <td>-0.013992</td>\n",
       "      <td>0.000111</td>\n",
       "      <td>-0.005684</td>\n",
       "      <td>-0.010481</td>\n",
       "      <td>0.000086</td>\n",
       "    </tr>\n",
       "    <tr>\n",
       "      <th>454</th>\n",
       "      <td>chr5</td>\n",
       "      <td>40437845</td>\n",
       "      <td>A</td>\n",
       "      <td>G</td>\n",
       "      <td>rs9292776</td>\n",
       "      <td>1</td>\n",
       "      <td>True</td>\n",
       "      <td>-0.7408</td>\n",
       "      <td>-6.748464</td>\n",
       "      <td>0.000189</td>\n",
       "      <td>...</td>\n",
       "      <td>0.714247</td>\n",
       "      <td>0.010964</td>\n",
       "      <td>0.024564</td>\n",
       "      <td>0.224446</td>\n",
       "      <td>-0.307851</td>\n",
       "      <td>-0.030032</td>\n",
       "      <td>0.006440</td>\n",
       "      <td>-0.127723</td>\n",
       "      <td>-0.022915</td>\n",
       "      <td>0.002014</td>\n",
       "    </tr>\n",
       "  </tbody>\n",
       "</table>\n",
       "<p>3 rows × 45 columns</p>\n",
       "</div>"
      ],
      "text/plain": [
       "    var.chrom  var.pos_hg19 var.allele1 var.allele2   var.rsid  obs.label  \\\n",
       "452      chr5      34452510           C           T  rs6451097          1   \n",
       "453      chr5      34452582           G           A  rs6451098          1   \n",
       "454      chr5      40437845           A           G  rs9292776          1   \n",
       "\n",
       "     var.isused  obs.estimate  pred.gkmsvm.encsr000emt.varscore.deltasvm  \\\n",
       "452        True        1.0060                                   8.665144   \n",
       "453        True        1.0690                                  -3.237986   \n",
       "454        True       -0.7408                                  -6.748464   \n",
       "\n",
       "     pred.enformer.encsr000emt.varscore.global_sad  ...  \\\n",
       "452                                       0.000159  ...   \n",
       "453                                       0.000015  ...   \n",
       "454                                       0.000189  ...   \n",
       "\n",
       "     pred.chrombpnet.encsr637xsc_50m.varscore.aaq  \\\n",
       "452                                      0.215498   \n",
       "453                                      0.236626   \n",
       "454                                      0.714247   \n",
       "\n",
       "     pred.chrombpnet.encsr637xsc_50m.varscore.ies  \\\n",
       "452                                      0.050969   \n",
       "453                                      0.001829   \n",
       "454                                      0.010964   \n",
       "\n",
       "     pred.chrombpnet.encsr637xsc_50m.varscore.jsd_x_aaq  \\\n",
       "452                                           0.035547    \n",
       "453                                           0.003394    \n",
       "454                                           0.024564    \n",
       "\n",
       "     pred.chrombpnet.encsr637xsc_50m.varscore.logfc_x_aaq  \\\n",
       "452                                           0.070687      \n",
       "453                                           0.024061      \n",
       "454                                           0.224446      \n",
       "\n",
       "     pred.chrombpnet.encsr637xsc_25m.varscore.logfc  \\\n",
       "452                                        0.158468   \n",
       "453                                       -0.035114   \n",
       "454                                       -0.307851   \n",
       "\n",
       "     pred.chrombpnet.encsr637xsc_25m.varscore.jsd  \\\n",
       "452                                      0.130611   \n",
       "453                                     -0.013992   \n",
       "454                                     -0.030032   \n",
       "\n",
       "     pred.chrombpnet.encsr637xsc_25m.varscore.ips  \\\n",
       "452                                      0.004071   \n",
       "453                                      0.000111   \n",
       "454                                      0.006440   \n",
       "\n",
       "     pred.chrombpnet.encsr637xsc_5m.varscore.logfc  \\\n",
       "452                                       0.103375   \n",
       "453                                      -0.005684   \n",
       "454                                      -0.127723   \n",
       "\n",
       "     pred.chrombpnet.encsr637xsc_5m.varscore.jsd  \\\n",
       "452                                     0.143592   \n",
       "453                                    -0.010481   \n",
       "454                                    -0.022915   \n",
       "\n",
       "     pred.chrombpnet.encsr637xsc_5m.varscore.ips  \n",
       "452                                     0.003862  \n",
       "453                                     0.000086  \n",
       "454                                     0.002014  \n",
       "\n",
       "[3 rows x 45 columns]"
      ]
     },
     "execution_count": 132,
     "metadata": {},
     "output_type": "execute_result"
    }
   ],
   "source": [
    "newdf.loc[452:454,:]"
   ]
  },
  {
   "cell_type": "code",
   "execution_count": 114,
   "metadata": {},
   "outputs": [
    {
     "data": {
      "text/plain": [
       "61    0.145453\n",
       "62    0.048056\n",
       "63    0.463644\n",
       "Name: pred.chrombpnet.encsr637xsc.varscore.logfc, dtype: float64"
      ]
     },
     "execution_count": 114,
     "metadata": {},
     "output_type": "execute_result"
    }
   ],
   "source": [
    "newdf.iloc[60:63][\"pred.chrombpnet.encsr637xsc.varscore.logfc\"]"
   ]
  },
  {
   "cell_type": "code",
   "execution_count": 108,
   "metadata": {},
   "outputs": [
    {
     "data": {
      "text/html": [
       "<div>\n",
       "<style scoped>\n",
       "    .dataframe tbody tr th:only-of-type {\n",
       "        vertical-align: middle;\n",
       "    }\n",
       "\n",
       "    .dataframe tbody tr th {\n",
       "        vertical-align: top;\n",
       "    }\n",
       "\n",
       "    .dataframe thead th {\n",
       "        text-align: right;\n",
       "    }\n",
       "</style>\n",
       "<table border=\"1\" class=\"dataframe\">\n",
       "  <thead>\n",
       "    <tr style=\"text-align: right;\">\n",
       "      <th></th>\n",
       "      <th>var.chrom</th>\n",
       "      <th>var.pos_hg19</th>\n",
       "      <th>var.allele1</th>\n",
       "      <th>var.allele2</th>\n",
       "      <th>var.rsid</th>\n",
       "      <th>obs.label</th>\n",
       "      <th>var.isused</th>\n",
       "      <th>obs.estimate</th>\n",
       "      <th>pred.gkmsvm.encsr000emt.varscore.deltasvm</th>\n",
       "      <th>pred.enformer.encsr000emt.varscore.global_sad</th>\n",
       "      <th>...</th>\n",
       "      <th>pred.chrombpnet.encsr637xsc_50m.varscore.aaq</th>\n",
       "      <th>pred.chrombpnet.encsr637xsc_50m.varscore.ies</th>\n",
       "      <th>pred.chrombpnet.encsr637xsc_50m.varscore.jsd_x_aaq</th>\n",
       "      <th>pred.chrombpnet.encsr637xsc_50m.varscore.logfc_x_aaq</th>\n",
       "      <th>pred.chrombpnet.encsr637xsc_25m.varscore.logfc</th>\n",
       "      <th>pred.chrombpnet.encsr637xsc_25m.varscore.jsd</th>\n",
       "      <th>pred.chrombpnet.encsr637xsc_25m.varscore.ips</th>\n",
       "      <th>pred.chrombpnet.encsr637xsc_5m.varscore.logfc</th>\n",
       "      <th>pred.chrombpnet.encsr637xsc_5m.varscore.jsd</th>\n",
       "      <th>pred.chrombpnet.encsr637xsc_5m.varscore.ips</th>\n",
       "    </tr>\n",
       "  </thead>\n",
       "  <tbody>\n",
       "    <tr>\n",
       "      <th>62</th>\n",
       "      <td>chr10</td>\n",
       "      <td>75911415</td>\n",
       "      <td>C</td>\n",
       "      <td>T</td>\n",
       "      <td>rs10824084</td>\n",
       "      <td>1</td>\n",
       "      <td>True</td>\n",
       "      <td>0.6487</td>\n",
       "      <td>1.465231</td>\n",
       "      <td>0.000297</td>\n",
       "      <td>...</td>\n",
       "      <td>0.789447</td>\n",
       "      <td>0.000581</td>\n",
       "      <td>0.011063</td>\n",
       "      <td>0.032909</td>\n",
       "      <td>0.048786</td>\n",
       "      <td>0.014944</td>\n",
       "      <td>0.000629</td>\n",
       "      <td>0.021391</td>\n",
       "      <td>0.013766</td>\n",
       "      <td>0.000238</td>\n",
       "    </tr>\n",
       "    <tr>\n",
       "      <th>299</th>\n",
       "      <td>chr2</td>\n",
       "      <td>9983856</td>\n",
       "      <td>G</td>\n",
       "      <td>A</td>\n",
       "      <td>rs115657324</td>\n",
       "      <td>1</td>\n",
       "      <td>True</td>\n",
       "      <td>-1.2130</td>\n",
       "      <td>-1.512685</td>\n",
       "      <td>-0.000372</td>\n",
       "      <td>...</td>\n",
       "      <td>0.967353</td>\n",
       "      <td>0.000561</td>\n",
       "      <td>0.020542</td>\n",
       "      <td>0.025420</td>\n",
       "      <td>-0.049169</td>\n",
       "      <td>-0.017865</td>\n",
       "      <td>0.000857</td>\n",
       "      <td>-0.026088</td>\n",
       "      <td>-0.013528</td>\n",
       "      <td>0.000340</td>\n",
       "    </tr>\n",
       "    <tr>\n",
       "      <th>453</th>\n",
       "      <td>chr5</td>\n",
       "      <td>34452582</td>\n",
       "      <td>G</td>\n",
       "      <td>A</td>\n",
       "      <td>rs6451098</td>\n",
       "      <td>1</td>\n",
       "      <td>True</td>\n",
       "      <td>1.0690</td>\n",
       "      <td>-3.237986</td>\n",
       "      <td>0.000015</td>\n",
       "      <td>...</td>\n",
       "      <td>0.236626</td>\n",
       "      <td>0.001829</td>\n",
       "      <td>0.003394</td>\n",
       "      <td>0.024061</td>\n",
       "      <td>-0.035114</td>\n",
       "      <td>-0.013992</td>\n",
       "      <td>0.000111</td>\n",
       "      <td>-0.005684</td>\n",
       "      <td>-0.010481</td>\n",
       "      <td>0.000086</td>\n",
       "    </tr>\n",
       "    <tr>\n",
       "      <th>464</th>\n",
       "      <td>chr5</td>\n",
       "      <td>132867002</td>\n",
       "      <td>G</td>\n",
       "      <td>A</td>\n",
       "      <td>rs823992</td>\n",
       "      <td>1</td>\n",
       "      <td>True</td>\n",
       "      <td>-0.7486</td>\n",
       "      <td>-12.801433</td>\n",
       "      <td>-0.001295</td>\n",
       "      <td>...</td>\n",
       "      <td>0.651068</td>\n",
       "      <td>0.054868</td>\n",
       "      <td>0.039140</td>\n",
       "      <td>0.570535</td>\n",
       "      <td>-0.767703</td>\n",
       "      <td>-0.068672</td>\n",
       "      <td>0.028155</td>\n",
       "      <td>-0.232271</td>\n",
       "      <td>-0.053321</td>\n",
       "      <td>0.005319</td>\n",
       "    </tr>\n",
       "  </tbody>\n",
       "</table>\n",
       "<p>4 rows × 45 columns</p>\n",
       "</div>"
      ],
      "text/plain": [
       "    var.chrom  var.pos_hg19 var.allele1 var.allele2     var.rsid  obs.label  \\\n",
       "62      chr10      75911415           C           T   rs10824084          1   \n",
       "299      chr2       9983856           G           A  rs115657324          1   \n",
       "453      chr5      34452582           G           A    rs6451098          1   \n",
       "464      chr5     132867002           G           A     rs823992          1   \n",
       "\n",
       "     var.isused  obs.estimate  pred.gkmsvm.encsr000emt.varscore.deltasvm  \\\n",
       "62         True        0.6487                                   1.465231   \n",
       "299        True       -1.2130                                  -1.512685   \n",
       "453        True        1.0690                                  -3.237986   \n",
       "464        True       -0.7486                                 -12.801433   \n",
       "\n",
       "     pred.enformer.encsr000emt.varscore.global_sad  ...  \\\n",
       "62                                        0.000297  ...   \n",
       "299                                      -0.000372  ...   \n",
       "453                                       0.000015  ...   \n",
       "464                                      -0.001295  ...   \n",
       "\n",
       "     pred.chrombpnet.encsr637xsc_50m.varscore.aaq  \\\n",
       "62                                       0.789447   \n",
       "299                                      0.967353   \n",
       "453                                      0.236626   \n",
       "464                                      0.651068   \n",
       "\n",
       "     pred.chrombpnet.encsr637xsc_50m.varscore.ies  \\\n",
       "62                                       0.000581   \n",
       "299                                      0.000561   \n",
       "453                                      0.001829   \n",
       "464                                      0.054868   \n",
       "\n",
       "     pred.chrombpnet.encsr637xsc_50m.varscore.jsd_x_aaq  \\\n",
       "62                                            0.011063    \n",
       "299                                           0.020542    \n",
       "453                                           0.003394    \n",
       "464                                           0.039140    \n",
       "\n",
       "     pred.chrombpnet.encsr637xsc_50m.varscore.logfc_x_aaq  \\\n",
       "62                                            0.032909      \n",
       "299                                           0.025420      \n",
       "453                                           0.024061      \n",
       "464                                           0.570535      \n",
       "\n",
       "     pred.chrombpnet.encsr637xsc_25m.varscore.logfc  \\\n",
       "62                                         0.048786   \n",
       "299                                       -0.049169   \n",
       "453                                       -0.035114   \n",
       "464                                       -0.767703   \n",
       "\n",
       "     pred.chrombpnet.encsr637xsc_25m.varscore.jsd  \\\n",
       "62                                       0.014944   \n",
       "299                                     -0.017865   \n",
       "453                                     -0.013992   \n",
       "464                                     -0.068672   \n",
       "\n",
       "     pred.chrombpnet.encsr637xsc_25m.varscore.ips  \\\n",
       "62                                       0.000629   \n",
       "299                                      0.000857   \n",
       "453                                      0.000111   \n",
       "464                                      0.028155   \n",
       "\n",
       "     pred.chrombpnet.encsr637xsc_5m.varscore.logfc  \\\n",
       "62                                        0.021391   \n",
       "299                                      -0.026088   \n",
       "453                                      -0.005684   \n",
       "464                                      -0.232271   \n",
       "\n",
       "     pred.chrombpnet.encsr637xsc_5m.varscore.jsd  \\\n",
       "62                                      0.013766   \n",
       "299                                    -0.013528   \n",
       "453                                    -0.010481   \n",
       "464                                    -0.053321   \n",
       "\n",
       "     pred.chrombpnet.encsr637xsc_5m.varscore.ips  \n",
       "62                                      0.000238  \n",
       "299                                     0.000340  \n",
       "453                                     0.000086  \n",
       "464                                     0.005319  \n",
       "\n",
       "[4 rows x 45 columns]"
      ]
     },
     "execution_count": 108,
     "metadata": {},
     "output_type": "execute_result"
    }
   ],
   "source": [
    "# Shift the mask by one row to identify the previous row in the pair\n",
    "mask_shifted = mask.shift(-1)\n",
    "\n",
    "# Combine the masks to find consecutive rows\n",
    "consecutive_mask = mask & mask_shifted\n",
    "\n",
    "# Return the rows that meet the criteria\n",
    "newdf[mask]"
   ]
  },
  {
   "cell_type": "code",
   "execution_count": 105,
   "metadata": {},
   "outputs": [
    {
     "data": {
      "text/plain": [
       "nan"
      ]
     },
     "execution_count": 105,
     "metadata": {},
     "output_type": "execute_result"
    }
   ],
   "source": []
  },
  {
   "cell_type": "code",
   "execution_count": null,
   "metadata": {},
   "outputs": [],
   "source": []
  },
  {
   "cell_type": "code",
   "execution_count": 72,
   "metadata": {},
   "outputs": [
    {
     "data": {
      "text/plain": [
       "268    0.246145\n",
       "Name: pred.enformer.encsr000emt.varscore.local_logfc, dtype: float64"
      ]
     },
     "execution_count": 72,
     "metadata": {},
     "output_type": "execute_result"
    }
   ],
   "source": [
    "dataf[dataf[\"var.rsid\"]==\"rs76943706\"][\"pred.enformer.encsr000emt.varscore.local_logfc\"]"
   ]
  },
  {
   "cell_type": "code",
   "execution_count": 75,
   "metadata": {},
   "outputs": [
    {
     "data": {
      "text/plain": [
       "268    1.1031\n",
       "Name: pred.chrombpnet.encsr637xsc_50m.varscore.logfc, dtype: float64"
      ]
     },
     "execution_count": 75,
     "metadata": {},
     "output_type": "execute_result"
    }
   ],
   "source": [
    "dataf[dataf[\"var.rsid\"]==\"rs76943706\"][\"pred.chrombpnet.encsr637xsc_50m.varscore.logfc\"]"
   ]
  },
  {
   "cell_type": "code",
   "execution_count": 60,
   "metadata": {},
   "outputs": [
    {
     "data": {
      "text/plain": [
       "69   -1.154\n",
       "Name: obs.estimate, dtype: float64"
      ]
     },
     "execution_count": 60,
     "metadata": {},
     "output_type": "execute_result"
    }
   ],
   "source": [
    "dataf[dataf[\"var.rsid\"]==\"rs7094325\"][\"obs.estimate\"]"
   ]
  },
  {
   "cell_type": "code",
   "execution_count": 61,
   "metadata": {},
   "outputs": [
    {
     "data": {
      "text/plain": [
       "<matplotlib.collections.PathCollection at 0x7fe08546e9d0>"
      ]
     },
     "execution_count": 61,
     "metadata": {},
     "output_type": "execute_result"
    },
    {
     "data": {
      "image/png": "[encoded data removed]",
      "text/plain": [
       "<Figure size 432x288 with 1 Axes>"
      ]
     },
     "metadata": {
      "needs_background": "light"
     },
     "output_type": "display_data"
    }
   ],
   "source": [
    "plt.scatter(dataf[\"obs.estimate\"], dataf[\"pred.enformer.encsr000emt.varscore.local_logfc\"], s=1)\n",
    "\n"
   ]
  },
  {
   "cell_type": "code",
   "execution_count": 85,
   "metadata": {},
   "outputs": [],
   "source": [
    "import pickle as pkl\n",
    "import os\n",
    "enformer_recompute = pkl.load(open(os.path.join(\"/mnt/lab_data2/anusri/variant-scorer/src/output/dsqtls_lcl/enformer_preds_small_window/predictions_at_snp.pkl\"),'rb'))\n",
    "mean_change=[]\n",
    "for i in range(data.shape[0]):\n",
    "    mean_change.append(np.log2( (enformer_recompute[\"ref_logcount_preds\"][i,440+4:456-4].sum()+1) / (enformer_recompute[\"alt_logcount_preds\"][i,440+4:456-4].sum()+1)))"
   ]
  },
  {
   "cell_type": "code",
   "execution_count": 91,
   "metadata": {},
   "outputs": [
    {
     "data": {
      "text/plain": [
       "[<matplotlib.lines.Line2D at 0x7fe088900210>]"
      ]
     },
     "execution_count": 91,
     "metadata": {},
     "output_type": "execute_result"
    },
    {
     "data": {
      "image/png": "[encoded data removed]",
      "text/plain": [
       "<Figure size 432x288 with 1 Axes>"
      ]
     },
     "metadata": {
      "needs_background": "light"
     },
     "output_type": "display_data"
    }
   ],
   "source": [
    "plt.plot(enformer_recompute[\"ref_logcount_preds\"][410,440+4:456-4])"
   ]
  },
  {
   "cell_type": "code",
   "execution_count": 90,
   "metadata": {},
   "outputs": [
    {
     "data": {
      "text/plain": [
       "0.22869224994648316"
      ]
     },
     "execution_count": 90,
     "metadata": {},
     "output_type": "execute_result"
    }
   ],
   "source": [
    "mean_change[410]"
   ]
  },
  {
   "cell_type": "code",
   "execution_count": null,
   "metadata": {},
   "outputs": [],
   "source": []
  }
 ],
 "metadata": {
  "kernelspec": {
   "display_name": "Python 3",
   "language": "python",
   "name": "python3"
  },
  "language_info": {
   "codemirror_mode": {
    "name": "ipython",
    "version": 3
   },
   "file_extension": ".py",
   "mimetype": "text/x-python",
   "name": "python",
   "nbconvert_exporter": "python",
   "pygments_lexer": "ipython3",
   "version": "3.7.6"
  }
 },
 "nbformat": 4,
 "nbformat_minor": 4
}
