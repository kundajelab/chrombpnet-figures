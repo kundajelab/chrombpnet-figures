{
 "cells": [
  {
   "cell_type": "code",
   "execution_count": 36,
   "metadata": {},
   "outputs": [],
   "source": [
    "import pandas as pd"
   ]
  },
  {
   "cell_type": "code",
   "execution_count": 37,
   "metadata": {},
   "outputs": [],
   "source": [
    "full_bqtls = pd.read_csv(\"../full_variants/bqtls.pu1.lcls.benchmarking.all.tsv\", sep=\"\\t\", header=0)\n"
   ]
  },
  {
   "cell_type": "code",
   "execution_count": 38,
   "metadata": {},
   "outputs": [
    {
     "data": {
      "text/plain": [
       "(999799, 28)"
      ]
     },
     "execution_count": 38,
     "metadata": {},
     "output_type": "execute_result"
    }
   ],
   "source": [
    "full_bqtls.shape"
   ]
  },
  {
   "cell_type": "code",
   "execution_count": 39,
   "metadata": {},
   "outputs": [
    {
     "data": {
      "text/plain": [
       "Index(['var.chr', 'var.pos_hg19', 'var.isused', 'var.POSTallele',\n",
       "       'var.ALTallele', 'obs.chiplogratio', 'obs.POSTfreq', 'obs:prechipfreq',\n",
       "       'obs.pval', 'obs.depth', 'obs.ALTdepth', 'obs.REFdepth',\n",
       "       'pred.enformer.encsr000emt.variantscore.local_logfc',\n",
       "       'pred.chrombpnet.encsr637xsc.variantscore.logfc',\n",
       "       'pred.chrombpnet.encsr637xsc.variantscore.jsd',\n",
       "       'pred.chrombpnet.encsr637xsc.variantscore.ips',\n",
       "       'pred.chrombpnet.encsr637xsc.variantscore.ips.pval',\n",
       "       'pred.chrombpnet.encsr637xsc_50m.variantscore.logfc',\n",
       "       'pred.chrombpnet.encsr637xsc_50m.variantscore.jsd',\n",
       "       'pred.chrombpnet.encsr637xsc_50m.variantscore.ips',\n",
       "       'pred.chrombpnet.encsr637xsc_50m.variantscore.ips.pval',\n",
       "       'pred.chrombpnet.encsr000emt.variantscore.logfc',\n",
       "       'pred.chrombpnet.encsr000emt.variantscore.jsd',\n",
       "       'pred.chrombpnet.encsr000emt.variantscore.ips',\n",
       "       'pred.chrombpnet.encsr000emt.variantscore.ips.pval',\n",
       "       'pred.enformer.encsr000emt.variantscore.global_sad',\n",
       "       'pred.enformer.encsr000emt.variantscore.global_sar', 'var.rsid'],\n",
       "      dtype='object')"
      ]
     },
     "execution_count": 39,
     "metadata": {},
     "output_type": "execute_result"
    }
   ],
   "source": [
    "full_bqtls.columns"
   ]
  },
  {
   "cell_type": "code",
   "execution_count": 40,
   "metadata": {},
   "outputs": [],
   "source": [
    "dataf = full_bqtls[full_bqtls['var.isused']]"
   ]
  },
  {
   "cell_type": "code",
   "execution_count": 42,
   "metadata": {},
   "outputs": [
    {
     "data": {
      "text/plain": [
       "(3818, 28)"
      ]
     },
     "execution_count": 42,
     "metadata": {},
     "output_type": "execute_result"
    }
   ],
   "source": [
    "dataf.shape"
   ]
  },
  {
   "cell_type": "code",
   "execution_count": 49,
   "metadata": {},
   "outputs": [
    {
     "data": {
      "text/plain": [
       "447"
      ]
     },
     "execution_count": 49,
     "metadata": {},
     "output_type": "execute_result"
    }
   ],
   "source": [
    "#sum((full_bqtls['obs.pval']<1e-9) & (~np.isnan(full_bqtls['pred.enformer.encsr000emt.variantscore.global_sad' ])))"
   ]
  },
  {
   "cell_type": "code",
   "execution_count": 42,
   "metadata": {},
   "outputs": [],
   "source": [
    "afrs = pd.read_csv(\"../full_variants/caqtls.african.lcls.benchmarking.all.tsv\", sep=\"\\t\", header=0)"
   ]
  },
  {
   "cell_type": "code",
   "execution_count": 43,
   "metadata": {},
   "outputs": [
    {
     "data": {
      "text/html": [
       "<div>\n",
       "<style scoped>\n",
       "    .dataframe tbody tr th:only-of-type {\n",
       "        vertical-align: middle;\n",
       "    }\n",
       "\n",
       "    .dataframe tbody tr th {\n",
       "        vertical-align: top;\n",
       "    }\n",
       "\n",
       "    .dataframe thead th {\n",
       "        text-align: right;\n",
       "    }\n",
       "</style>\n",
       "<table border=\"1\" class=\"dataframe\">\n",
       "  <thead>\n",
       "    <tr style=\"text-align: right;\">\n",
       "      <th></th>\n",
       "      <th>var.chr</th>\n",
       "      <th>var.pos_hg38</th>\n",
       "      <th>var.allele1</th>\n",
       "      <th>var.allele2</th>\n",
       "      <th>var.isused</th>\n",
       "      <th>obs.pval</th>\n",
       "      <th>obs.beta</th>\n",
       "      <th>obs.label</th>\n",
       "      <th>pred.enformer.encsr000emt.variantscore.global_sad</th>\n",
       "      <th>pred.enformer.encsr000emt.variantscore.global_sar</th>\n",
       "      <th>...</th>\n",
       "      <th>pred.chrombpnet.encsr637xsc_50m.variantscore.logfc</th>\n",
       "      <th>pred.chrombpnet.encsr637xsc_50m.variantscore.jsd</th>\n",
       "      <th>pred.chrombpnet.encsr637xsc_50m.variantscore.ips</th>\n",
       "      <th>var.snp_id</th>\n",
       "      <th>var.region</th>\n",
       "      <th>var.snp</th>\n",
       "      <th>var.dbsnp_rsid</th>\n",
       "      <th>obs.distance</th>\n",
       "      <th>obs.se</th>\n",
       "      <th>obs.abs_beta</th>\n",
       "    </tr>\n",
       "  </thead>\n",
       "  <tbody>\n",
       "    <tr>\n",
       "      <th>0</th>\n",
       "      <td>chr1</td>\n",
       "      <td>866281</td>\n",
       "      <td>C</td>\n",
       "      <td>T</td>\n",
       "      <td>False</td>\n",
       "      <td>0.974280</td>\n",
       "      <td>0.006546</td>\n",
       "      <td>False</td>\n",
       "      <td>0.000051</td>\n",
       "      <td>0.000068</td>\n",
       "      <td>...</td>\n",
       "      <td>-0.027134</td>\n",
       "      <td>-0.006544</td>\n",
       "      <td>0.000044</td>\n",
       "      <td>1_866281_C_T</td>\n",
       "      <td>1:866099:866351</td>\n",
       "      <td>1_866281_C_T</td>\n",
       "      <td>rs12132974</td>\n",
       "      <td>181</td>\n",
       "      <td>0.202449</td>\n",
       "      <td>0.006546</td>\n",
       "    </tr>\n",
       "    <tr>\n",
       "      <th>1</th>\n",
       "      <td>chr1</td>\n",
       "      <td>866300</td>\n",
       "      <td>A</td>\n",
       "      <td>C</td>\n",
       "      <td>False</td>\n",
       "      <td>0.974280</td>\n",
       "      <td>0.006546</td>\n",
       "      <td>False</td>\n",
       "      <td>0.000039</td>\n",
       "      <td>0.000052</td>\n",
       "      <td>...</td>\n",
       "      <td>0.000213</td>\n",
       "      <td>0.005325</td>\n",
       "      <td>0.000008</td>\n",
       "      <td>1_866300_A_C</td>\n",
       "      <td>1:866099:866351</td>\n",
       "      <td>1_866300_A_C</td>\n",
       "      <td>rs12134490</td>\n",
       "      <td>200</td>\n",
       "      <td>0.202449</td>\n",
       "      <td>0.006546</td>\n",
       "    </tr>\n",
       "    <tr>\n",
       "      <th>2</th>\n",
       "      <td>chr1</td>\n",
       "      <td>870176</td>\n",
       "      <td>T</td>\n",
       "      <td>A</td>\n",
       "      <td>False</td>\n",
       "      <td>0.071532</td>\n",
       "      <td>-0.250142</td>\n",
       "      <td>False</td>\n",
       "      <td>-0.000139</td>\n",
       "      <td>-0.000184</td>\n",
       "      <td>...</td>\n",
       "      <td>-0.008571</td>\n",
       "      <td>-0.012379</td>\n",
       "      <td>0.000139</td>\n",
       "      <td>1_870176_T_A</td>\n",
       "      <td>1:869800:870282</td>\n",
       "      <td>1_870176_T_A</td>\n",
       "      <td>rs72631880</td>\n",
       "      <td>375</td>\n",
       "      <td>0.137133</td>\n",
       "      <td>0.250142</td>\n",
       "    </tr>\n",
       "    <tr>\n",
       "      <th>3</th>\n",
       "      <td>chr1</td>\n",
       "      <td>904947</td>\n",
       "      <td>G</td>\n",
       "      <td>A</td>\n",
       "      <td>False</td>\n",
       "      <td>0.290840</td>\n",
       "      <td>0.174397</td>\n",
       "      <td>False</td>\n",
       "      <td>-0.000002</td>\n",
       "      <td>-0.000002</td>\n",
       "      <td>...</td>\n",
       "      <td>0.003504</td>\n",
       "      <td>0.010248</td>\n",
       "      <td>0.000073</td>\n",
       "      <td>1_904947_G_A</td>\n",
       "      <td>1:904938:905544</td>\n",
       "      <td>1_904947_G_A</td>\n",
       "      <td>rs28625089</td>\n",
       "      <td>8</td>\n",
       "      <td>0.164112</td>\n",
       "      <td>0.174397</td>\n",
       "    </tr>\n",
       "    <tr>\n",
       "      <th>4</th>\n",
       "      <td>chr1</td>\n",
       "      <td>905373</td>\n",
       "      <td>C</td>\n",
       "      <td>T</td>\n",
       "      <td>True</td>\n",
       "      <td>0.188152</td>\n",
       "      <td>0.130176</td>\n",
       "      <td>False</td>\n",
       "      <td>0.000071</td>\n",
       "      <td>0.000095</td>\n",
       "      <td>...</td>\n",
       "      <td>-0.082359</td>\n",
       "      <td>-0.017655</td>\n",
       "      <td>0.001306</td>\n",
       "      <td>1_905373_T_C</td>\n",
       "      <td>1:904938:905544</td>\n",
       "      <td>1_905373_T_C</td>\n",
       "      <td>rs4970382</td>\n",
       "      <td>434</td>\n",
       "      <td>0.098145</td>\n",
       "      <td>0.130176</td>\n",
       "    </tr>\n",
       "  </tbody>\n",
       "</table>\n",
       "<p>5 rows × 39 columns</p>\n",
       "</div>"
      ],
      "text/plain": [
       "  var.chr  var.pos_hg38 var.allele1 var.allele2  var.isused  obs.pval  \\\n",
       "0    chr1        866281           C           T       False  0.974280   \n",
       "1    chr1        866300           A           C       False  0.974280   \n",
       "2    chr1        870176           T           A       False  0.071532   \n",
       "3    chr1        904947           G           A       False  0.290840   \n",
       "4    chr1        905373           C           T        True  0.188152   \n",
       "\n",
       "   obs.beta  obs.label  pred.enformer.encsr000emt.variantscore.global_sad  \\\n",
       "0  0.006546      False                                           0.000051   \n",
       "1  0.006546      False                                           0.000039   \n",
       "2 -0.250142      False                                          -0.000139   \n",
       "3  0.174397      False                                          -0.000002   \n",
       "4  0.130176      False                                           0.000071   \n",
       "\n",
       "   pred.enformer.encsr000emt.variantscore.global_sar  ...  \\\n",
       "0                                           0.000068  ...   \n",
       "1                                           0.000052  ...   \n",
       "2                                          -0.000184  ...   \n",
       "3                                          -0.000002  ...   \n",
       "4                                           0.000095  ...   \n",
       "\n",
       "   pred.chrombpnet.encsr637xsc_50m.variantscore.logfc  \\\n",
       "0                                          -0.027134    \n",
       "1                                           0.000213    \n",
       "2                                          -0.008571    \n",
       "3                                           0.003504    \n",
       "4                                          -0.082359    \n",
       "\n",
       "   pred.chrombpnet.encsr637xsc_50m.variantscore.jsd  \\\n",
       "0                                         -0.006544   \n",
       "1                                          0.005325   \n",
       "2                                         -0.012379   \n",
       "3                                          0.010248   \n",
       "4                                         -0.017655   \n",
       "\n",
       "   pred.chrombpnet.encsr637xsc_50m.variantscore.ips    var.snp_id  \\\n",
       "0                                          0.000044  1_866281_C_T   \n",
       "1                                          0.000008  1_866300_A_C   \n",
       "2                                          0.000139  1_870176_T_A   \n",
       "3                                          0.000073  1_904947_G_A   \n",
       "4                                          0.001306  1_905373_T_C   \n",
       "\n",
       "        var.region       var.snp  var.dbsnp_rsid  obs.distance    obs.se  \\\n",
       "0  1:866099:866351  1_866281_C_T      rs12132974           181  0.202449   \n",
       "1  1:866099:866351  1_866300_A_C      rs12134490           200  0.202449   \n",
       "2  1:869800:870282  1_870176_T_A      rs72631880           375  0.137133   \n",
       "3  1:904938:905544  1_904947_G_A      rs28625089             8  0.164112   \n",
       "4  1:904938:905544  1_905373_T_C       rs4970382           434  0.098145   \n",
       "\n",
       "   obs.abs_beta  \n",
       "0      0.006546  \n",
       "1      0.006546  \n",
       "2      0.250142  \n",
       "3      0.174397  \n",
       "4      0.130176  \n",
       "\n",
       "[5 rows x 39 columns]"
      ]
     },
     "execution_count": 43,
     "metadata": {},
     "output_type": "execute_result"
    }
   ],
   "source": [
    "afrs.head()"
   ]
  },
  {
   "cell_type": "code",
   "execution_count": 44,
   "metadata": {},
   "outputs": [],
   "source": [
    "import numpy as np"
   ]
  },
  {
   "cell_type": "code",
   "execution_count": 45,
   "metadata": {},
   "outputs": [
    {
     "data": {
      "text/plain": [
       "(219382, 39)"
      ]
     },
     "execution_count": 45,
     "metadata": {},
     "output_type": "execute_result"
    }
   ],
   "source": [
    "afrs.shape"
   ]
  },
  {
   "cell_type": "code",
   "execution_count": 73,
   "metadata": {},
   "outputs": [],
   "source": [
    "afrs = afrs[afrs[\"var.isused\"]]"
   ]
  },
  {
   "cell_type": "code",
   "execution_count": 74,
   "metadata": {},
   "outputs": [
    {
     "data": {
      "text/plain": [
       "(84820, 39)"
      ]
     },
     "execution_count": 74,
     "metadata": {},
     "output_type": "execute_result"
    }
   ],
   "source": [
    "afrs.shape"
   ]
  },
  {
   "cell_type": "code",
   "execution_count": 75,
   "metadata": {},
   "outputs": [
    {
     "data": {
      "text/plain": [
       "84820"
      ]
     },
     "execution_count": 75,
     "metadata": {},
     "output_type": "execute_result"
    }
   ],
   "source": [
    "sum(~np.isnan(afrs[\"pred.enformer.encsr000emt.variantscore.global_sar\"]))"
   ]
  },
  {
   "cell_type": "code",
   "execution_count": 76,
   "metadata": {},
   "outputs": [
    {
     "data": {
      "text/plain": [
       "77999"
      ]
     },
     "execution_count": 76,
     "metadata": {},
     "output_type": "execute_result"
    }
   ],
   "source": [
    "sum((afrs[\"obs.pval\"]>1e-3))"
   ]
  },
  {
   "cell_type": "code",
   "execution_count": 77,
   "metadata": {},
   "outputs": [
    {
     "data": {
      "text/html": [
       "<div>\n",
       "<style scoped>\n",
       "    .dataframe tbody tr th:only-of-type {\n",
       "        vertical-align: middle;\n",
       "    }\n",
       "\n",
       "    .dataframe tbody tr th {\n",
       "        vertical-align: top;\n",
       "    }\n",
       "\n",
       "    .dataframe thead th {\n",
       "        text-align: right;\n",
       "    }\n",
       "</style>\n",
       "<table border=\"1\" class=\"dataframe\">\n",
       "  <thead>\n",
       "    <tr style=\"text-align: right;\">\n",
       "      <th></th>\n",
       "      <th>var.chr</th>\n",
       "      <th>var.pos_hg38</th>\n",
       "      <th>var.allele1</th>\n",
       "      <th>var.allele2</th>\n",
       "      <th>var.isused</th>\n",
       "      <th>obs.pval</th>\n",
       "      <th>obs.beta</th>\n",
       "      <th>obs.label</th>\n",
       "      <th>pred.enformer.encsr000emt.variantscore.global_sad</th>\n",
       "      <th>pred.enformer.encsr000emt.variantscore.global_sar</th>\n",
       "      <th>...</th>\n",
       "      <th>pred.chrombpnet.encsr637xsc_50m.variantscore.logfc</th>\n",
       "      <th>pred.chrombpnet.encsr637xsc_50m.variantscore.jsd</th>\n",
       "      <th>pred.chrombpnet.encsr637xsc_50m.variantscore.ips</th>\n",
       "      <th>var.snp_id</th>\n",
       "      <th>var.region</th>\n",
       "      <th>var.snp</th>\n",
       "      <th>var.dbsnp_rsid</th>\n",
       "      <th>obs.distance</th>\n",
       "      <th>obs.se</th>\n",
       "      <th>obs.abs_beta</th>\n",
       "    </tr>\n",
       "  </thead>\n",
       "  <tbody>\n",
       "    <tr>\n",
       "      <th>4</th>\n",
       "      <td>chr1</td>\n",
       "      <td>905373</td>\n",
       "      <td>C</td>\n",
       "      <td>T</td>\n",
       "      <td>True</td>\n",
       "      <td>0.188152</td>\n",
       "      <td>0.130176</td>\n",
       "      <td>False</td>\n",
       "      <td>0.000071</td>\n",
       "      <td>0.000095</td>\n",
       "      <td>...</td>\n",
       "      <td>-0.082359</td>\n",
       "      <td>-0.017655</td>\n",
       "      <td>0.001306</td>\n",
       "      <td>1_905373_T_C</td>\n",
       "      <td>1:904938:905544</td>\n",
       "      <td>1_905373_T_C</td>\n",
       "      <td>rs4970382</td>\n",
       "      <td>434</td>\n",
       "      <td>0.098145</td>\n",
       "      <td>0.130176</td>\n",
       "    </tr>\n",
       "    <tr>\n",
       "      <th>13</th>\n",
       "      <td>chr1</td>\n",
       "      <td>959193</td>\n",
       "      <td>G</td>\n",
       "      <td>A</td>\n",
       "      <td>True</td>\n",
       "      <td>0.570435</td>\n",
       "      <td>-0.048551</td>\n",
       "      <td>False</td>\n",
       "      <td>-0.000086</td>\n",
       "      <td>-0.000107</td>\n",
       "      <td>...</td>\n",
       "      <td>-0.017350</td>\n",
       "      <td>-0.012202</td>\n",
       "      <td>0.000191</td>\n",
       "      <td>1_959193_G_A</td>\n",
       "      <td>1:958757:959472</td>\n",
       "      <td>1_959193_G_A</td>\n",
       "      <td>rs13303010</td>\n",
       "      <td>435</td>\n",
       "      <td>0.085245</td>\n",
       "      <td>0.048551</td>\n",
       "    </tr>\n",
       "  </tbody>\n",
       "</table>\n",
       "<p>2 rows × 39 columns</p>\n",
       "</div>"
      ],
      "text/plain": [
       "   var.chr  var.pos_hg38 var.allele1 var.allele2  var.isused  obs.pval  \\\n",
       "4     chr1        905373           C           T        True  0.188152   \n",
       "13    chr1        959193           G           A        True  0.570435   \n",
       "\n",
       "    obs.beta  obs.label  pred.enformer.encsr000emt.variantscore.global_sad  \\\n",
       "4   0.130176      False                                           0.000071   \n",
       "13 -0.048551      False                                          -0.000086   \n",
       "\n",
       "    pred.enformer.encsr000emt.variantscore.global_sar  ...  \\\n",
       "4                                            0.000095  ...   \n",
       "13                                          -0.000107  ...   \n",
       "\n",
       "    pred.chrombpnet.encsr637xsc_50m.variantscore.logfc  \\\n",
       "4                                           -0.082359    \n",
       "13                                          -0.017350    \n",
       "\n",
       "    pred.chrombpnet.encsr637xsc_50m.variantscore.jsd  \\\n",
       "4                                          -0.017655   \n",
       "13                                         -0.012202   \n",
       "\n",
       "    pred.chrombpnet.encsr637xsc_50m.variantscore.ips    var.snp_id  \\\n",
       "4                                           0.001306  1_905373_T_C   \n",
       "13                                          0.000191  1_959193_G_A   \n",
       "\n",
       "         var.region       var.snp  var.dbsnp_rsid  obs.distance    obs.se  \\\n",
       "4   1:904938:905544  1_905373_T_C       rs4970382           434  0.098145   \n",
       "13  1:958757:959472  1_959193_G_A      rs13303010           435  0.085245   \n",
       "\n",
       "    obs.abs_beta  \n",
       "4       0.130176  \n",
       "13      0.048551  \n",
       "\n",
       "[2 rows x 39 columns]"
      ]
     },
     "execution_count": 77,
     "metadata": {},
     "output_type": "execute_result"
    }
   ],
   "source": [
    "afrs.head(2)"
   ]
  },
  {
   "cell_type": "code",
   "execution_count": 78,
   "metadata": {},
   "outputs": [
    {
     "data": {
      "text/plain": [
       "<bound method NDFrame.head of     var.chr  var.pos_hg19  var.isused var.POSTallele var.ALTallele  \\\n",
       "0     chr17      18967176        True              A             G   \n",
       "5     chr16      87705494        True              C             G   \n",
       "6     chr12      16789835        True              C             T   \n",
       "7      chr6       4154143        True              A             G   \n",
       "8     chr15      70174409        True              C             T   \n",
       "..      ...           ...         ...            ...           ...   \n",
       "626    chr2     208031315        True              G             T   \n",
       "627   chr11      63219187        True              A             G   \n",
       "628   chr14      71110034        True              A             G   \n",
       "629    chr1     211851059        True              G             A   \n",
       "631   chr10      17627252        True              C             T   \n",
       "\n",
       "     obs.chiplogratio  obs.POSTfreq  obs:prechipfreq       obs.pval  \\\n",
       "0            1.911452      0.223048         0.866699  2.331853e-251   \n",
       "5            3.284601      0.086957         0.934802  1.195059e-111   \n",
       "6           -1.226859      0.844720         0.355177  4.004184e-109   \n",
       "7            3.223017      0.055402         0.600680  1.485270e-108   \n",
       "8            2.351205      0.143939         0.775476   0.000000e+00   \n",
       "..                ...           ...              ...            ...   \n",
       "626         -0.730529      0.610738         0.364108   8.711349e-10   \n",
       "627          1.951695      0.162162         0.655973   8.832582e-10   \n",
       "628          0.503515      0.666667         0.949286   9.067581e-10   \n",
       "629          0.321646      0.609677         0.764445   9.409268e-10   \n",
       "631          0.330447      0.503968         0.636265   9.723440e-10   \n",
       "\n",
       "     obs.depth  ...  pred.chrombpnet.encsr637xsc_50m.variantscore.jsd  \\\n",
       "0          538  ...                                          0.048839   \n",
       "5          115  ...                                          0.213078   \n",
       "6          483  ...                                         -0.061210   \n",
       "7          361  ...                                          0.040918   \n",
       "8          264  ...                                          0.164033   \n",
       "..         ...  ...                                               ...   \n",
       "626        149  ...                                          0.007340   \n",
       "627         37  ...                                          0.026593   \n",
       "628         48  ...                                          0.011873   \n",
       "629        310  ...                                         -0.011417   \n",
       "631        504  ...                                          0.017996   \n",
       "\n",
       "     pred.chrombpnet.encsr637xsc_50m.variantscore.ips  \\\n",
       "0                                            0.012185   \n",
       "5                                            0.359170   \n",
       "6                                            0.031082   \n",
       "7                                            0.015969   \n",
       "8                                            0.157783   \n",
       "..                                                ...   \n",
       "626                                          0.000084   \n",
       "627                                          0.000021   \n",
       "628                                          0.000035   \n",
       "629                                          0.000183   \n",
       "631                                          0.001046   \n",
       "\n",
       "     pred.chrombpnet.encsr637xsc_50m.variantscore.ips.pval  \\\n",
       "0                                             0.333333       \n",
       "5                                             0.333333       \n",
       "6                                             0.333333       \n",
       "7                                             0.333333       \n",
       "8                                             0.333333       \n",
       "..                                                 ...       \n",
       "626                                           0.333333       \n",
       "627                                           0.333333       \n",
       "628                                           0.333333       \n",
       "629                                           0.333333       \n",
       "631                                           0.333333       \n",
       "\n",
       "     pred.chrombpnet.encsr000emt.variantscore.logfc  \\\n",
       "0                                          0.387608   \n",
       "5                                          1.405081   \n",
       "6                                         -0.856910   \n",
       "7                                          0.653196   \n",
       "8                                          1.413626   \n",
       "..                                              ...   \n",
       "626                                        0.021551   \n",
       "627                                        0.112702   \n",
       "628                                       -0.010959   \n",
       "629                                       -0.034112   \n",
       "631                                        0.059919   \n",
       "\n",
       "     pred.chrombpnet.encsr000emt.variantscore.jsd  \\\n",
       "0                                        0.040921   \n",
       "5                                        0.167014   \n",
       "6                                       -0.055281   \n",
       "7                                        0.062432   \n",
       "8                                        0.133740   \n",
       "..                                            ...   \n",
       "626                                      0.009936   \n",
       "627                                      0.023871   \n",
       "628                                     -0.006343   \n",
       "629                                     -0.014780   \n",
       "631                                      0.015774   \n",
       "\n",
       "     pred.chrombpnet.encsr000emt.variantscore.ips  \\\n",
       "0                                        0.015074   \n",
       "5                                        0.136599   \n",
       "6                                        0.031930   \n",
       "7                                        0.035943   \n",
       "8                                        0.169252   \n",
       "..                                            ...   \n",
       "626                                      0.000205   \n",
       "627                                      0.000031   \n",
       "628                                      0.000016   \n",
       "629                                      0.000340   \n",
       "631                                      0.000521   \n",
       "\n",
       "     pred.chrombpnet.encsr000emt.variantscore.ips.pval  \\\n",
       "0                                             0.333333   \n",
       "5                                             0.333333   \n",
       "6                                             0.333333   \n",
       "7                                             0.333333   \n",
       "8                                             0.333333   \n",
       "..                                                 ...   \n",
       "626                                           0.382899   \n",
       "627                                           0.580367   \n",
       "628                                           0.666667   \n",
       "629                                           0.333333   \n",
       "631                                           0.333333   \n",
       "\n",
       "     pred.enformer.encsr000emt.variantscore.global_sad  \\\n",
       "0                                            -0.000056   \n",
       "5                                             0.004025   \n",
       "6                                            -0.019150   \n",
       "7                                             0.010765   \n",
       "8                                             0.011560   \n",
       "..                                                 ...   \n",
       "626                                          -0.000855   \n",
       "627                                           0.000002   \n",
       "628                                           0.000253   \n",
       "629                                          -0.000164   \n",
       "631                                           0.000242   \n",
       "\n",
       "     pred.enformer.encsr000emt.variantscore.global_sar     var.rsid  \n",
       "0                                            -0.000062   rs78457033  \n",
       "5                                             0.005314  rs112728011  \n",
       "6                                            -0.025900    rs7961326  \n",
       "7                                             0.014310   rs13206876  \n",
       "8                                             0.015670     rs304951  \n",
       "..                                                 ...          ...  \n",
       "626                                          -0.001144    rs7568369  \n",
       "627                                           0.000003    rs2212017  \n",
       "628                                           0.000337   rs73286096  \n",
       "629                                          -0.000211     rs785317  \n",
       "631                                           0.000329    rs2154256  \n",
       "\n",
       "[447 rows x 28 columns]>"
      ]
     },
     "execution_count": 78,
     "metadata": {},
     "output_type": "execute_result"
    }
   ],
   "source": [
    "dataf.head"
   ]
  },
  {
   "cell_type": "code",
   "execution_count": null,
   "metadata": {},
   "outputs": [],
   "source": []
  },
  {
   "cell_type": "code",
   "execution_count": 79,
   "metadata": {},
   "outputs": [
    {
     "data": {
      "text/plain": [
       "(84820, 39)"
      ]
     },
     "execution_count": 79,
     "metadata": {},
     "output_type": "execute_result"
    }
   ],
   "source": [
    "afrs.shape"
   ]
  },
  {
   "cell_type": "code",
   "execution_count": null,
   "metadata": {},
   "outputs": [],
   "source": []
  },
  {
   "cell_type": "code",
   "execution_count": null,
   "metadata": {},
   "outputs": [],
   "source": []
  },
  {
   "cell_type": "code",
   "execution_count": null,
   "metadata": {},
   "outputs": [],
   "source": []
  },
  {
   "cell_type": "code",
   "execution_count": null,
   "metadata": {},
   "outputs": [],
   "source": []
  },
  {
   "cell_type": "code",
   "execution_count": null,
   "metadata": {},
   "outputs": [],
   "source": []
  },
  {
   "cell_type": "code",
   "execution_count": null,
   "metadata": {},
   "outputs": [],
   "source": []
  },
  {
   "cell_type": "code",
   "execution_count": null,
   "metadata": {},
   "outputs": [],
   "source": []
  },
  {
   "cell_type": "code",
   "execution_count": 80,
   "metadata": {},
   "outputs": [],
   "source": [
    "bqtls=dataf"
   ]
  },
  {
   "cell_type": "code",
   "execution_count": 81,
   "metadata": {},
   "outputs": [
    {
     "data": {
      "text/plain": [
       "(447, 28)"
      ]
     },
     "execution_count": 81,
     "metadata": {},
     "output_type": "execute_result"
    }
   ],
   "source": [
    "bqtls[bqtls[\"obs.pval\"]<1e-4].shape"
   ]
  },
  {
   "cell_type": "code",
   "execution_count": 82,
   "metadata": {},
   "outputs": [
    {
     "data": {
      "text/html": [
       "<div>\n",
       "<style scoped>\n",
       "    .dataframe tbody tr th:only-of-type {\n",
       "        vertical-align: middle;\n",
       "    }\n",
       "\n",
       "    .dataframe tbody tr th {\n",
       "        vertical-align: top;\n",
       "    }\n",
       "\n",
       "    .dataframe thead th {\n",
       "        text-align: right;\n",
       "    }\n",
       "</style>\n",
       "<table border=\"1\" class=\"dataframe\">\n",
       "  <thead>\n",
       "    <tr style=\"text-align: right;\">\n",
       "      <th></th>\n",
       "      <th>var.chr</th>\n",
       "      <th>var.pos_hg19</th>\n",
       "      <th>var.isused</th>\n",
       "      <th>var.POSTallele</th>\n",
       "      <th>var.ALTallele</th>\n",
       "      <th>obs.chiplogratio</th>\n",
       "      <th>obs.POSTfreq</th>\n",
       "      <th>obs:prechipfreq</th>\n",
       "      <th>obs.pval</th>\n",
       "      <th>obs.depth</th>\n",
       "      <th>...</th>\n",
       "      <th>pred.chrombpnet.encsr637xsc_50m.variantscore.jsd</th>\n",
       "      <th>pred.chrombpnet.encsr637xsc_50m.variantscore.ips</th>\n",
       "      <th>pred.chrombpnet.encsr637xsc_50m.variantscore.ips.pval</th>\n",
       "      <th>pred.chrombpnet.encsr000emt.variantscore.logfc</th>\n",
       "      <th>pred.chrombpnet.encsr000emt.variantscore.jsd</th>\n",
       "      <th>pred.chrombpnet.encsr000emt.variantscore.ips</th>\n",
       "      <th>pred.chrombpnet.encsr000emt.variantscore.ips.pval</th>\n",
       "      <th>pred.enformer.encsr000emt.variantscore.global_sad</th>\n",
       "      <th>pred.enformer.encsr000emt.variantscore.global_sar</th>\n",
       "      <th>var.rsid</th>\n",
       "    </tr>\n",
       "  </thead>\n",
       "  <tbody>\n",
       "    <tr>\n",
       "      <th>0</th>\n",
       "      <td>chr17</td>\n",
       "      <td>18967176</td>\n",
       "      <td>True</td>\n",
       "      <td>A</td>\n",
       "      <td>G</td>\n",
       "      <td>1.911452</td>\n",
       "      <td>0.223048</td>\n",
       "      <td>0.866699</td>\n",
       "      <td>2.331853e-251</td>\n",
       "      <td>538</td>\n",
       "      <td>...</td>\n",
       "      <td>0.048839</td>\n",
       "      <td>0.012185</td>\n",
       "      <td>0.333333</td>\n",
       "      <td>0.387608</td>\n",
       "      <td>0.040921</td>\n",
       "      <td>0.015074</td>\n",
       "      <td>0.333333</td>\n",
       "      <td>-0.000056</td>\n",
       "      <td>-0.000062</td>\n",
       "      <td>rs78457033</td>\n",
       "    </tr>\n",
       "    <tr>\n",
       "      <th>5</th>\n",
       "      <td>chr16</td>\n",
       "      <td>87705494</td>\n",
       "      <td>True</td>\n",
       "      <td>C</td>\n",
       "      <td>G</td>\n",
       "      <td>3.284601</td>\n",
       "      <td>0.086957</td>\n",
       "      <td>0.934802</td>\n",
       "      <td>1.195059e-111</td>\n",
       "      <td>115</td>\n",
       "      <td>...</td>\n",
       "      <td>0.213078</td>\n",
       "      <td>0.359170</td>\n",
       "      <td>0.333333</td>\n",
       "      <td>1.405081</td>\n",
       "      <td>0.167014</td>\n",
       "      <td>0.136599</td>\n",
       "      <td>0.333333</td>\n",
       "      <td>0.004025</td>\n",
       "      <td>0.005314</td>\n",
       "      <td>rs112728011</td>\n",
       "    </tr>\n",
       "    <tr>\n",
       "      <th>6</th>\n",
       "      <td>chr12</td>\n",
       "      <td>16789835</td>\n",
       "      <td>True</td>\n",
       "      <td>C</td>\n",
       "      <td>T</td>\n",
       "      <td>-1.226859</td>\n",
       "      <td>0.844720</td>\n",
       "      <td>0.355177</td>\n",
       "      <td>4.004184e-109</td>\n",
       "      <td>483</td>\n",
       "      <td>...</td>\n",
       "      <td>-0.061210</td>\n",
       "      <td>0.031082</td>\n",
       "      <td>0.333333</td>\n",
       "      <td>-0.856910</td>\n",
       "      <td>-0.055281</td>\n",
       "      <td>0.031930</td>\n",
       "      <td>0.333333</td>\n",
       "      <td>-0.019150</td>\n",
       "      <td>-0.025900</td>\n",
       "      <td>rs7961326</td>\n",
       "    </tr>\n",
       "    <tr>\n",
       "      <th>7</th>\n",
       "      <td>chr6</td>\n",
       "      <td>4154143</td>\n",
       "      <td>True</td>\n",
       "      <td>A</td>\n",
       "      <td>G</td>\n",
       "      <td>3.223017</td>\n",
       "      <td>0.055402</td>\n",
       "      <td>0.600680</td>\n",
       "      <td>1.485270e-108</td>\n",
       "      <td>361</td>\n",
       "      <td>...</td>\n",
       "      <td>0.040918</td>\n",
       "      <td>0.015969</td>\n",
       "      <td>0.333333</td>\n",
       "      <td>0.653196</td>\n",
       "      <td>0.062432</td>\n",
       "      <td>0.035943</td>\n",
       "      <td>0.333333</td>\n",
       "      <td>0.010765</td>\n",
       "      <td>0.014310</td>\n",
       "      <td>rs13206876</td>\n",
       "    </tr>\n",
       "    <tr>\n",
       "      <th>8</th>\n",
       "      <td>chr15</td>\n",
       "      <td>70174409</td>\n",
       "      <td>True</td>\n",
       "      <td>C</td>\n",
       "      <td>T</td>\n",
       "      <td>2.351205</td>\n",
       "      <td>0.143939</td>\n",
       "      <td>0.775476</td>\n",
       "      <td>0.000000e+00</td>\n",
       "      <td>264</td>\n",
       "      <td>...</td>\n",
       "      <td>0.164033</td>\n",
       "      <td>0.157783</td>\n",
       "      <td>0.333333</td>\n",
       "      <td>1.413626</td>\n",
       "      <td>0.133740</td>\n",
       "      <td>0.169252</td>\n",
       "      <td>0.333333</td>\n",
       "      <td>0.011560</td>\n",
       "      <td>0.015670</td>\n",
       "      <td>rs304951</td>\n",
       "    </tr>\n",
       "    <tr>\n",
       "      <th>...</th>\n",
       "      <td>...</td>\n",
       "      <td>...</td>\n",
       "      <td>...</td>\n",
       "      <td>...</td>\n",
       "      <td>...</td>\n",
       "      <td>...</td>\n",
       "      <td>...</td>\n",
       "      <td>...</td>\n",
       "      <td>...</td>\n",
       "      <td>...</td>\n",
       "      <td>...</td>\n",
       "      <td>...</td>\n",
       "      <td>...</td>\n",
       "      <td>...</td>\n",
       "      <td>...</td>\n",
       "      <td>...</td>\n",
       "      <td>...</td>\n",
       "      <td>...</td>\n",
       "      <td>...</td>\n",
       "      <td>...</td>\n",
       "      <td>...</td>\n",
       "    </tr>\n",
       "    <tr>\n",
       "      <th>626</th>\n",
       "      <td>chr2</td>\n",
       "      <td>208031315</td>\n",
       "      <td>True</td>\n",
       "      <td>G</td>\n",
       "      <td>T</td>\n",
       "      <td>-0.730529</td>\n",
       "      <td>0.610738</td>\n",
       "      <td>0.364108</td>\n",
       "      <td>8.711349e-10</td>\n",
       "      <td>149</td>\n",
       "      <td>...</td>\n",
       "      <td>0.007340</td>\n",
       "      <td>0.000084</td>\n",
       "      <td>0.333333</td>\n",
       "      <td>0.021551</td>\n",
       "      <td>0.009936</td>\n",
       "      <td>0.000205</td>\n",
       "      <td>0.382899</td>\n",
       "      <td>-0.000855</td>\n",
       "      <td>-0.001144</td>\n",
       "      <td>rs7568369</td>\n",
       "    </tr>\n",
       "    <tr>\n",
       "      <th>627</th>\n",
       "      <td>chr11</td>\n",
       "      <td>63219187</td>\n",
       "      <td>True</td>\n",
       "      <td>A</td>\n",
       "      <td>G</td>\n",
       "      <td>1.951695</td>\n",
       "      <td>0.162162</td>\n",
       "      <td>0.655973</td>\n",
       "      <td>8.832582e-10</td>\n",
       "      <td>37</td>\n",
       "      <td>...</td>\n",
       "      <td>0.026593</td>\n",
       "      <td>0.000021</td>\n",
       "      <td>0.333333</td>\n",
       "      <td>0.112702</td>\n",
       "      <td>0.023871</td>\n",
       "      <td>0.000031</td>\n",
       "      <td>0.580367</td>\n",
       "      <td>0.000002</td>\n",
       "      <td>0.000003</td>\n",
       "      <td>rs2212017</td>\n",
       "    </tr>\n",
       "    <tr>\n",
       "      <th>628</th>\n",
       "      <td>chr14</td>\n",
       "      <td>71110034</td>\n",
       "      <td>True</td>\n",
       "      <td>A</td>\n",
       "      <td>G</td>\n",
       "      <td>0.503515</td>\n",
       "      <td>0.666667</td>\n",
       "      <td>0.949286</td>\n",
       "      <td>9.067581e-10</td>\n",
       "      <td>48</td>\n",
       "      <td>...</td>\n",
       "      <td>0.011873</td>\n",
       "      <td>0.000035</td>\n",
       "      <td>0.333333</td>\n",
       "      <td>-0.010959</td>\n",
       "      <td>-0.006343</td>\n",
       "      <td>0.000016</td>\n",
       "      <td>0.666667</td>\n",
       "      <td>0.000253</td>\n",
       "      <td>0.000337</td>\n",
       "      <td>rs73286096</td>\n",
       "    </tr>\n",
       "    <tr>\n",
       "      <th>629</th>\n",
       "      <td>chr1</td>\n",
       "      <td>211851059</td>\n",
       "      <td>True</td>\n",
       "      <td>G</td>\n",
       "      <td>A</td>\n",
       "      <td>0.321646</td>\n",
       "      <td>0.609677</td>\n",
       "      <td>0.764445</td>\n",
       "      <td>9.409268e-10</td>\n",
       "      <td>310</td>\n",
       "      <td>...</td>\n",
       "      <td>-0.011417</td>\n",
       "      <td>0.000183</td>\n",
       "      <td>0.333333</td>\n",
       "      <td>-0.034112</td>\n",
       "      <td>-0.014780</td>\n",
       "      <td>0.000340</td>\n",
       "      <td>0.333333</td>\n",
       "      <td>-0.000164</td>\n",
       "      <td>-0.000211</td>\n",
       "      <td>rs785317</td>\n",
       "    </tr>\n",
       "    <tr>\n",
       "      <th>631</th>\n",
       "      <td>chr10</td>\n",
       "      <td>17627252</td>\n",
       "      <td>True</td>\n",
       "      <td>C</td>\n",
       "      <td>T</td>\n",
       "      <td>0.330447</td>\n",
       "      <td>0.503968</td>\n",
       "      <td>0.636265</td>\n",
       "      <td>9.723440e-10</td>\n",
       "      <td>504</td>\n",
       "      <td>...</td>\n",
       "      <td>0.017996</td>\n",
       "      <td>0.001046</td>\n",
       "      <td>0.333333</td>\n",
       "      <td>0.059919</td>\n",
       "      <td>0.015774</td>\n",
       "      <td>0.000521</td>\n",
       "      <td>0.333333</td>\n",
       "      <td>0.000242</td>\n",
       "      <td>0.000329</td>\n",
       "      <td>rs2154256</td>\n",
       "    </tr>\n",
       "  </tbody>\n",
       "</table>\n",
       "<p>447 rows × 28 columns</p>\n",
       "</div>"
      ],
      "text/plain": [
       "    var.chr  var.pos_hg19  var.isused var.POSTallele var.ALTallele  \\\n",
       "0     chr17      18967176        True              A             G   \n",
       "5     chr16      87705494        True              C             G   \n",
       "6     chr12      16789835        True              C             T   \n",
       "7      chr6       4154143        True              A             G   \n",
       "8     chr15      70174409        True              C             T   \n",
       "..      ...           ...         ...            ...           ...   \n",
       "626    chr2     208031315        True              G             T   \n",
       "627   chr11      63219187        True              A             G   \n",
       "628   chr14      71110034        True              A             G   \n",
       "629    chr1     211851059        True              G             A   \n",
       "631   chr10      17627252        True              C             T   \n",
       "\n",
       "     obs.chiplogratio  obs.POSTfreq  obs:prechipfreq       obs.pval  \\\n",
       "0            1.911452      0.223048         0.866699  2.331853e-251   \n",
       "5            3.284601      0.086957         0.934802  1.195059e-111   \n",
       "6           -1.226859      0.844720         0.355177  4.004184e-109   \n",
       "7            3.223017      0.055402         0.600680  1.485270e-108   \n",
       "8            2.351205      0.143939         0.775476   0.000000e+00   \n",
       "..                ...           ...              ...            ...   \n",
       "626         -0.730529      0.610738         0.364108   8.711349e-10   \n",
       "627          1.951695      0.162162         0.655973   8.832582e-10   \n",
       "628          0.503515      0.666667         0.949286   9.067581e-10   \n",
       "629          0.321646      0.609677         0.764445   9.409268e-10   \n",
       "631          0.330447      0.503968         0.636265   9.723440e-10   \n",
       "\n",
       "     obs.depth  ...  pred.chrombpnet.encsr637xsc_50m.variantscore.jsd  \\\n",
       "0          538  ...                                          0.048839   \n",
       "5          115  ...                                          0.213078   \n",
       "6          483  ...                                         -0.061210   \n",
       "7          361  ...                                          0.040918   \n",
       "8          264  ...                                          0.164033   \n",
       "..         ...  ...                                               ...   \n",
       "626        149  ...                                          0.007340   \n",
       "627         37  ...                                          0.026593   \n",
       "628         48  ...                                          0.011873   \n",
       "629        310  ...                                         -0.011417   \n",
       "631        504  ...                                          0.017996   \n",
       "\n",
       "     pred.chrombpnet.encsr637xsc_50m.variantscore.ips  \\\n",
       "0                                            0.012185   \n",
       "5                                            0.359170   \n",
       "6                                            0.031082   \n",
       "7                                            0.015969   \n",
       "8                                            0.157783   \n",
       "..                                                ...   \n",
       "626                                          0.000084   \n",
       "627                                          0.000021   \n",
       "628                                          0.000035   \n",
       "629                                          0.000183   \n",
       "631                                          0.001046   \n",
       "\n",
       "     pred.chrombpnet.encsr637xsc_50m.variantscore.ips.pval  \\\n",
       "0                                             0.333333       \n",
       "5                                             0.333333       \n",
       "6                                             0.333333       \n",
       "7                                             0.333333       \n",
       "8                                             0.333333       \n",
       "..                                                 ...       \n",
       "626                                           0.333333       \n",
       "627                                           0.333333       \n",
       "628                                           0.333333       \n",
       "629                                           0.333333       \n",
       "631                                           0.333333       \n",
       "\n",
       "     pred.chrombpnet.encsr000emt.variantscore.logfc  \\\n",
       "0                                          0.387608   \n",
       "5                                          1.405081   \n",
       "6                                         -0.856910   \n",
       "7                                          0.653196   \n",
       "8                                          1.413626   \n",
       "..                                              ...   \n",
       "626                                        0.021551   \n",
       "627                                        0.112702   \n",
       "628                                       -0.010959   \n",
       "629                                       -0.034112   \n",
       "631                                        0.059919   \n",
       "\n",
       "     pred.chrombpnet.encsr000emt.variantscore.jsd  \\\n",
       "0                                        0.040921   \n",
       "5                                        0.167014   \n",
       "6                                       -0.055281   \n",
       "7                                        0.062432   \n",
       "8                                        0.133740   \n",
       "..                                            ...   \n",
       "626                                      0.009936   \n",
       "627                                      0.023871   \n",
       "628                                     -0.006343   \n",
       "629                                     -0.014780   \n",
       "631                                      0.015774   \n",
       "\n",
       "     pred.chrombpnet.encsr000emt.variantscore.ips  \\\n",
       "0                                        0.015074   \n",
       "5                                        0.136599   \n",
       "6                                        0.031930   \n",
       "7                                        0.035943   \n",
       "8                                        0.169252   \n",
       "..                                            ...   \n",
       "626                                      0.000205   \n",
       "627                                      0.000031   \n",
       "628                                      0.000016   \n",
       "629                                      0.000340   \n",
       "631                                      0.000521   \n",
       "\n",
       "     pred.chrombpnet.encsr000emt.variantscore.ips.pval  \\\n",
       "0                                             0.333333   \n",
       "5                                             0.333333   \n",
       "6                                             0.333333   \n",
       "7                                             0.333333   \n",
       "8                                             0.333333   \n",
       "..                                                 ...   \n",
       "626                                           0.382899   \n",
       "627                                           0.580367   \n",
       "628                                           0.666667   \n",
       "629                                           0.333333   \n",
       "631                                           0.333333   \n",
       "\n",
       "     pred.enformer.encsr000emt.variantscore.global_sad  \\\n",
       "0                                            -0.000056   \n",
       "5                                             0.004025   \n",
       "6                                            -0.019150   \n",
       "7                                             0.010765   \n",
       "8                                             0.011560   \n",
       "..                                                 ...   \n",
       "626                                          -0.000855   \n",
       "627                                           0.000002   \n",
       "628                                           0.000253   \n",
       "629                                          -0.000164   \n",
       "631                                           0.000242   \n",
       "\n",
       "     pred.enformer.encsr000emt.variantscore.global_sar     var.rsid  \n",
       "0                                            -0.000062   rs78457033  \n",
       "5                                             0.005314  rs112728011  \n",
       "6                                            -0.025900    rs7961326  \n",
       "7                                             0.014310   rs13206876  \n",
       "8                                             0.015670     rs304951  \n",
       "..                                                 ...          ...  \n",
       "626                                          -0.001144    rs7568369  \n",
       "627                                           0.000003    rs2212017  \n",
       "628                                           0.000337   rs73286096  \n",
       "629                                          -0.000211     rs785317  \n",
       "631                                           0.000329    rs2154256  \n",
       "\n",
       "[447 rows x 28 columns]"
      ]
     },
     "execution_count": 82,
     "metadata": {},
     "output_type": "execute_result"
    }
   ],
   "source": [
    "bqtls[bqtls[\"obs.pval\"]<1e-4]"
   ]
  },
  {
   "cell_type": "code",
   "execution_count": null,
   "metadata": {},
   "outputs": [],
   "source": []
  },
  {
   "cell_type": "markdown",
   "metadata": {},
   "source": [
    "# AUPRC (benchmarking)"
   ]
  },
  {
   "cell_type": "code",
   "execution_count": 83,
   "metadata": {
    "scrolled": false
   },
   "outputs": [
    {
     "name": "stdout",
     "output_type": "stream",
     "text": [
      "0.0001\n",
      "447\n",
      "58059\n",
      "0.008\n",
      "125.0\n",
      "1e-05\n",
      "447\n",
      "58059\n",
      "0.008\n",
      "125.0\n"
     ]
    },
    {
     "name": "stderr",
     "output_type": "stream",
     "text": [
      "/users/anusri/anaconda3/lib/python3.7/site-packages/ipykernel_launcher.py:42: SettingWithCopyWarning: \n",
      "A value is trying to be set on a copy of a slice from a DataFrame.\n",
      "Try using .loc[row_indexer,col_indexer] = value instead\n",
      "\n",
      "See the caveats in the documentation: https://pandas.pydata.org/pandas-docs/stable/user_guide/indexing.html#returning-a-view-versus-a-copy\n",
      "/users/anusri/anaconda3/lib/python3.7/site-packages/ipykernel_launcher.py:43: SettingWithCopyWarning: \n",
      "A value is trying to be set on a copy of a slice from a DataFrame.\n",
      "Try using .loc[row_indexer,col_indexer] = value instead\n",
      "\n",
      "See the caveats in the documentation: https://pandas.pydata.org/pandas-docs/stable/user_guide/indexing.html#returning-a-view-versus-a-copy\n",
      "/users/anusri/anaconda3/lib/python3.7/site-packages/ipykernel_launcher.py:44: SettingWithCopyWarning: \n",
      "A value is trying to be set on a copy of a slice from a DataFrame.\n",
      "Try using .loc[row_indexer,col_indexer] = value instead\n",
      "\n",
      "See the caveats in the documentation: https://pandas.pydata.org/pandas-docs/stable/user_guide/indexing.html#returning-a-view-versus-a-copy\n",
      "/users/anusri/anaconda3/lib/python3.7/site-packages/ipykernel_launcher.py:45: SettingWithCopyWarning: \n",
      "A value is trying to be set on a copy of a slice from a DataFrame.\n",
      "Try using .loc[row_indexer,col_indexer] = value instead\n",
      "\n",
      "See the caveats in the documentation: https://pandas.pydata.org/pandas-docs/stable/user_guide/indexing.html#returning-a-view-versus-a-copy\n",
      "/users/anusri/anaconda3/lib/python3.7/site-packages/ipykernel_launcher.py:46: SettingWithCopyWarning: \n",
      "A value is trying to be set on a copy of a slice from a DataFrame.\n",
      "Try using .loc[row_indexer,col_indexer] = value instead\n",
      "\n",
      "See the caveats in the documentation: https://pandas.pydata.org/pandas-docs/stable/user_guide/indexing.html#returning-a-view-versus-a-copy\n",
      "/users/anusri/anaconda3/lib/python3.7/site-packages/ipykernel_launcher.py:47: SettingWithCopyWarning: \n",
      "A value is trying to be set on a copy of a slice from a DataFrame.\n",
      "Try using .loc[row_indexer,col_indexer] = value instead\n",
      "\n",
      "See the caveats in the documentation: https://pandas.pydata.org/pandas-docs/stable/user_guide/indexing.html#returning-a-view-versus-a-copy\n"
     ]
    },
    {
     "name": "stdout",
     "output_type": "stream",
     "text": [
      "1e-06\n",
      "447\n",
      "58059\n",
      "0.008\n",
      "125.0\n",
      "1e-07\n",
      "447\n",
      "58059\n",
      "0.008\n",
      "125.0\n",
      "1e-08\n",
      "447\n",
      "58059\n",
      "0.008\n",
      "125.0\n",
      "1e-09\n",
      "447\n",
      "58059\n",
      "0.008\n",
      "125.0\n"
     ]
    }
   ],
   "source": [
    "import matplotlib.pyplot as plt\n",
    "import pandas as pd\n",
    "from sklearn.metrics import precision_recall_curve\n",
    "from sklearn.metrics import roc_curve\n",
    "from sklearn.metrics import RocCurveDisplay\n",
    "import pandas as pd\n",
    "import matplotlib.pyplot as plt\n",
    "import numpy as np\n",
    "from sklearn import metrics\n",
    "import matplotlib.pyplot as plt\n",
    "import matplotlib\n",
    "\n",
    "\n",
    "matplotlib.rcParams['pdf.fonttype'] = 42\n",
    "matplotlib.rcParams['ps.fonttype'] = 42 \n",
    "\n",
    "import random\n",
    "import os\n",
    "import argparse\n",
    "from sklearn.metrics import precision_recall_curve\n",
    "\n",
    "random_bc = []\n",
    "chrombpnet = {}\n",
    "enformer_dnase_roc = []\n",
    "enformer_dnase_roc_sar = []\n",
    "\n",
    "chrombpnet[\"ChromBPNet DNase (68M)\"] = []\n",
    "chrombpnet[\"ChromBPNet ATAC (572M)\"] = []\n",
    "chrombpnet[\"ChromBPNet ATAC (50M)\"] = []\n",
    "\n",
    "for threshold in np.arange(4,10,1):\n",
    "    threshold = 1 / (10**(threshold))\n",
    "    print(threshold)\n",
    "    dataf1 = bqtls[bqtls[\"obs.pval\"]<threshold]\n",
    "    dataf1[\"label\"] = 1\n",
    "    dataf1 = dataf1[[\"pred.chrombpnet.encsr000emt.variantscore.ips\",\n",
    "                    \"pred.chrombpnet.encsr637xsc.variantscore.ips\",    \n",
    "                    \"pred.chrombpnet.encsr637xsc_50m.variantscore.ips\",\n",
    "                    \"pred.enformer.encsr000emt.variantscore.global_sar\", \"pred.enformer.encsr000emt.variantscore.local_logfc\", \"label\"]]\n",
    "    \n",
    "    dataf2 = afrs[(afrs[\"obs.label\"]==0) & (afrs[\"obs.pval\"]>1e-1)]\n",
    "    dataf2[\"label\"] = 0\n",
    "    dataf2[\"pred.chrombpnet.encsr637xsc.variantscore.ips\"] = dataf2[\"pred.chrombpnet.encsr637xsc.variantscore.ips\"]\n",
    "    dataf2[\"pred.chrombpnet.encsr637xsc_50m.variantscore.ips\"] = dataf2[\"pred.chrombpnet.encsr637xsc_50m.variantscore.ips\"]\n",
    "    dataf2[\"pred.chrombpnet.encsr000emt.variantscore.ips\"] = dataf2[\"pred.chrombpnet.encsr000emt.variantscore.ips\"]\n",
    "    dataf2[\"pred.enformer.encsr000emt.variantscore.global_sar\"] = dataf2[\"pred.enformer.encsr000emt.variantscore.global_sar\"]\n",
    "    dataf2[\"pred.enformer.encsr000emt.variantscore.local_logfc\"] = dataf2[\"pred.enformer.encsr000emt.variantscore.local_logfc\"]\n",
    "\n",
    "    dataf2 = dataf2[[\"pred.chrombpnet.encsr000emt.variantscore.ips\", \n",
    "                    \"pred.chrombpnet.encsr637xsc.variantscore.ips\",\n",
    "                    \"pred.chrombpnet.encsr637xsc_50m.variantscore.ips\",\n",
    "                    \"pred.enformer.encsr000emt.variantscore.global_sar\",  \"pred.enformer.encsr000emt.variantscore.local_logfc\", \"label\"]]\n",
    "    \n",
    "    dataf = pd.concat([dataf1, dataf2])\n",
    "    \n",
    "    total = dataf.shape[0]\n",
    "    sigs = sum(dataf[\"label\"])\n",
    "    print(sigs)\n",
    "    print(total)\n",
    "    print(np.round(sigs/total,3))\n",
    "    print(1/np.round(sigs/total,3))\n",
    "    random_bc.append(np.round(sigs/total,5))\n",
    "    \n",
    "    roc_auc = metrics.average_precision_score(dataf[\"label\"], abs(dataf[\"pred.chrombpnet.encsr000emt.variantscore.ips\"]))\n",
    "    chrombpnet[\"ChromBPNet DNase (68M)\"].append(roc_auc)\n",
    "\n",
    "    roc_auc = metrics.average_precision_score(dataf[\"label\"], abs(dataf[\"pred.chrombpnet.encsr637xsc.variantscore.ips\"]))\n",
    "    chrombpnet[\"ChromBPNet ATAC (572M)\"].append(roc_auc)\n",
    "\n",
    "    roc_auc = metrics.average_precision_score(dataf[\"label\"], abs(dataf[\"pred.chrombpnet.encsr637xsc_50m.variantscore.ips\"]))\n",
    "    chrombpnet[\"ChromBPNet ATAC (50M)\"].append(roc_auc)\n",
    "    \n",
    "    roc_auc = metrics.average_precision_score(dataf[\"label\"], abs(dataf[\"pred.enformer.encsr000emt.variantscore.global_sar\"]))\n",
    "    enformer_dnase_roc_sar.append(roc_auc)\n",
    "\n",
    "    roc_auc = metrics.average_precision_score(dataf[\"label\"], abs(dataf[\"pred.enformer.encsr000emt.variantscore.local_logfc\"]))\n",
    "    enformer_dnase_roc.append(roc_auc)\n"
   ]
  },
  {
   "cell_type": "code",
   "execution_count": 84,
   "metadata": {},
   "outputs": [
    {
     "data": {
      "image/png": "[encoded data removed]",
      "text/plain": [
       "<Figure size 432x360 with 1 Axes>"
      ]
     },
     "metadata": {
      "needs_background": "light"
     },
     "output_type": "display_data"
    }
   ],
   "source": [
    "\n",
    "\n",
    "fig, ax = plt.subplots(figsize=(6,5))\n",
    "colors = [\"blue\", \"blue\"]\n",
    "alphas = [0.5, 1.0]\n",
    "idx=0\n",
    "for key in [\"ChromBPNet ATAC (572M)\", \"ChromBPNet ATAC (50M)\"]:\n",
    "    ax.scatter(np.arange(4,10,1).astype(str), chrombpnet[key], label=key, c=\"blue\", alpha=alphas[idx])\n",
    "    idx+=1\n",
    "    \n",
    "key=\"ChromBPNet DNase (68M)\"\n",
    "ax.scatter(np.arange(4,10,1).astype(str), chrombpnet[key], label=key)\n",
    "ax.scatter(np.arange(4,10,1).astype(str), enformer_dnase_roc_sar, label=\"Enformer DNase (reported) (68M)\")\n",
    "ax.scatter(np.arange(4,10,1).astype(str), enformer_dnase_roc, label=\"Enformer DNase (recomputed) (68M)\")\n",
    "\n",
    "ax.scatter(np.arange(4,10,1).astype(str), random_bc, label=\"random\")\n",
    "\n",
    "ax.spines[[\"top\", \"right\"]].set_visible(False)\n",
    "ax.set_xlabel(\"-log10 pval\")\n",
    "ax.set_ylabel(\"Average precision\")\n",
    "#plt.legend(loc='upper right')\n",
    "\n",
    "# Shrink current axis by 20%\n",
    "box = ax.get_position()\n",
    "ax.set_position([box.x0, box.y0, box.width * 0.8, box.height])\n",
    "\n",
    "# Put a legend to the right of the current axis\n",
    "ax.legend(loc='center left', bbox_to_anchor=(1, 0.5))\n",
    "\n",
    "\n",
    "plt.savefig(\"subfigs/bqtls_auprc_compare.pdf\", transparent=True, dpi=300)\n"
   ]
  },
  {
   "cell_type": "code",
   "execution_count": 85,
   "metadata": {},
   "outputs": [
    {
     "data": {
      "image/png": "[encoded data removed]",
      "text/plain": [
       "<Figure size 720x432 with 1 Axes>"
      ]
     },
     "metadata": {
      "needs_background": "light"
     },
     "output_type": "display_data"
    }
   ],
   "source": [
    "\n",
    "fig, ax = plt.subplots(figsize=(10,6))\n",
    "\n",
    "######################################\n",
    "\n",
    "keyd=\"pred.chrombpnet.encsr637xsc.variantscore.ips\"\n",
    "\n",
    "label=dataf[\"label\"].astype(int)\n",
    "score=abs(dataf[keyd])\n",
    "\n",
    "title=\"ChromBPnet w/ ATAC (572M)\"\n",
    "\n",
    "fpr_chrombpnet, tpr_chrombpnet, _ = precision_recall_curve(label,score)\n",
    "roc_auc = metrics.average_precision_score(label, score)\n",
    "ax.plot(tpr_chrombpnet,fpr_chrombpnet,  linewidth=2, c='blue', linestyle='dashed', label=title+\", AP=\"+str(round(roc_auc,2)))\n",
    "\n",
    "######################################\n",
    "\n",
    "keyd=\"pred.chrombpnet.encsr637xsc_50m.variantscore.ips\"\n",
    "label=dataf[\"label\"].astype(int)\n",
    "score=abs(dataf[keyd])\n",
    "\n",
    "title=\"ChromBPnet w/ ATAC (50M)\"\n",
    "\n",
    "fpr_chrombpnet, tpr_chrombpnet, _ = precision_recall_curve(label,score)\n",
    "roc_auc = metrics.average_precision_score(label, score)\n",
    "ax.plot(tpr_chrombpnet,fpr_chrombpnet,  linewidth=2, c='blue', label=title+\", AP=\"+str(round(roc_auc,2)))\n",
    "\n",
    "######################################\n",
    "\n",
    "keyd=\"pred.chrombpnet.encsr000emt.variantscore.ips\"\n",
    "label=dataf[\"label\"].astype(int)\n",
    "score=abs(dataf[keyd])\n",
    "\n",
    "title=\"ChromBPnet w/ DNASE (68M)\"\n",
    "\n",
    "fpr_chrombpnet, tpr_chrombpnet, _ = precision_recall_curve(label,score)\n",
    "roc_auc = metrics.average_precision_score(label, score)\n",
    "ax.plot(tpr_chrombpnet,fpr_chrombpnet,  linewidth=2, label=title+\", AP=\"+str(round(roc_auc,2)))\n",
    "\n",
    "######################################\n",
    "\n",
    "keyd=\"pred.enformer.encsr000emt.variantscore.local_logfc\"\n",
    "label=dataf[\"label\"].astype(int)\n",
    "score=abs(dataf[keyd])\n",
    "title=\"Enformer w/ (recomputed) (68M)\"\n",
    "\n",
    "fpr_chrombpnet, tpr_chrombpnet, _ = precision_recall_curve(label,score)\n",
    "roc_auc = metrics.average_precision_score(label, score)\n",
    "ax.plot(tpr_chrombpnet,fpr_chrombpnet,  linewidth=2, label=title+\", AP=\"+str(round(roc_auc,2)))\n",
    "\n",
    "######################################\n",
    "\n",
    "keyd=\"pred.enformer.encsr000emt.variantscore.global_sar\"\n",
    "label=dataf[\"label\"].astype(int)\n",
    "score=abs(dataf[keyd])\n",
    "title=\"Enformer w/ (reported) (68M)\"\n",
    "\n",
    "\n",
    "fpr_chrombpnet, tpr_chrombpnet, _ = precision_recall_curve(label,score)\n",
    "roc_auc = metrics.average_precision_score(label, score)\n",
    "ax.plot(tpr_chrombpnet,fpr_chrombpnet,  linewidth=2, label=title+\", AP=\"+str(round(roc_auc,2)))\n",
    "enformer_auc = roc_auc\n",
    "\n",
    "######################################\n",
    "\n",
    "roc_auc=sum(dataf[\"label\"]==1)/len(dataf[\"label\"])\n",
    "ax.plot(fpr_chrombpnet, [sum(dataf[\"label\"]==1)/len(dataf[\"label\"])]*len(fpr_chrombpnet), linewidth=2, label=\"Random baseline, AP=\"+str(round(roc_auc,3)))\n",
    "\n",
    "\n",
    "ax.spines[[\"top\", \"right\"]].set_visible(False)\n",
    "ax.legend(loc='upper right')\n",
    "ax.set_xlabel(\"Recall\")\n",
    "ax.set_ylabel(\"Precision\")\n",
    "\n",
    "plt.savefig(\"subfigs/bqtls_auprc.pdf\", transparent=True, dpi=300)\n"
   ]
  },
  {
   "cell_type": "markdown",
   "metadata": {},
   "source": [
    "# Pearsonrs (benchmarking)"
   ]
  },
  {
   "cell_type": "code",
   "execution_count": null,
   "metadata": {},
   "outputs": [],
   "source": []
  },
  {
   "cell_type": "code",
   "execution_count": 61,
   "metadata": {},
   "outputs": [
    {
     "data": {
      "text/plain": [
       "Index(['var.chr', 'var.pos_hg19', 'var.isused', 'var.POSTallele',\n",
       "       'var.ALTallele', 'obs.chiplogratio', 'obs.POSTfreq', 'obs:prechipfreq',\n",
       "       'obs.pval', 'obs.depth', 'obs.ALTdepth', 'obs.REFdepth',\n",
       "       'pred.enformer.encsr000emt.variantscore.local_logfc',\n",
       "       'pred.chrombpnet.encsr637xsc.variantscore.logfc',\n",
       "       'pred.chrombpnet.encsr637xsc.variantscore.jsd',\n",
       "       'pred.chrombpnet.encsr637xsc.variantscore.ips',\n",
       "       'pred.chrombpnet.encsr637xsc.variantscore.ips.pval',\n",
       "       'pred.chrombpnet.encsr637xsc_50m.variantscore.logfc',\n",
       "       'pred.chrombpnet.encsr637xsc_50m.variantscore.jsd',\n",
       "       'pred.chrombpnet.encsr637xsc_50m.variantscore.ips',\n",
       "       'pred.chrombpnet.encsr637xsc_50m.variantscore.ips.pval',\n",
       "       'pred.chrombpnet.encsr000emt.variantscore.logfc',\n",
       "       'pred.chrombpnet.encsr000emt.variantscore.jsd',\n",
       "       'pred.chrombpnet.encsr000emt.variantscore.ips',\n",
       "       'pred.chrombpnet.encsr000emt.variantscore.ips.pval',\n",
       "       'pred.enformer.encsr000emt.variantscore.global_sad',\n",
       "       'pred.enformer.encsr000emt.variantscore.global_sar', 'var.rsid'],\n",
       "      dtype='object')"
      ]
     },
     "execution_count": 61,
     "metadata": {},
     "output_type": "execute_result"
    }
   ],
   "source": [
    "bqtls.columns"
   ]
  },
  {
   "cell_type": "code",
   "execution_count": 62,
   "metadata": {},
   "outputs": [
    {
     "name": "stdout",
     "output_type": "stream",
     "text": [
      "(0.5907530863032388, 2.126609788708331e-43)\n",
      "(0.21626379509168475, 3.945271397414035e-06)\n"
     ]
    },
    {
     "data": {
      "image/png": "[encoded data removed]",
      "text/plain": [
       "<Figure size 576x360 with 1 Axes>"
      ]
     },
     "metadata": {
      "needs_background": "light"
     },
     "output_type": "display_data"
    }
   ],
   "source": [
    "import matplotlib.pyplot as plt\n",
    "import seaborn as sns\n",
    "import scipy.stats\n",
    "\n",
    "\n",
    "plt.figure(figsize=(8,5))\n",
    "data = pd.DataFrame()\n",
    "data[\"logfc.mean\"] = bqtls[bqtls[\"obs.pval\"] < 1e-9][\"pred.chrombpnet.encsr637xsc.variantscore.logfc\"]\n",
    "data[\"Beta\"] = bqtls[bqtls[\"obs.pval\"] < 1e-9][\"obs.chiplogratio\"]\n",
    "\n",
    "sns.kdeplot(\n",
    "    data=data,\n",
    "    x=\"Beta\",\n",
    "    y=\"logfc.mean\",\n",
    "    levels=5,\n",
    "    fill=False,\n",
    "    alpha=0.2,\n",
    "    color=\"grey\",\n",
    "    cut=2,\n",
    "\n",
    ")\n",
    "\n",
    "\n",
    "ax = sns.scatterplot(x=\"Beta\", y=\"logfc.mean\", data=data, s=6, color=\"#2B1C97\")\n",
    "sns.regplot(x=\"Beta\", y=\"logfc.mean\", data=data, scatter=False, ci=None, color=\"#2B1C97\")\n",
    "ax.spines[[\"top\", \"right\"]].set_visible(False)\n",
    "\n",
    "atc_pear = scipy.stats.pearsonr(data[\"logfc.mean\"],data[\"Beta\"])\n",
    "print(atc_pear)\n",
    "\n",
    "atc_pear = scipy.stats.pearsonr(abs(data[\"logfc.mean\"]), abs(data[\"Beta\"]))\n",
    "print(atc_pear)\n",
    "ax.set_title(\"Pearsonr = \"+str(np.round(atc_pear[0],2)))\n",
    "\n",
    "plt.savefig(\"subfigs/bqtls_scatter_plot.pdf\", transparent=True, dpi=300)\n"
   ]
  },
  {
   "cell_type": "code",
   "execution_count": 63,
   "metadata": {},
   "outputs": [
    {
     "name": "stdout",
     "output_type": "stream",
     "text": [
      "0.0001\n",
      "(0.3456664008762522, 1.3461902564870874e-107)\n",
      "(0.3382546106483825, 7.856020905981929e-103)\n",
      "(0.0977251929170134, 1.4399691837997549e-09)\n",
      "(0.29801135390237576, 3.705821829839822e-79)\n",
      "(0.024670217302556308, 0.12748255741377168)\n",
      "1e-05\n",
      "(0.4232910270073057, 1.0235294326082957e-80)\n",
      "(0.4168894977754078, 4.146479272436648e-78)\n",
      "(0.1252330090786083, 7.300763097260265e-08)\n",
      "(0.3635434514270092, 1.8009184762082764e-58)\n",
      "(0.04125415827793011, 0.07718968886737394)\n",
      "1e-06\n",
      "(0.50030692793228, 1.3235987654956608e-69)\n",
      "(0.4957475372428376, 3.4838469248947443e-68)\n",
      "(0.16968185313301468, 1.956612348467934e-08)\n",
      "(0.43704013394810604, 1.0812892467843035e-51)\n",
      "(0.06978802933595976, 0.021690905805218718)\n",
      "1e-07\n",
      "(0.5282917609125022, 1.4435264058065224e-55)\n",
      "(0.5220613965210448, 4.40638975436704e-54)\n",
      "(0.18866717914484138, 1.7330259692487757e-07)\n",
      "(0.47839543632652703, 1.698913189034947e-44)\n",
      "(0.09901833831729295, 0.006435060045045102)\n",
      "1e-08\n",
      "(0.5664134092166404, 3.4191444652453627e-51)\n",
      "(0.5587947372054514, 1.367158847808639e-49)\n",
      "(0.23024369781616, 1.630079861402284e-08)\n",
      "(0.50837006279763, 5.785964965339597e-40)\n",
      "(0.1236010377032279, 0.0026794093754595075)\n",
      "1e-09\n",
      "(0.5907530863032388, 2.126609788708331e-43)\n",
      "(0.5808808043744651, 1.0881843950382424e-41)\n",
      "(0.2439717956253532, 1.7621147838647694e-07)\n",
      "(0.5339415174398064, 2.6186071361675365e-34)\n",
      "(0.1411103162605943, 0.0027895171981299417)\n"
     ]
    }
   ],
   "source": [
    "import scipy.stats\n",
    "chrombpnet = {}\n",
    "chrombpnet_unsigned = {}\n",
    "enformer = []\n",
    "enformer_unsigned = []\n",
    "enformer_sar = []\n",
    "enformer_unsigned_sar = []\n",
    "\n",
    "chrombpnet[\"ChromBPNet DNase (68M)\"] = []\n",
    "chrombpnet[\"ChromBPNet ATAC (572M)\"] = []\n",
    "chrombpnet[\"ChromBPNet ATAC (50M)\"] = []\n",
    "\n",
    "chrombpnet_unsigned[\"ChromBPNet DNase (68M)\"] = []\n",
    "chrombpnet_unsigned[\"ChromBPNet ATAC (572M)\"] = []\n",
    "chrombpnet_unsigned[\"ChromBPNet ATAC (50M)\"] = []\n",
    "\n",
    "for threshold in np.arange(4,10,1):\n",
    "    threshold = 1 / (10**(threshold))\n",
    "\n",
    "    print(threshold)\n",
    "    dataf = bqtls[(bqtls[\"obs.pval\"]<threshold)]\n",
    "        \n",
    "    pear = scipy.stats.pearsonr(dataf[\"pred.chrombpnet.encsr000emt.variantscore.logfc\"], dataf[\"obs.chiplogratio\"])\n",
    "    chrombpnet[\"ChromBPNet DNase (68M)\"].append(pear[0])\n",
    "    \n",
    "    pear = scipy.stats.pearsonr(abs(dataf[\"pred.chrombpnet.encsr000emt.variantscore.logfc\"]), abs(dataf[\"obs.chiplogratio\"]))\n",
    "    chrombpnet_unsigned[\"ChromBPNet DNase (68M)\"].append(pear[0])    \n",
    " \n",
    "    pear = scipy.stats.pearsonr(dataf[\"pred.chrombpnet.encsr637xsc.variantscore.logfc\"], dataf[\"obs.chiplogratio\"])\n",
    "    chrombpnet[\"ChromBPNet ATAC (572M)\"].append(pear[0])\n",
    "    print(pear)\n",
    "    \n",
    "    pear = scipy.stats.pearsonr(abs(dataf[\"pred.chrombpnet.encsr637xsc.variantscore.logfc\"]), abs(dataf[\"obs.chiplogratio\"]))\n",
    "    chrombpnet_unsigned[\"ChromBPNet ATAC (572M)\"].append(pear[0])    \n",
    "\n",
    "    pear = scipy.stats.pearsonr(dataf[\"pred.chrombpnet.encsr637xsc_50m.variantscore.logfc\"], dataf[\"obs.chiplogratio\"])\n",
    "    chrombpnet[\"ChromBPNet ATAC (50M)\"].append(pear[0])\n",
    "    print(pear)\n",
    "    \n",
    "    pear = scipy.stats.pearsonr(abs(dataf[\"pred.chrombpnet.encsr637xsc_50m.variantscore.logfc\"]), abs(dataf[\"obs.chiplogratio\"]))\n",
    "    chrombpnet_unsigned[\"ChromBPNet ATAC (50M)\"].append(pear[0])\n",
    "    print(pear)\n",
    "    \n",
    "    pear = scipy.stats.pearsonr(dataf[\"pred.enformer.encsr000emt.variantscore.local_logfc\"], dataf[\"obs.chiplogratio\"])\n",
    "    enformer.append(pear[0])\n",
    "    print(pear)\n",
    "    \n",
    "    pear = scipy.stats.pearsonr(abs(dataf[\"pred.enformer.encsr000emt.variantscore.local_logfc\"]), abs(dataf[\"obs.chiplogratio\"]))\n",
    "    enformer_unsigned.append(pear[0])\n",
    "    print(pear)\n",
    "\n",
    "    pear = scipy.stats.pearsonr(dataf[\"pred.enformer.encsr000emt.variantscore.global_sar\"], dataf[\"obs.chiplogratio\"])\n",
    "    enformer_sar.append(pear[0])\n",
    "    \n",
    "    pear = scipy.stats.pearsonr(abs(dataf[\"pred.enformer.encsr000emt.variantscore.global_sar\"]), abs(dataf[\"obs.chiplogratio\"]))\n",
    "    enformer_unsigned_sar.append(pear[0])\n"
   ]
  },
  {
   "cell_type": "code",
   "execution_count": 64,
   "metadata": {},
   "outputs": [
    {
     "data": {
      "image/png": "[encoded data removed]",
      "text/plain": [
       "<Figure size 432x360 with 1 Axes>"
      ]
     },
     "metadata": {
      "needs_background": "light"
     },
     "output_type": "display_data"
    }
   ],
   "source": [
    "fig, ax = plt.subplots(figsize=(6,5))\n",
    "\n",
    "colors = [\"blue\", \"blue\", \"C0\"]\n",
    "alphas= [0.5, 1.0, 1.0, 1.0] \n",
    "\n",
    "i=0\n",
    "for key in [\"ChromBPNet ATAC (572M)\", \"ChromBPNet ATAC (50M)\", \"ChromBPNet DNase (68M)\"]:\n",
    "    ax.scatter(np.arange(4,10,1).astype(str), chrombpnet[key], marker=\"^\", label=key, color=colors[i], alpha=alphas[i])\n",
    "    i+=1\n",
    "\n",
    "\n",
    "ax.scatter(np.arange(4,10,1).astype(str), enformer_sar ,  marker=\"^\", label=\"Enformer DNase SAR (68M)\", color=\"orange\")\n",
    "ax.scatter(np.arange(4,10,1).astype(str), enformer ,  marker=\"^\", label=\"Enformer DNase SAD (68M)\", color=\"green\")\n",
    "\n",
    "i=0\n",
    "for key in [\"ChromBPNet ATAC (572M)\", \"ChromBPNet ATAC (50M)\", \"ChromBPNet DNase (68M)\"]:\n",
    "    ax.scatter(np.arange(4,10,1).astype(str), chrombpnet_unsigned[key], marker=\"v\", label=\"unsign \"+key, color=colors[i], alpha=alphas[i])\n",
    "    i+=1\n",
    "    \n",
    "ax.scatter(np.arange(4,10,1).astype(str), enformer_unsigned_sar, marker=\"v\", label=\"unsign \" +\"Enformer DNase SAR (68M)\", color=\"orange\")\n",
    "ax.scatter(np.arange(4,10,1).astype(str), enformer_unsigned, marker=\"v\", label=\"unsign \" +\"Enformer DNase SAD (68M)\", color=\"green\")\n",
    "\n",
    "\n",
    "ax.spines[[\"top\", \"right\"]].set_visible(False)\n",
    "ax.set_xlabel(\"-log10BH\")\n",
    "ax.set_ylabel(\"Pearsonr\")\n",
    "#plt.legend(loc='upper right')\n",
    "\n",
    "# Shrink current axis by 20%\n",
    "box = ax.get_position()\n",
    "ax.set_position([box.x0, box.y0, box.width * 0.8, box.height])\n",
    "\n",
    "# Put a legend to the right of the current axis\n",
    "ax.legend(loc='center left', bbox_to_anchor=(1, 0.5))\n",
    "\n",
    "#plt.show()\n",
    "\n",
    "plt.savefig(\"subfigs/bqtls_pearsonr_compare.pdf\", transparent=True, dpi=300)\n",
    "\n"
   ]
  },
  {
   "cell_type": "code",
   "execution_count": 65,
   "metadata": {},
   "outputs": [
    {
     "name": "stdout",
     "output_type": "stream",
     "text": [
      "0.0001\n",
      "1e-05\n",
      "1e-06\n",
      "1e-07\n",
      "1e-08\n",
      "1e-09\n"
     ]
    }
   ],
   "source": [
    "import scipy.stats\n",
    "chrombpnet = {}\n",
    "chrombpnet_unsigned = {}\n",
    "enformer = []\n",
    "enformer_unsigned = []\n",
    "enformer_sar = []\n",
    "enformer_unsigned_sar = []\n",
    "\n",
    "chrombpnet[\"ChromBPNet DNase (68M)\"] = []\n",
    "chrombpnet[\"ChromBPNet ATAC (572M)\"] = []\n",
    "chrombpnet[\"ChromBPNet ATAC (50M)\"] = []\n",
    "\n",
    "chrombpnet_unsigned[\"ChromBPNet DNase (68M)\"] = []\n",
    "chrombpnet_unsigned[\"ChromBPNet ATAC (572M)\"] = []\n",
    "chrombpnet_unsigned[\"ChromBPNet ATAC (50M)\"] = []\n",
    "\n",
    "for threshold in np.arange(4,10,1):\n",
    "    threshold = 1 / (10**(threshold))\n",
    "\n",
    "    print(threshold)\n",
    "    dataf = bqtls[(bqtls[\"obs.pval\"]<threshold)]\n",
    "        \n",
    "    pear = scipy.stats.pearsonr(dataf[\"pred.chrombpnet.encsr000emt.variantscore.jsd\"], dataf[\"obs.chiplogratio\"])\n",
    "    chrombpnet[\"ChromBPNet DNase (68M)\"].append(pear[0])\n",
    "    \n",
    "    pear = scipy.stats.pearsonr(abs(dataf[\"pred.chrombpnet.encsr000emt.variantscore.jsd\"]), abs(dataf[\"obs.chiplogratio\"]))\n",
    "    chrombpnet_unsigned[\"ChromBPNet DNase (68M)\"].append(pear[0])    \n",
    " \n",
    "    pear = scipy.stats.pearsonr(dataf[\"pred.chrombpnet.encsr637xsc.variantscore.jsd\"], dataf[\"obs.chiplogratio\"])\n",
    "    chrombpnet[\"ChromBPNet ATAC (572M)\"].append(pear[0])\n",
    "    \n",
    "    pear = scipy.stats.pearsonr(abs(dataf[\"pred.chrombpnet.encsr637xsc.variantscore.jsd\"]), abs(dataf[\"obs.chiplogratio\"]))\n",
    "    chrombpnet_unsigned[\"ChromBPNet ATAC (572M)\"].append(pear[0])    \n",
    "\n",
    "    pear = scipy.stats.pearsonr(dataf[\"pred.chrombpnet.encsr637xsc_50m.variantscore.jsd\"], dataf[\"obs.chiplogratio\"])\n",
    "    chrombpnet[\"ChromBPNet ATAC (50M)\"].append(pear[0])\n",
    "    \n",
    "    pear = scipy.stats.pearsonr(abs(dataf[\"pred.chrombpnet.encsr637xsc_50m.variantscore.jsd\"]), abs(dataf[\"obs.chiplogratio\"]))\n",
    "    chrombpnet_unsigned[\"ChromBPNet ATAC (50M)\"].append(pear[0])\n",
    "    \n",
    "    pear = scipy.stats.pearsonr(dataf[\"pred.enformer.encsr000emt.variantscore.local_logfc\"], dataf[\"obs.chiplogratio\"])\n",
    "    enformer.append(pear[0])\n",
    "    \n",
    "    pear = scipy.stats.pearsonr(abs(dataf[\"pred.enformer.encsr000emt.variantscore.local_logfc\"]), abs(dataf[\"obs.chiplogratio\"]))\n",
    "    enformer_unsigned.append(pear[0])\n",
    "\n",
    "    pear = scipy.stats.pearsonr(dataf[\"pred.enformer.encsr000emt.variantscore.global_sar\"], dataf[\"obs.chiplogratio\"])\n",
    "    enformer_sar.append(pear[0])\n",
    "    \n",
    "    pear = scipy.stats.pearsonr(abs(dataf[\"pred.enformer.encsr000emt.variantscore.global_sar\"]), abs(dataf[\"obs.chiplogratio\"]))\n",
    "    enformer_unsigned_sar.append(pear[0])\n"
   ]
  },
  {
   "cell_type": "code",
   "execution_count": 66,
   "metadata": {},
   "outputs": [
    {
     "data": {
      "image/png": "[encoded data removed]",
      "text/plain": [
       "<Figure size 432x360 with 1 Axes>"
      ]
     },
     "metadata": {
      "needs_background": "light"
     },
     "output_type": "display_data"
    }
   ],
   "source": [
    "fig, ax = plt.subplots(figsize=(6,5))\n",
    "\n",
    "colors = [\"blue\", \"blue\", \"C0\"]\n",
    "alphas= [0.5, 1.0, 1.0, 1.0] \n",
    "\n",
    "i=0\n",
    "for key in [\"ChromBPNet ATAC (572M)\", \"ChromBPNet ATAC (50M)\", \"ChromBPNet DNase (68M)\"]:\n",
    "    ax.scatter(np.arange(4,10,1).astype(str), chrombpnet[key], marker=\"^\", label=key, color=colors[i], alpha=alphas[i])\n",
    "    i+=1\n",
    "\n",
    "\n",
    "# ax.scatter(np.arange(4,10,1).astype(str), enformer_sar ,  marker=\"^\", label=\"Enformer DNase SAR (68M)\", color=\"orange\")\n",
    "# ax.scatter(np.arange(4,10,1).astype(str), enformer ,  marker=\"^\", label=\"Enformer DNase SAD (68M)\", color=\"green\")\n",
    "\n",
    "i=0\n",
    "for key in [\"ChromBPNet ATAC (572M)\", \"ChromBPNet ATAC (50M)\", \"ChromBPNet DNase (68M)\"]:\n",
    "    ax.scatter(np.arange(4,10,1).astype(str), chrombpnet_unsigned[key], marker=\"v\", label=\"unsign \"+key, color=colors[i], alpha=alphas[i])\n",
    "    i+=1\n",
    "    \n",
    "# ax.scatter(np.arange(4,10,1).astype(str), enformer_unsigned_sar, marker=\"v\", label=\"unsign \" +\"Enformer DNase SAR (68M)\", color=\"orange\")\n",
    "# ax.scatter(np.arange(4,10,1).astype(str), enformer_unsigned, marker=\"v\", label=\"unsign \" +\"Enformer DNase SAD (68M)\", color=\"green\")\n",
    "\n",
    "\n",
    "ax.spines[[\"top\", \"right\"]].set_visible(False)\n",
    "ax.set_xlabel(\"-log10BH\")\n",
    "ax.set_ylabel(\"Pearsonr\")\n",
    "#plt.legend(loc='upper right')\n",
    "\n",
    "# Shrink current axis by 20%\n",
    "box = ax.get_position()\n",
    "ax.set_position([box.x0, box.y0, box.width * 0.8, box.height])\n",
    "\n",
    "# Put a legend to the right of the current axis\n",
    "ax.legend(loc='center left', bbox_to_anchor=(1, 0.5))\n",
    "\n",
    "#plt.show()\n",
    "\n",
    "plt.savefig(\"subfigs/bqtls_pearsonr_compare_jsd.pdf\", transparent=True, dpi=300)\n",
    "\n"
   ]
  },
  {
   "cell_type": "code",
   "execution_count": 67,
   "metadata": {},
   "outputs": [
    {
     "name": "stdout",
     "output_type": "stream",
     "text": [
      "['n: 196', 'n: 408', 'n: 437', 'n: 1374', 'n: 9765', 'n: 139245', 'n: 200408', 'n: 319347', 'n: 328619']\n"
     ]
    },
    {
     "data": {
      "image/png": "[encoded data removed]",
      "text/plain": [
       "<Figure size 432x288 with 1 Axes>"
      ]
     },
     "metadata": {
      "needs_background": "light"
     },
     "output_type": "display_data"
    }
   ],
   "source": [
    "bqtls = full_bqtls\n",
    "bins = np.array(np.arange(0,5e-9,5e-8).tolist() + [1e-2,0.1,1.0])\n",
    "bins = [-0.001,1e-11,1e-9, 1e-7, 1e-5,1e-3,1e-1,0.5,0.9,1.0 ]\n",
    "bqtls['value_group'] = pd.cut(bqtls[\"obs.pval\"].astype(np.float64), bins=bins)\n",
    "bqtls['abs_logfc'] = abs(bqtls['pred.chrombpnet.encsr637xsc.variantscore.logfc'])\n",
    "ax = sns.boxplot(x=\"value_group\", y=\"abs_logfc\", data=bqtls, showfliers=False)\n",
    "plt.xticks(rotation=45)\n",
    "medians = bqtls.groupby(['value_group'])['abs_logfc'].median().values\n",
    "nobs= bqtls['value_group'].value_counts().values[::-1]\n",
    "nobs = [str(x) for x in nobs.tolist()]\n",
    "nobs = [\"n: \" + i for i in nobs] \n",
    "print(nobs)\n",
    "pos = range(len(nobs))\n",
    "for tick,label in zip(pos,ax.get_yticklabels()):\n",
    "    ax.text(tick+0.1,medians[tick]+0.9,nobs[tick],color='black', verticalalignment = \"bottom\",rotation=90)\n",
    "sns.despine()\n",
    "ax.set(xlabel='p-value intervals', ylabel='Predicted')\n",
    "\n",
    "plt.savefig(\"subfigs/bqtls_predicted_bins_atac.pdf\", transparent=True, dpi=300)\n"
   ]
  },
  {
   "cell_type": "code",
   "execution_count": 68,
   "metadata": {},
   "outputs": [
    {
     "name": "stdout",
     "output_type": "stream",
     "text": [
      "['n: 196', 'n: 408', 'n: 437', 'n: 1374', 'n: 9765', 'n: 139245', 'n: 200408', 'n: 319347', 'n: 328619']\n"
     ]
    },
    {
     "data": {
      "image/png": "[encoded data removed]",
      "text/plain": [
       "<Figure size 432x288 with 1 Axes>"
      ]
     },
     "metadata": {
      "needs_background": "light"
     },
     "output_type": "display_data"
    }
   ],
   "source": [
    "bins = np.array(np.arange(0,5e-9,5e-8).tolist() + [1e-2,0.1,1.0])\n",
    "bins = [-0.001,1e-11,1e-9, 1e-7, 1e-5,1e-3,1e-1,0.5,0.9,1.0 ]\n",
    "bqtls['value_group'] = pd.cut(bqtls[\"obs.pval\"].astype(np.float64), bins=bins)\n",
    "bqtls['abs_logfc'] = abs(bqtls['pred.chrombpnet.encsr637xsc.variantscore.jsd'])\n",
    "ax = sns.boxplot(x=\"value_group\", y=\"abs_logfc\", data=bqtls, showfliers=False)\n",
    "plt.xticks(rotation=45)\n",
    "medians = bqtls.groupby(['value_group'])['abs_logfc'].median().values\n",
    "nobs= bqtls['value_group'].value_counts().values[::-1]\n",
    "nobs = [str(x) for x in nobs.tolist()]\n",
    "nobs = [\"n: \" + i for i in nobs] \n",
    "print(nobs)\n",
    "pos = range(len(nobs))\n",
    "for tick,label in zip(pos,ax.get_yticklabels()):\n",
    "    ax.text(tick+0.1,medians[tick]+0.07,nobs[tick],color='black', verticalalignment = \"bottom\",rotation=90)\n",
    "sns.despine()\n",
    "ax.set(xlabel='p-value intervals', ylabel='Predicted')\n",
    "\n",
    "plt.savefig(\"subfigs/bqtls_predicted_bins_atac_jsd.pdf\", transparent=True, dpi=300)\n"
   ]
  },
  {
   "cell_type": "code",
   "execution_count": 69,
   "metadata": {},
   "outputs": [
    {
     "name": "stdout",
     "output_type": "stream",
     "text": [
      "['n: 196', 'n: 408', 'n: 437', 'n: 1374', 'n: 9765', 'n: 139245', 'n: 200408', 'n: 319347', 'n: 328619']\n"
     ]
    },
    {
     "data": {
      "image/png": "[encoded data removed]",
      "text/plain": [
       "<Figure size 432x288 with 1 Axes>"
      ]
     },
     "metadata": {
      "needs_background": "light"
     },
     "output_type": "display_data"
    }
   ],
   "source": [
    "bins = np.array(np.arange(0,5e-9,5e-8).tolist() + [1e-2,0.1,1.0])\n",
    "bins = [-0.001,1e-11,1e-9, 1e-7, 1e-5,1e-3,1e-1,0.5,0.9,1.0 ]\n",
    "bqtls['value_group'] = pd.cut(bqtls[\"obs.pval\"].astype(np.float64), bins=bins)\n",
    "bqtls['abs_logfc'] = abs(bqtls['pred.chrombpnet.encsr000emt.variantscore.logfc'])\n",
    "ax = sns.boxplot(x=\"value_group\", y=\"abs_logfc\", data=bqtls, showfliers=False)\n",
    "plt.xticks(rotation=45)\n",
    "medians = bqtls.groupby(['value_group'])['abs_logfc'].median().values\n",
    "nobs= bqtls['value_group'].value_counts().values[::-1]\n",
    "nobs = [str(x) for x in nobs.tolist()]\n",
    "nobs = [\"n: \" + i for i in nobs] \n",
    "print(nobs)\n",
    "pos = range(len(nobs))\n",
    "for tick,label in zip(pos,ax.get_yticklabels()):\n",
    "    ax.text(tick+0.1,medians[tick]+0.9,nobs[tick],color='black', verticalalignment = \"bottom\",rotation=90)\n",
    "sns.despine()\n",
    "ax.set(xlabel='p-value intervals', ylabel='Predicted')\n",
    "\n",
    "plt.savefig(\"subfigs/bqtls_predicted_bins_dnase.pdf\", transparent=True, dpi=300)\n"
   ]
  },
  {
   "cell_type": "code",
   "execution_count": 70,
   "metadata": {},
   "outputs": [
    {
     "name": "stdout",
     "output_type": "stream",
     "text": [
      "['n: 196', 'n: 408', 'n: 437', 'n: 1374', 'n: 9765', 'n: 139245', 'n: 200408', 'n: 319347', 'n: 328619']\n"
     ]
    },
    {
     "data": {
      "image/png": "[encoded data removed]",
      "text/plain": [
       "<Figure size 432x288 with 1 Axes>"
      ]
     },
     "metadata": {
      "needs_background": "light"
     },
     "output_type": "display_data"
    }
   ],
   "source": [
    "bins = np.array(np.arange(0,5e-9,5e-8).tolist() + [1e-2,0.1,1.0])\n",
    "bins = [-0.001,1e-11,1e-9, 1e-7, 1e-5,1e-3,1e-1,0.5,0.9,1.0 ]\n",
    "bqtls['value_group'] = pd.cut(bqtls[\"obs.pval\"].astype(np.float64), bins=bins)\n",
    "bqtls['abs_logfc'] = abs(bqtls['pred.chrombpnet.encsr000emt.variantscore.jsd'])\n",
    "ax = sns.boxplot(x=\"value_group\", y=\"abs_logfc\", data=bqtls, showfliers=False)\n",
    "plt.xticks(rotation=45)\n",
    "medians = bqtls.groupby(['value_group'])['abs_logfc'].median().values\n",
    "nobs= bqtls['value_group'].value_counts().values[::-1]\n",
    "nobs = [str(x) for x in nobs.tolist()]\n",
    "nobs = [\"n: \" + i for i in nobs] \n",
    "print(nobs)\n",
    "pos = range(len(nobs))\n",
    "for tick,label in zip(pos,ax.get_yticklabels()):\n",
    "    ax.text(tick+0.1,medians[tick]+0.9,nobs[tick],color='black', verticalalignment = \"bottom\",rotation=90)\n",
    "sns.despine()\n",
    "ax.set(xlabel='p-value intervals', ylabel='Predicted')\n",
    "\n",
    "plt.savefig(\"subfigs/bqtls_predicted_bins_dnase_jsd.pdf\", transparent=True, dpi=300)\n"
   ]
  },
  {
   "cell_type": "code",
   "execution_count": 71,
   "metadata": {},
   "outputs": [
    {
     "name": "stdout",
     "output_type": "stream",
     "text": [
      "['n: 196', 'n: 408', 'n: 437', 'n: 1374', 'n: 9765', 'n: 139245', 'n: 200408', 'n: 319347', 'n: 328619']\n"
     ]
    },
    {
     "data": {
      "image/png": "[encoded data removed]",
      "text/plain": [
       "<Figure size 432x288 with 1 Axes>"
      ]
     },
     "metadata": {
      "needs_background": "light"
     },
     "output_type": "display_data"
    }
   ],
   "source": [
    "\n",
    "bqtls[\"abs_logratio\"] = abs(bqtls[\"obs.chiplogratio\"])\n",
    "bins = np.array(np.arange(0,5e-9,5e-8).tolist() + [1e-2,0.1,1.0])\n",
    "bins = [-0.001,1e-11,1e-9, 1e-7, 1e-5,1e-3,1e-1,0.5,0.9,1.0 ]\n",
    "bqtls['value_group'] = pd.cut(bqtls[\"obs.pval\"].astype(np.float64), bins=bins)\n",
    "ax = sns.boxplot(x=\"value_group\", y=\"abs_logratio\", data=bqtls, showfliers=False)\n",
    "plt.xticks(rotation=45)\n",
    "medians = bqtls.groupby(['value_group'])['abs_logratio'].median().values\n",
    "nobs= bqtls['value_group'].value_counts().values[::-1]\n",
    "nobs = [str(x) for x in nobs.tolist()]\n",
    "nobs = [\"n: \" + i for i in nobs] \n",
    "print(nobs)\n",
    "pos = range(len(nobs))\n",
    "for tick,label in zip(pos,ax.get_yticklabels()):\n",
    "    ax.text(tick+0.1,medians[tick]+0.9,nobs[tick],color='black', verticalalignment = \"bottom\",rotation=90)\n",
    "sns.despine()\n",
    "ax.set(xlabel='p-value intervals', ylabel='Predicted')\n",
    "\n",
    "plt.savefig(\"subfigs/bqtls_obs_bins.pdf\", transparent=True, dpi=300)\n"
   ]
  },
  {
   "cell_type": "code",
   "execution_count": 72,
   "metadata": {},
   "outputs": [
    {
     "ename": "KeyError",
     "evalue": "'pvalue'",
     "output_type": "error",
     "traceback": [
      "\u001b[0;31m---------------------------------------------------------------------------\u001b[0m",
      "\u001b[0;31mKeyError\u001b[0m                                  Traceback (most recent call last)",
      "\u001b[0;32m~/anaconda3/lib/python3.7/site-packages/pandas/core/indexes/base.py\u001b[0m in \u001b[0;36mget_loc\u001b[0;34m(self, key, method, tolerance)\u001b[0m\n\u001b[1;32m   3360\u001b[0m             \u001b[0;32mtry\u001b[0m\u001b[0;34m:\u001b[0m\u001b[0;34m\u001b[0m\u001b[0;34m\u001b[0m\u001b[0m\n\u001b[0;32m-> 3361\u001b[0;31m                 \u001b[0;32mreturn\u001b[0m \u001b[0mself\u001b[0m\u001b[0;34m.\u001b[0m\u001b[0m_engine\u001b[0m\u001b[0;34m.\u001b[0m\u001b[0mget_loc\u001b[0m\u001b[0;34m(\u001b[0m\u001b[0mcasted_key\u001b[0m\u001b[0;34m)\u001b[0m\u001b[0;34m\u001b[0m\u001b[0;34m\u001b[0m\u001b[0m\n\u001b[0m\u001b[1;32m   3362\u001b[0m             \u001b[0;32mexcept\u001b[0m \u001b[0mKeyError\u001b[0m \u001b[0;32mas\u001b[0m \u001b[0merr\u001b[0m\u001b[0;34m:\u001b[0m\u001b[0;34m\u001b[0m\u001b[0;34m\u001b[0m\u001b[0m\n",
      "\u001b[0;32m~/anaconda3/lib/python3.7/site-packages/pandas/_libs/index.pyx\u001b[0m in \u001b[0;36mpandas._libs.index.IndexEngine.get_loc\u001b[0;34m()\u001b[0m\n",
      "\u001b[0;32m~/anaconda3/lib/python3.7/site-packages/pandas/_libs/index.pyx\u001b[0m in \u001b[0;36mpandas._libs.index.IndexEngine.get_loc\u001b[0;34m()\u001b[0m\n",
      "\u001b[0;32mpandas/_libs/hashtable_class_helper.pxi\u001b[0m in \u001b[0;36mpandas._libs.hashtable.PyObjectHashTable.get_item\u001b[0;34m()\u001b[0m\n",
      "\u001b[0;32mpandas/_libs/hashtable_class_helper.pxi\u001b[0m in \u001b[0;36mpandas._libs.hashtable.PyObjectHashTable.get_item\u001b[0;34m()\u001b[0m\n",
      "\u001b[0;31mKeyError\u001b[0m: 'pvalue'",
      "\nThe above exception was the direct cause of the following exception:\n",
      "\u001b[0;31mKeyError\u001b[0m                                  Traceback (most recent call last)",
      "\u001b[0;32m<ipython-input-72-aad1b788407c>\u001b[0m in \u001b[0;36m<module>\u001b[0;34m\u001b[0m\n\u001b[0;32m----> 1\u001b[0;31m \u001b[0msum\u001b[0m\u001b[0;34m(\u001b[0m\u001b[0mbqtls\u001b[0m\u001b[0;34m[\u001b[0m\u001b[0;34m\"pvalue\"\u001b[0m\u001b[0;34m]\u001b[0m\u001b[0;34m<\u001b[0m\u001b[0;36m1e-9\u001b[0m\u001b[0;34m)\u001b[0m\u001b[0;34m\u001b[0m\u001b[0;34m\u001b[0m\u001b[0m\n\u001b[0m",
      "\u001b[0;32m~/anaconda3/lib/python3.7/site-packages/pandas/core/frame.py\u001b[0m in \u001b[0;36m__getitem__\u001b[0;34m(self, key)\u001b[0m\n\u001b[1;32m   3456\u001b[0m             \u001b[0;32mif\u001b[0m \u001b[0mself\u001b[0m\u001b[0;34m.\u001b[0m\u001b[0mcolumns\u001b[0m\u001b[0;34m.\u001b[0m\u001b[0mnlevels\u001b[0m \u001b[0;34m>\u001b[0m \u001b[0;36m1\u001b[0m\u001b[0;34m:\u001b[0m\u001b[0;34m\u001b[0m\u001b[0;34m\u001b[0m\u001b[0m\n\u001b[1;32m   3457\u001b[0m                 \u001b[0;32mreturn\u001b[0m \u001b[0mself\u001b[0m\u001b[0;34m.\u001b[0m\u001b[0m_getitem_multilevel\u001b[0m\u001b[0;34m(\u001b[0m\u001b[0mkey\u001b[0m\u001b[0;34m)\u001b[0m\u001b[0;34m\u001b[0m\u001b[0;34m\u001b[0m\u001b[0m\n\u001b[0;32m-> 3458\u001b[0;31m             \u001b[0mindexer\u001b[0m \u001b[0;34m=\u001b[0m \u001b[0mself\u001b[0m\u001b[0;34m.\u001b[0m\u001b[0mcolumns\u001b[0m\u001b[0;34m.\u001b[0m\u001b[0mget_loc\u001b[0m\u001b[0;34m(\u001b[0m\u001b[0mkey\u001b[0m\u001b[0;34m)\u001b[0m\u001b[0;34m\u001b[0m\u001b[0;34m\u001b[0m\u001b[0m\n\u001b[0m\u001b[1;32m   3459\u001b[0m             \u001b[0;32mif\u001b[0m \u001b[0mis_integer\u001b[0m\u001b[0;34m(\u001b[0m\u001b[0mindexer\u001b[0m\u001b[0;34m)\u001b[0m\u001b[0;34m:\u001b[0m\u001b[0;34m\u001b[0m\u001b[0;34m\u001b[0m\u001b[0m\n\u001b[1;32m   3460\u001b[0m                 \u001b[0mindexer\u001b[0m \u001b[0;34m=\u001b[0m \u001b[0;34m[\u001b[0m\u001b[0mindexer\u001b[0m\u001b[0;34m]\u001b[0m\u001b[0;34m\u001b[0m\u001b[0;34m\u001b[0m\u001b[0m\n",
      "\u001b[0;32m~/anaconda3/lib/python3.7/site-packages/pandas/core/indexes/base.py\u001b[0m in \u001b[0;36mget_loc\u001b[0;34m(self, key, method, tolerance)\u001b[0m\n\u001b[1;32m   3361\u001b[0m                 \u001b[0;32mreturn\u001b[0m \u001b[0mself\u001b[0m\u001b[0;34m.\u001b[0m\u001b[0m_engine\u001b[0m\u001b[0;34m.\u001b[0m\u001b[0mget_loc\u001b[0m\u001b[0;34m(\u001b[0m\u001b[0mcasted_key\u001b[0m\u001b[0;34m)\u001b[0m\u001b[0;34m\u001b[0m\u001b[0;34m\u001b[0m\u001b[0m\n\u001b[1;32m   3362\u001b[0m             \u001b[0;32mexcept\u001b[0m \u001b[0mKeyError\u001b[0m \u001b[0;32mas\u001b[0m \u001b[0merr\u001b[0m\u001b[0;34m:\u001b[0m\u001b[0;34m\u001b[0m\u001b[0;34m\u001b[0m\u001b[0m\n\u001b[0;32m-> 3363\u001b[0;31m                 \u001b[0;32mraise\u001b[0m \u001b[0mKeyError\u001b[0m\u001b[0;34m(\u001b[0m\u001b[0mkey\u001b[0m\u001b[0;34m)\u001b[0m \u001b[0;32mfrom\u001b[0m \u001b[0merr\u001b[0m\u001b[0;34m\u001b[0m\u001b[0;34m\u001b[0m\u001b[0m\n\u001b[0m\u001b[1;32m   3364\u001b[0m \u001b[0;34m\u001b[0m\u001b[0m\n\u001b[1;32m   3365\u001b[0m         \u001b[0;32mif\u001b[0m \u001b[0mis_scalar\u001b[0m\u001b[0;34m(\u001b[0m\u001b[0mkey\u001b[0m\u001b[0;34m)\u001b[0m \u001b[0;32mand\u001b[0m \u001b[0misna\u001b[0m\u001b[0;34m(\u001b[0m\u001b[0mkey\u001b[0m\u001b[0;34m)\u001b[0m \u001b[0;32mand\u001b[0m \u001b[0;32mnot\u001b[0m \u001b[0mself\u001b[0m\u001b[0;34m.\u001b[0m\u001b[0mhasnans\u001b[0m\u001b[0;34m:\u001b[0m\u001b[0;34m\u001b[0m\u001b[0;34m\u001b[0m\u001b[0m\n",
      "\u001b[0;31mKeyError\u001b[0m: 'pvalue'"
     ]
    }
   ],
   "source": [
    "sum(bqtls[\"pvalue\"]<1e-9)"
   ]
  },
  {
   "cell_type": "code",
   "execution_count": null,
   "metadata": {},
   "outputs": [],
   "source": [
    " bqtls['value_group'].value_counts()"
   ]
  },
  {
   "cell_type": "code",
   "execution_count": null,
   "metadata": {},
   "outputs": [],
   "source": [
    "bqtls.shape"
   ]
  },
  {
   "cell_type": "code",
   "execution_count": null,
   "metadata": {},
   "outputs": [],
   "source": [
    "bins = [0,1e-11,1e-9, 1e-7, 1e-5,1e-3,1e-1,0.5,0.9,1.0 ]\n",
    "\n",
    "pd.cut(bqtls[\"pvalue\"].astype(np.float64), bins=bins)"
   ]
  },
  {
   "cell_type": "code",
   "execution_count": null,
   "metadata": {},
   "outputs": [],
   "source": [
    "sum(bqtls[\"pvalue\"]<1e-9)"
   ]
  },
  {
   "cell_type": "code",
   "execution_count": null,
   "metadata": {},
   "outputs": [],
   "source": [
    "bqtls[\"pvalue\"]"
   ]
  },
  {
   "cell_type": "code",
   "execution_count": null,
   "metadata": {},
   "outputs": [],
   "source": []
  },
  {
   "cell_type": "code",
   "execution_count": null,
   "metadata": {},
   "outputs": [],
   "source": []
  },
  {
   "cell_type": "code",
   "execution_count": null,
   "metadata": {},
   "outputs": [],
   "source": []
  }
 ],
 "metadata": {
  "kernelspec": {
   "display_name": "Python 3",
   "language": "python",
   "name": "python3"
  },
  "language_info": {
   "codemirror_mode": {
    "name": "ipython",
    "version": 3
   },
   "file_extension": ".py",
   "mimetype": "text/x-python",
   "name": "python",
   "nbconvert_exporter": "python",
   "pygments_lexer": "ipython3",
   "version": "3.7.6"
  }
 },
 "nbformat": 4,
 "nbformat_minor": 4
}
